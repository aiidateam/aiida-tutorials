{
 "cells": [
  {
   "cell_type": "markdown",
   "metadata": {},
   "source": [
    "# AiiDA's QueryBuilder"
   ]
  },
  {
   "cell_type": "markdown",
   "metadata": {},
   "source": [
    "*Import statements - make sure to execute the cell below this one (it may be hidden)*"
   ]
  },
  {
   "cell_type": "code",
   "execution_count": null,
   "metadata": {
    "hide_input": false
   },
   "outputs": [],
   "source": [
    "from IPython.display import Image\n",
    "from datetime import datetime, timedelta\n",
    "import numpy as np\n",
    "from aiida import load_profile\n",
    "from matplotlib import gridspec, pyplot as plt\n",
    "load_profile()\n",
    "from aiida.orm import load_node, Node, Group, Computer, User, CalcJobNode, Code\n",
    "from aiida.plugins import CalculationFactory, DataFactory\n",
    "\n",
    "PwCalculation = CalculationFactory('quantumespresso.pw')\n",
    "StructureData = DataFactory('structure')\n",
    "KpointsData = DataFactory('array.kpoints')\n",
    "Dict = DataFactory('dict')\n",
    "UpfData = DataFactory('upf')\n",
    "\n",
    "def plot_results(query_res):\n",
    "    \"\"\"\n",
    "    :param query_res: The result of an instance of the QueryBuilder\n",
    "    \"\"\"\n",
    "    smearing_unit_set,magnetization_unit_set,pseudo_family_set = set(), set(), set()\n",
    "    # Storing results:\n",
    "    results_dict = {}\n",
    "    for pseudo_family, formula, smearing, smearing_units, mag, mag_units in query_res:\n",
    "        if formula not in results_dict:\n",
    "            results_dict[formula] = {}\n",
    "        # Storing the results:\n",
    "        results_dict[formula][pseudo_family] = (smearing, mag)\n",
    "        # Adding to the unit set:\n",
    "        smearing_unit_set.add(smearing_units)\n",
    "        magnetization_unit_set.add(mag_units)\n",
    "        pseudo_family_set.add(pseudo_family)\n",
    "\n",
    "    # Sorting by formula:\n",
    "    sorted_results = sorted(results_dict.items())\n",
    "    formula_list = next(zip(*sorted_results))\n",
    "    nr_of_results = len(formula_list)\n",
    "\n",
    "    # Checks that I have not more than 3 pseudo families.\n",
    "    # If more are needed, define more colors\n",
    "    #pseudo_list = list(pseudo_family_set)\n",
    "    if len(pseudo_family_set) > 3:\n",
    "        raise Exception('I was expecting 3 or less pseudo families')\n",
    "\n",
    "    colors = ['b', 'r', 'g']\n",
    "\n",
    "    # Plotting:\n",
    "    plt.clf()\n",
    "    fig=plt.figure(figsize=(16, 9), facecolor='w', edgecolor=None)\n",
    "    gs  = gridspec.GridSpec(2,1, hspace=0.01, left=0.1, right=0.94)\n",
    "\n",
    "    # Defining barwidth\n",
    "    barwidth = 1. / (len(pseudo_family_set)+1)\n",
    "    offset = [-0.5+(0.5+n)*barwidth for n in range(len(pseudo_family_set))]\n",
    "    # Axing labels with units:\n",
    "    yaxis = (\"Smearing energy [{}]\".format(smearing_unit_set.pop()),\n",
    "        \"Total magnetization [{}]\".format(magnetization_unit_set.pop()))\n",
    "    # If more than one unit was specified, I will exit:\n",
    "    if smearing_unit_set:\n",
    "        raise ValueError('Found different units for smearing')\n",
    "    if magnetization_unit_set:\n",
    "        raise ValueError('Found different units for magnetization')\n",
    "    \n",
    "    # Making two plots, the top one for the smearing, the bottom one for the magnetization\n",
    "    for index in range(2):\n",
    "        ax=fig.add_subplot(gs[index])\n",
    "        for i,pseudo_family in enumerate(pseudo_family_set):\n",
    "            X = np.arange(nr_of_results)+offset[i]\n",
    "            Y = np.array([thisres[1][pseudo_family][index] for thisres in sorted_results])\n",
    "            ax.bar(X, Y,  width=0.2, facecolor=colors[i], edgecolor=colors[i], label=pseudo_family)\n",
    "        ax.set_ylabel(yaxis[index], fontsize=14, labelpad=15*index+5)\n",
    "        ax.set_xlim(-0.5, nr_of_results-0.5)\n",
    "        ax.set_xticks(np.arange(nr_of_results))\n",
    "        if index == 0:\n",
    "            plt.setp(ax.get_yticklabels()[0], visible=False)\n",
    "            ax.xaxis.tick_top()\n",
    "            ax.legend(loc=3, prop={'size': 18})\n",
    "        else:\n",
    "            plt.setp(ax.get_yticklabels()[-1], visible=False)\n",
    "        for i in range(0, nr_of_results, 2):\n",
    "            ax.axvspan(i-0.5, i+0.5, facecolor='y', alpha=0.2)\n",
    "        ax.set_xticklabels(list(formula_list),rotation=90, size=14, ha='center')\n",
    "    plt.show()\n",
    "\n",
    "def generate_query_graph(qh, out_file_name):\n",
    "\n",
    "    def draw_vertice_settings(idx, vertice, **kwargs):\n",
    "        \"\"\"\n",
    "        Returns a string with all infos needed in a .dot file  to define a node of a graph.\n",
    "        :param node:\n",
    "        :param kwargs: Additional key-value pairs to be added to the returned string\n",
    "        :return: a string\n",
    "        \"\"\"\n",
    "        if vertice['entity_type'].startswith('process'):\n",
    "            shape = \"shape=polygon,sides=4\"\n",
    "        elif vertice['entity_type'].startswith('data.code'):\n",
    "            shape = \"shape=diamond\"\n",
    "        else:\n",
    "            shape = \"shape=ellipse\"\n",
    "        filters = kwargs.pop('filters', None)\n",
    "        additional_string = \"\"\n",
    "        if filters:\n",
    "            additional_string += '\\nFilters:'\n",
    "            for k,v in filters.items():\n",
    "                additional_string += \"\\n   {} : {}\".format(k,v)\n",
    "\n",
    "\n",
    "        label_string = \" ('{}')\".format(vertice['tag'])\n",
    "\n",
    "        labelstring = 'label=\"{} {}{}\"'.format(\n",
    "            vertice['entity_type'], #.split('.')[-2] or 'Node',\n",
    "            label_string,\n",
    "            additional_string)\n",
    "        #~ return \"N{} [{},{}{}];\".format(idx, shape, labelstring,\n",
    "        return \"{} [{},{}];\".format(vertice['tag'], shape, labelstring)\n",
    "    nodes = {v['tag']:draw_vertice_settings(idx, v, filters=qh['filters'][v['tag']]) for idx, v in enumerate(qh['path'])}\n",
    "    links = [(v['tag'], v['joining_value'], v['joining_keyword']) for v in qh['path'][1:]]\n",
    "\n",
    "    with open('temp.dot','w') as fout:\n",
    "        fout.write(\"digraph G {\\n\")\n",
    "        for l in links:\n",
    "            fout.write('    {} -> {} [label=\" {}\"];\\n'.format(*l))\n",
    "        for _, n_values in nodes.items():\n",
    "            fout.write(\"    {}\\n\".format(n_values))\n",
    "\n",
    "        fout.write(\"}\\n\")\n",
    "    import os\n",
    "    os.system('dot temp.dot -Tpng -o {}'.format(out_file_name))\n",
    "\n",
    "def store_formula_in_extra():\n",
    "    from aiida.orm import QueryBuilder\n",
    "    qb = QueryBuilder()\n",
    "    qb.append(StructureData, filters={'extras':{'!has_key':'formula'}})\n",
    "    for structure, in qb.all():\n",
    "        structure.set_extra('formula', structure.get_formula(mode='count'))\n",
    "\n",
    "store_formula_in_extra()"
   ]
  },
  {
   "cell_type": "markdown",
   "metadata": {},
   "source": [
    "# Introduction to the QueryBuilder\n",
    "As you will use `AiiDA` to run your calculations, the database that stores all the data and the provenance will quickly grow to be very large. To help you find the needle that you might be looking for in this big haystack, we need an efficient search tool. `AiiDA` provides a tool to do exactly this: the `QueryBuilder`. The `QueryBuilder` acts as the gatekeeper to your database, to whom you can ask questions about the contents of your database (also referred to as queries), by specifying what are looking for. In this part of the tutorial, we will focus on how to use the `QueryBuilder` to make these queries and understand/use the results.\n",
    "\n",
    "In order to use the `QueryBuilder`, we first need to import it. We can accomplish this by executing the `import` statement in the following cell. Go ahead and select the next cell, and press `Shift+Enter`."
   ]
  },
  {
   "cell_type": "code",
   "execution_count": null,
   "metadata": {},
   "outputs": [],
   "source": [
    "from aiida.orm import QueryBuilder"
   ]
  },
  {
   "cell_type": "markdown",
   "metadata": {},
   "source": [
    "Before we can ask the `QueryBuilder` questions about our database, we first need to create an instance of it (i.e., we create a new query):"
   ]
  },
  {
   "cell_type": "code",
   "execution_count": null,
   "metadata": {},
   "outputs": [],
   "source": [
    "qb = QueryBuilder()"
   ]
  },
  {
   "cell_type": "markdown",
   "metadata": {},
   "source": [
    "Now that we have an instance of our `QueryBuilder` which we named `qb`, we are ready to start asking about the content of our database. For example, we may want to know exactly how many nodes there are in our database. To tell `qb` that we are interested in all the occurrences of the `Node` class in our database, we `append` it to the list of objects it should find. \n",
    "\n",
    "*Note*: The method is called `append` because, as we will see later, you can append multiple nodes to a `QueryBuilder` instance consecutively to search in the graph, as if you had a list: what we are doing is querying a graph, and for every vertice of the graph in our subquery, we will use one `append` call. But we'll see this use better in a few steps."
   ]
  },
  {
   "cell_type": "code",
   "execution_count": null,
   "metadata": {},
   "outputs": [],
   "source": [
    "qb.append(Node)"
   ]
  },
  {
   "cell_type": "markdown",
   "metadata": {},
   "source": [
    "We have now narrowed down the scope of `qb` to just the nodes that are present in our database. To learn how many nodes there are exactly, all we have to do is to ask `qb` to count them."
   ]
  },
  {
   "cell_type": "code",
   "execution_count": null,
   "metadata": {},
   "outputs": [],
   "source": [
    "qb.count()"
   ]
  },
  {
   "cell_type": "markdown",
   "metadata": {},
   "source": [
    "Now as you may have learned in previous sections of the tutorial, nodes come in different kinds and flavors. For example, all our crystal structures that we have stored in the database are saved in nodes that are of the type `StructureData`. If instead of all the nodes, we would rather like to count only the crystal structure nodes, we simply tell our `QueryBuilder` to narrow its scope only to objects of type `StructureData`. Since we want to create a new independent query, we must create a new instance of the `QueryBuilder`. In the next cell, we have typed part of the code to count all the structure nodes. See if you can finish the line with the comment, to tell the `QueryBuilder` that you are only interested in `StructureData` nodes."
   ]
  },
  {
   "cell_type": "code",
   "execution_count": null,
   "metadata": {},
   "outputs": [],
   "source": [
    "#TUT_USER_START\n",
    "qb = QueryBuilder()\n",
    "qb.append() # How do we finish this line to tell the query builder to count only the structure nodes?\n",
    "qb.count()\n",
    "#TUT_USER_END\n",
    "#TUT_SOLUTION_START\n",
    "qb = QueryBuilder()\n",
    "qb.append(StructureData)\n",
    "qb.count()\n",
    "#TUT_SOLUTION_END"
   ]
  },
  {
   "cell_type": "markdown",
   "metadata": {},
   "source": [
    "Instead of just counting how many structure nodes we have, we may also actually want to see some of them. This is as easy as telling our `QueryBuilder` that we are not interested in the `count` but rather that we want to retrieve `all` the nodes."
   ]
  },
  {
   "cell_type": "code",
   "execution_count": null,
   "metadata": {},
   "outputs": [],
   "source": [
    "qb = QueryBuilder()\n",
    "qb.append(StructureData)\n",
    "qb.all()"
   ]
  },
  {
   "cell_type": "markdown",
   "metadata": {},
   "source": [
    "Note that this command is very literal and does in fact retrieve **all** the structure nodes that are stored in your database, which may be very slow if your database becomes very large. One solution is to simply tell the `QueryBuilder` that we are, for example, only interested in 5 structure nodes. This can be done with the `limit` method as follows:"
   ]
  },
  {
   "cell_type": "code",
   "execution_count": null,
   "metadata": {},
   "outputs": [],
   "source": [
    "qb = QueryBuilder()\n",
    "qb.append(StructureData)\n",
    "qb.limit(5)\n",
    "qb.all()"
   ]
  },
  {
   "cell_type": "markdown",
   "metadata": {},
   "source": [
    "Another option is to simply use the concept of array slicing, native to python, to specify a subset of the total return set to be returned. Notice that this example can be very slow in big databases. When you want performance, use the functionality native to the QueryBuilder like `limit`, that limit the number of results directly at the database level!"
   ]
  },
  {
   "cell_type": "code",
   "execution_count": null,
   "metadata": {},
   "outputs": [],
   "source": [
    "qb.limit(None)\n",
    "qb.all()[:7]"
   ]
  },
  {
   "cell_type": "markdown",
   "metadata": {},
   "source": [
    "If we want to know a little bit more about the retrieved structure nodes, we can loop through our results. This allows you, for instance, to print the formula of the structures:"
   ]
  },
  {
   "cell_type": "code",
   "execution_count": null,
   "metadata": {},
   "outputs": [],
   "source": [
    "qb = QueryBuilder()\n",
    "qb.append(StructureData)\n",
    "qb.limit(5)\n",
    "for structure, in qb.all():\n",
    "    print(structure.get_formula())"
   ]
  },
  {
   "cell_type": "markdown",
   "metadata": {},
   "source": [
    "This is just a simple example how we can employ the `QueryBuilder` to get details about the contents of our database. We have now seen simple queries for the `Node` and `StructureData` classes, but the same rules apply to all the `AiiDA` node classes. For example we may want to count the number of entries for each of the node classes in the following list:"
   ]
  },
  {
   "cell_type": "code",
   "execution_count": null,
   "metadata": {},
   "outputs": [],
   "source": [
    "class_list = [Node, StructureData, KpointsData, Dict, UpfData, Code]"
   ]
  },
  {
   "cell_type": "markdown",
   "metadata": {},
   "source": [
    "Using the tools we have learned so far, we can build a table of the number of occurrences of each of these node classes that are stored in our database. We simply loop over the `class_list` and create a `QueryBuilder` for each and count the entries."
   ]
  },
  {
   "cell_type": "code",
   "execution_count": null,
   "metadata": {},
   "outputs": [],
   "source": [
    "for class_name in class_list:\n",
    "    qb = QueryBuilder()\n",
    "    qb.append(class_name)\n",
    "#TUT_USER_START\n",
    "    print() # Finish this line to print the results!\n",
    "#TUT_USER_END\n",
    "#TUT_SOLUTION_START\n",
    "    print('{:>15} | {:6}'.format(class_name.__name__, qb.count()))\n",
    "#TUT_SOLUTION_END"
   ]
  },
  {
   "cell_type": "markdown",
   "metadata": {},
   "source": [
    "If all went well, you should see something like the following, where of course the numbers may differ for your database\n",
    "\n",
    "Class name     | Entries\n",
    "---------------|--------\n",
    " Node          | 10273 \n",
    " StructureData | 271   \n",
    " KpointsData   | 953   \n",
    " Dict          | 2922  \n",
    " UpfData       | 85    \n",
    " Code          | 10"
   ]
  },
  {
   "cell_type": "markdown",
   "metadata": {},
   "source": [
    "# Projection and filters\n",
    "Up until now we have always asked the `QueryBuilder` to return the node class. However, we might not necessarily be interested in all the node's properties, but rather just a selected set or even just a single property. We can tell the `QueryBuilder` which properties we would like to be returned, by asking it to **project** those properties in the result. For example, we may only want to get the `uuid`s of a set of nodes. "
   ]
  },
  {
   "cell_type": "code",
   "execution_count": null,
   "metadata": {},
   "outputs": [],
   "source": [
    "qb = QueryBuilder()\n",
    "qb.append(Node, project=['uuid'])\n",
    "qb.limit(5)\n",
    "qb.all()"
   ]
  },
  {
   "cell_type": "markdown",
   "metadata": {},
   "source": [
    "By using the `project` keyword in the `append` call, we are informing the `QueryBuilder` that we are only interested in the `uuid` property of the `Node` class. Note that the value that we assign to `project` is a list, since we may want to specify more than one property. See if you can get the `QueryBuilder` to return *both* the `id` and the `uuid` of the first 5 `Node`s in the following cell.\n",
    "\n",
    "**Note**: in the context of the QueryBuilder, the `id` is the `pk` of the node."
   ]
  },
  {
   "cell_type": "code",
   "execution_count": null,
   "metadata": {},
   "outputs": [],
   "source": [
    "qb = QueryBuilder()\n",
    "#TUT_USER_START\n",
    "qb.append(Node, project=)#? What should the value be for the project key\n",
    "#TUT_USER_END\n",
    "#TUT_SOLUTION_START\n",
    "qb.append(Node, project=['id', 'uuid'])\n",
    "#TUT_SOLUTION_END\n",
    "qb.limit(5)\n",
    "qb.all()"
   ]
  },
  {
   "cell_type": "markdown",
   "metadata": {},
   "source": [
    "To give you an idea of the various properties that you can project for some of the `AiiDA` node classes you can consult the following table.\n",
    "Note that this is by no means an exhaustive list:\n",
    "\n",
    "Class    | Properties\n",
    "---------|-----------\n",
    "Node     | `id`, `uuid`, `node_type`, `label`, `description`, `ctime`, `mtime`\n",
    "Computer | `id`, `uuid`, `name`, `hostname`, `description`, `transport_type`, `scheduler_type`\n",
    "User     | `id`, `email`, `first_name`, `last_name`, `institution`\n",
    "Group    | `id`, `uuid`, `label`, `type_string`, `time`, `description`"
   ]
  },
  {
   "cell_type": "markdown",
   "metadata": {},
   "source": [
    "The same properties can also be used to *filter* for specific nodes in your database. Indeed, up until now, we only asked the `QueryBuilder` to return *all* the instances of a certain type of node, or at best a limited number of those (without specifying which ones). But in general we might be interested in a very specific node. For example, we may have the `id` of a certain node and we would like to know when it was created and last modified. We can tell the `QueryBuilder` to select nodes that only match that criterion, by telling it to **filter** based on that property."
   ]
  },
  {
   "cell_type": "code",
   "execution_count": null,
   "metadata": {},
   "outputs": [],
   "source": [
    "qb = QueryBuilder()\n",
    "qb.append(Node, project=['ctime', 'mtime'], filters={'id': {'==': 1}})\n",
    "qb.all()"
   ]
  },
  {
   "cell_type": "markdown",
   "metadata": {},
   "source": [
    "Note the syntax of the `filters` keyword. The value is a dictionary, where the keys indicate the node property that it is supposed to operate on, in this case the `id` property. The value of that key is again itself a dictionary, where the key indicates the logical operator `==` and the value corresponds to the value of the property.\n",
    "\n",
    "You may have multiple criteria that you want to filter for, in which case you can use the logical `or` and `and` operators. Let's say, for example, that you want the `QueryBuilder` to retrieve all the `StructureData` nodes that have a certain `label` **and** were created no longer than 12 days ago. You can translate this criterion by making use of the `and` operator which allows you to specify multiple filters that all have to be satisfied."
   ]
  },
  {
   "cell_type": "code",
   "execution_count": null,
   "metadata": {},
   "outputs": [],
   "source": [
    "qb = QueryBuilder()\n",
    "qb.append(\n",
    "    Node, \n",
    "    filters={\n",
    "        'and': [\n",
    "            {'ctime': {'>': datetime.now() - timedelta(days=12)}},\n",
    "            {'label': {'==':'graphene'}}\n",
    "        ]\n",
    "    }\n",
    ")\n",
    "qb.all()"
   ]
  },
  {
   "cell_type": "markdown",
   "metadata": {},
   "source": [
    "You will have noticed that the `>` operator, and its related operators, can work with python `datetime` objects. These are just a few of the operators that `QueryBuilder` understands. Below you find a table with some of the logical operators that you can use:\n",
    "\n",
    "Operator             | Data type             | Example                            | Description\n",
    "---------------------|-----------------------|------------------------------------|------------------\n",
    "`==`                 | all                   | `{'==': '12'}`                     | equality operator\n",
    "`in`                 | all                   | `{'in':['FINISHED', 'PARSING']}`   | member of a set\n",
    "`<`, `>`, `<=`, `>=` | float, int, datetime  | `{'>': 5.2}`                       | size comparison operator\n",
    "`like`               | char, str             | `{'like': 'calculation%'}`         | string comparison, `%` is wildcard\n",
    "`ilike`              | char, str             | `{'ilike': 'caLCulAtion%'}`        | string comparison, capital insensitive\n",
    "`or`                 |                       | `{'or': [{'<': 5.3}, {'>': 6.3}]}` | logical or operator\n",
    "`and`                |                       | `{'and': [{'>=': 2}, {'<=': 6}]}`  | logical and operator"
   ]
  },
  {
   "cell_type": "markdown",
   "metadata": {},
   "source": [
    "As an exercise, try to write a query below that will retrieve all `Group` nodes whose `label` property starts with the string `tutorial`."
   ]
  },
  {
   "cell_type": "code",
   "execution_count": null,
   "metadata": {},
   "outputs": [],
   "source": [
    "# Write your query here\n",
    "#TUT_SOLUTION_START\n",
    "qb = QueryBuilder()\n",
    "qb.append(Group, filters={'label': {'like': 'tutorial%'}})\n",
    "qb.limit(5)\n",
    "qb.all()\n",
    "#TUT_SOLUTION_END"
   ]
  },
  {
   "cell_type": "markdown",
   "metadata": {},
   "source": [
    "# Defining relationships between query clauses"
   ]
  },
  {
   "cell_type": "markdown",
   "metadata": {},
   "source": [
    "So far we have seen how we can use the `QueryBuilder` to search the database for entries of a specific node type, potentially projecting only specific properties and filtering for certain property values. However, our nodes do not live in a vacuum, but they are part of a graph and thus are linked one another. Therefore, we typically want to be able to search for nodes based on a certain relationship that they might have with other nodes. Consider for example that you have a `StructureData` node that was produced by some calculation. How would we be able to retrieve that calculation?\n",
    "\n",
    "To accomplish this, we need to be able to tell the `QueryBuilder` what the relationship is between the nodes that we are interested in. With the `QueryBuilder`, we can do the following to find all the structure nodes that have been created as an output by a `PwCalculation` process.\n",
    "\n",
    "**IMPORTANT NOTE**: In the graph, we are not looking for a `PwCalculation` process (since processes do not live in the graph, as you have learnt). We are actually looking for a `CalcJobNode` whose `process_type` column indicates that it was run by a `PwCalculation` process. Since this is a very common pattern, the `QueryBuilder` allows to directly append the `PwCalculation` process class as a shortcut, but it internally unwraps this into a query for a `CalcJobNode` with the appropriate filter on the `process_type`."
   ]
  },
  {
   "cell_type": "code",
   "execution_count": null,
   "metadata": {},
   "outputs": [],
   "source": [
    "qb = QueryBuilder()\n",
    "qb.append(PwCalculation, tag='calculation')"
   ]
  },
  {
   "cell_type": "markdown",
   "metadata": {},
   "source": [
    "Since we are looking for pairs of nodes, we need to `append` the second node as well to the `QueryBuilder` instance. In the next line, to specify the relationship between the nodes, we need to be able to reference back to the `CalcJobNode` that is matched by the previous clause: therefore, we give it a `tag` with the `tag` keyword."
   ]
  },
  {
   "cell_type": "code",
   "execution_count": null,
   "metadata": {},
   "outputs": [],
   "source": [
    "qb.append(StructureData, with_incoming='calculation')"
   ]
  },
  {
   "cell_type": "markdown",
   "metadata": {},
   "source": [
    "The goal was to find `StructureData` nodes, so we `append` that to the `qb`. However, we didn't want to find just any `StructureData` nodes; they had to be an output of `PwCalculation`. \n",
    "\n",
    "Note how we expressed this relation by the `with_incoming` keyword, because we want a `StructureData` node having an *incoming* link from the `CalcJobNode` referenced by the `calculation` tag (i.e., the `StructureData` must be an *output* of the calculation).\n",
    "\n",
    "Now all we have to do is execute the query to retrieve our structures:"
   ]
  },
  {
   "cell_type": "code",
   "execution_count": null,
   "metadata": {},
   "outputs": [],
   "source": [
    "qb.limit(5)\n",
    "qb.all()"
   ]
  },
  {
   "cell_type": "markdown",
   "metadata": {},
   "source": [
    "What we did can be visualized schematically, thanks to a little tool we have written for you."
   ]
  },
  {
   "cell_type": "code",
   "execution_count": null,
   "metadata": {},
   "outputs": [],
   "source": [
    "generate_query_graph(qb.get_json_compatible_queryhelp(), 'query1.png')\n",
    "Image(filename='query1.png')"
   ]
  },
  {
   "cell_type": "markdown",
   "metadata": {},
   "source": [
    "The `with_incoming` keyword is only one of many potential relationships that exist between the various `AiiDA` nodes and that are implemented in the `QueryBuilder`. The table below gives an overview of the implemented relationships, which nodes they are defined for and what relation it implicates. The full documentation can be found [on this page of the AiiDA documentation](https://aiida-core.readthedocs.io/en/latest/querying/querybuilder/append.html#joining-entities)."
   ]
  },
  {
   "cell_type": "markdown",
   "metadata": {},
   "source": [
    "Entity from\t| Entity to\t| Relationship     | Explanation\n",
    "------------|-----------|------------------|------------\n",
    "Node        | Node      | with_outgoing    | One node as input of another node\n",
    "Node        | Node      | with_incoming    | One node as output of another node\n",
    "Node        | Node      | with_descendants | One node as the ancestor of another node\n",
    "Node        | Node      | with_ancestors   | One node as descendant of another node\n",
    "Group       | Node      | with_node        | The group of a node\n",
    "Node        | Group     | with_group       | The node is a member of a group\n",
    "Computer    | Node      | with_node        | The computer of a node\n",
    "Node        | Computer  | with_computer    | The node of a computer\n",
    "User        | Node      | with_node        | The creator of a node is a user\n",
    "Node        | User      | with_user        | The node was created by a user"
   ]
  },
  {
   "cell_type": "markdown",
   "metadata": {},
   "source": [
    "As an exercise, see if you can write a query that will return all the `UpfData` nodes that are a member of a `Group` whose name starts with the string `SSSP`."
   ]
  },
  {
   "cell_type": "code",
   "execution_count": null,
   "metadata": {},
   "outputs": [],
   "source": [
    "#TUT_USER_START\n",
    "qb = QueryBuilder()\n",
    "#TUT_USER_END\n",
    "#TUT_SOLUTION_START\n",
    "qb = QueryBuilder()\n",
    "qb.append(Group, filters={'label': {'like': 'SSSP%'}}, tag='group')\n",
    "qb.append(UpfData, with_group='group')\n",
    "qb.all()\n",
    "#TUT_SOLUTION_END\n",
    "# Here I also visualize what's going on:\n",
    "generate_query_graph(qb.get_json_compatible_queryhelp(), 'query2.png')\n",
    "Image(filename='query2.png')"
   ]
  },
  {
   "cell_type": "markdown",
   "metadata": {},
   "source": [
    "# Attributes and extras"
   ]
  },
  {
   "cell_type": "markdown",
   "metadata": {},
   "source": [
    "In section 2, we showed you how you can `project` specific properties of a `Node` and gave a list of properties that a `Node` instance possesses. Since then, we have come across a lot of different `AiiDA` data nodes, such as `StructureData` and `UpfData`, that were secretly `Node`'s in disguise. Or to put it correctly, as `AiiDA` employs the object-oriented programming paradigm, both `StructureData` and `UpfData` are examples of subclasses of the `Node` class and therefore inherit its properties. That means that whatever property a `Node` has, both `StructureData` and `UpfData` will have too. However, there is a semantic difference between a `StructureData` node and a `UpfData`, and so we may want to add a property to one that would not make sense for the other. To solve this, `AiiDA` introduces the concept of `attributes`. These are similar to properties, except that they are specific to the `Node` type that they are attached to. This allows you to add an `attribute` to a certain node, without having to change the implementation of all the others.\n",
    "\n",
    "For example, the `Dict` nodes that are generated as output of `PwCalculation`'s may have an attribute named `wfc_cutoff`. To project for this particular `attribute`, one can use exactly the same syntax as shown in section 2 for the regular `Node` properties, and one has to only prepend `attributes.` to the attribute name. Demonstration:"
   ]
  },
  {
   "cell_type": "code",
   "execution_count": null,
   "metadata": {},
   "outputs": [],
   "source": [
    "qb = QueryBuilder()\n",
    "qb.append(PwCalculation, tag='pw')\n",
    "qb.append(Dict, with_incoming='pw', project=[\"attributes.wfc_cutoff\"])\n",
    "qb.limit(5)\n",
    "qb.all()"
   ]
  },
  {
   "cell_type": "markdown",
   "metadata": {},
   "source": [
    "Note that not every `Dict` node has to have this attribute, in which case the `QueryBuilder` will return the python keyword `None`. Similar to the `attributes`, nodes also can have `extras`, which work in the same way, except that `extras` are mutable, which means that their value can be changed even after a node instance has been stored.\n",
    "\n",
    "If you are not sure which attributes a given node has, you can use the `.attributes` property to simply retrieve them all. It will return a dictionary with all the attributes the node has.\n",
    "\n",
    "Note that a node also has a number of additional methods. For instance, you can do `list(node.attributes_keys())` to get only the attribute keys, or `node.get_attribute('wfc_cutoff')` to get the value of a single attribute (these two variants are more efficient if the node has a lot of attributes and you don't need all data). Similarly, for extras, you have `node.extras`, `list(node.extras_keys())`, and `node.get_attribute('SOME_EXTRA_KEY')`."
   ]
  },
  {
   "cell_type": "code",
   "execution_count": null,
   "metadata": {},
   "outputs": [],
   "source": [
    "qb = QueryBuilder()\n",
    "qb.append(PwCalculation)\n",
    "node, = qb.first()\n",
    "node.attributes"
   ]
  },
  {
   "cell_type": "markdown",
   "metadata": {},
   "source": [
    "The chemical-element symbol of a pseudopotential, that is represented by a `UpfData` node, is stored in the `element` attribute. Using the knowledge that filtering on attributes works exactly as for normal node properties, see if you can write a query that will search your database for pseudopotentials for silicon."
   ]
  },
  {
   "cell_type": "code",
   "execution_count": null,
   "metadata": {},
   "outputs": [],
   "source": [
    "qb = QueryBuilder()\n",
    "#TUT_SOLUTION_START\n",
    "qb.append(UpfData, filters={'attributes.element': {'==': 'Si'}})\n",
    "qb.all()\n",
    "#TUT_SOLUTION_END"
   ]
  },
  {
   "cell_type": "markdown",
   "metadata": {},
   "source": [
    "**For more exercises on relationships and attributes/extras, have a look at the appendix section on queries.**"
   ]
  },
  {
   "cell_type": "markdown",
   "metadata": {
    "collapsed": true
   },
   "source": [
    "# A small high-throughput study"
   ]
  },
  {
   "cell_type": "markdown",
   "metadata": {},
   "source": [
    "*The following section assumes that a specific dataset is present in your current AiiDA profile. If you are not running this script on the Virtual Machine of the AiiDA tutorial, this script will not produce the desired output.\n",
    "You can download the Virtual Machine image from [https://aiida-tutorials.readthedocs.io](https://aiida-tutorials.readthedocs.io) along with the tutorial text (choose the correct version of the tutorial, depending on which version of AiiDA you want to try).*"
   ]
  },
  {
   "cell_type": "markdown",
   "metadata": {},
   "source": [
    "In this part of the tutorial, we will focus on how to systematically retrieve, parse and analyze the results of\n",
    "multiple calculations using AiiDA. We know you’re able to do this yourself, but to save time, a set of calculations\n",
    "have already been done with AiiDA for you on 57 perovskites, using three different pseudopotential families (LDA,\n",
    "PBE and PBESOL, all from GBRV 1.2).\n",
    "\n",
    "**Note**: if you are not following the tutorial on the official virtual machine that comes with this data, but you are working with your own database, you first have to import this archive (download it from: https://drive.google.com/open?id=1eqJaJr7q1VsYYvGxqHxmDN7gBMs534rz) using `verdi import`\n",
    "\n",
    "These calculations are spin-polarized (without spin-orbit coupling), use a Gaussian smearing and perform a variable-cell relaxation of the full unit cell. The idea of this part of the tutorial is to “screen” for magnetic and metallic perovskites in a “high-throughput” way. As you learned in the first part of the tutorial, AiiDA allows to organize calculations in groups. Once more check the list of groups in your database by typing:"
   ]
  },
  {
   "cell_type": "code",
   "execution_count": null,
   "metadata": {},
   "outputs": [],
   "source": [
    "!verdi group list -A"
   ]
  },
  {
   "cell_type": "markdown",
   "metadata": {},
   "source": [
    "The calculations needed for this task were put in three different groups whose names start with \"tutorial\" (one for each pseudopotential family). The main task is to make a plot showing, for all perovskites and for each pseudopotential family, the total magnetization and the $-TS$ contribution from the smearing to the total energy."
   ]
  },
  {
   "cell_type": "markdown",
   "metadata": {},
   "source": [
    "## Start building the query\n",
    "So we first of all need to instantiate a QueryBuilder instance. We `append` the groups of interest, which means that we select only groups that start with the string `tutorial_`. We can execute the query after this append (this will not affect the final results) and check whether we have retrieved 3 groups."
   ]
  },
  {
   "cell_type": "code",
   "execution_count": null,
   "metadata": {},
   "outputs": [],
   "source": [
    "# Instantiating QB:\n",
    "qb = QueryBuilder()\n",
    "# Appending the groups I care about:\n",
    "qb.append(Group, filters={'label':{'like':'tutorial_%'}}, project='label', tag='group')\n",
    "# Visualize:\n",
    "print(\"Groups:\", ', '.join([g for g, in qb.all()]))\n",
    "generate_query_graph(qb.get_json_compatible_queryhelp(), 'query3.png')\n",
    "Image(filename='query3.png')"
   ]
  },
  {
   "cell_type": "markdown",
   "metadata": {},
   "source": [
    "## Append the calculations that are members of each group"
   ]
  },
  {
   "cell_type": "code",
   "execution_count": null,
   "metadata": {},
   "outputs": [],
   "source": [
    "# I want every PwCalculation that is a member of the specified groups:\n",
    "#TUT_USER_START\n",
    "qb.append(PwCalculation, tag='calculation', with_group=) # Complete the function call with the correct relationship-tag!\n",
    "#TUT_USER_END\n",
    "#TUT_SOLUTION_START\n",
    "qb.append(PwCalculation, tag='calculation', with_group='group')\n",
    "#TUT_SOLUTION_END\n",
    "#Visualize\n",
    "generate_query_graph(qb.get_json_compatible_queryhelp(), 'query4.png') \n",
    "Image(filename='query4.png')"
   ]
  },
  {
   "cell_type": "markdown",
   "metadata": {},
   "source": [
    "## Append the structures that are input of the calculation. \n",
    "We extend the query to include the structures that are input of the calculations that match the query so far.\n",
    "This means that we `append` StructureData, and defining the relationship with the calculation with corresponding keyword.\n",
    "\n",
    "For simplicity the formulas have been added in the extras of each structure node under the key `formula`. \n",
    "(The function that does this is called `store_formula_in_extra` and can be found in the top cell of this notebook. It also uses the QueryBuilder!)\n",
    "\n",
    "Project the formula, stored in the extras under the key `formula`."
   ]
  },
  {
   "cell_type": "code",
   "execution_count": null,
   "metadata": {},
   "outputs": [],
   "source": [
    "#TUT_USER_START\n",
    "# Complete the function call with the correct relationship-tag!\n",
    "qb.append(StructureData, project=, tag='structure', with_outgoing=)\n",
    "#TUT_USER_END\n",
    "#TUT_SOLUTION_START\n",
    "qb.append(StructureData, project=['extras.formula'], tag='structure', with_outgoing='calculation')\n",
    "#TUT_SOLUTION_END\n",
    "# Visualize:\n",
    "generate_query_graph(qb.get_json_compatible_queryhelp(), 'query5.png')\n",
    "Image(filename='query5.png')"
   ]
  },
  {
   "cell_type": "markdown",
   "metadata": {},
   "source": [
    "## Append the output of the calculation\n",
    "Every successful PwCalculation outputs a `Dict` node that stores the parsed results as key-value pairs. You can find these pairs among the attributes of the `Dict` node. To facilitate querying, the parser takes care of storing values always in the same units, and these are documented. For convenience, the units are also added as key/value pairs (with the same key name, but with `_units` appended). \n",
    "Extend the query so that also the output `Dict` of each calculation is returned. Project only\n",
    "the attributes relevant to your analysis.\n",
    "\n",
    "In particular, project (in this order):\n",
    "\n",
    "* The smearing contribution \n",
    "* The units of the smearing contribution\n",
    "* The magnetization \n",
    "* The units of the magnetization\n",
    "\n",
    "(to know the projection keys, you can try to load one `CalcJobNode` from one of the groups, get its output `Dict` and inspect its `attributes` as discussed before, to see the key-value pairs that have been parsed)."
   ]
  },
  {
   "cell_type": "code",
   "execution_count": null,
   "metadata": {},
   "outputs": [],
   "source": [
    "#TUT_USER_START\n",
    "# Complete the function call with the correct relationship-tag!\n",
    "qb.append(Dict, tag='results', project=['attributes.energy_smearing', ...], with_incoming=)\n",
    "#TUT_USER_END\n",
    "#TUT_SOLUTION_START\n",
    "qb.append(Dict, tag='results',\n",
    "        project=['attributes.energy_smearing', 'attributes.energy_smearing_units',\n",
    "           'attributes.total_magnetization', 'attributes.total_magnetization_units',\n",
    "        ], with_incoming='calculation'\n",
    "    )\n",
    "#TUT_SOLUTION_END\n",
    "\n",
    "generate_query_graph(qb.get_json_compatible_queryhelp(), 'query6.png') \n",
    "Image(filename='query6.png')"
   ]
  },
  {
   "cell_type": "markdown",
   "metadata": {},
   "source": [
    "## Print the query results\n",
    "We can print the results to see if everything worked."
   ]
  },
  {
   "cell_type": "code",
   "execution_count": null,
   "metadata": {},
   "outputs": [],
   "source": [
    "results = qb.all()\n",
    "for item in results:\n",
    "    print(', '.join(map(str, item)))"
   ]
  },
  {
   "cell_type": "markdown",
   "metadata": {},
   "source": [
    "### Plot the results\n",
    "Getting a long list is not always helpful, and a graph can be much more clear and useful. To help you, we have already prepared a function that visualizes the results of the query. Run the following cell and, if you did everything correctly, you should get a graph with the results of your queries!"
   ]
  },
  {
   "cell_type": "code",
   "execution_count": null,
   "metadata": {},
   "outputs": [],
   "source": [
    "plot_results(results)"
   ]
  }
 ],
 "metadata": {
  "kernelspec": {
   "display_name": "Python 3",
   "language": "python",
   "name": "python3"
  },
  "language_info": {
   "codemirror_mode": {
    "name": "ipython",
    "version": 3
   },
   "file_extension": ".py",
   "mimetype": "text/x-python",
   "name": "python",
   "nbconvert_exporter": "python",
   "pygments_lexer": "ipython3",
   "version": "3.7.3"
  }
 },
 "nbformat": 4,
 "nbformat_minor": 1
}
