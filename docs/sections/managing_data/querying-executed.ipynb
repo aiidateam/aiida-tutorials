{
 "cells": [
  {
   "cell_type": "markdown",
   "id": "94136783",
   "metadata": {},
   "source": [
    "# Querying for data\n",
    "\n",
    "The notebook will show you how the `QueryBuilder` can be used to query your database for specific data.\n",
    "It will demonstrate certain concepts you can then use to perform certain queries on your own database.\n",
    "Some of these question cells will have partial solutions that you will have to complete.\n",
    "\n",
    "```{important}\n",
    "Make sure to execute the cell below this one (it may be hidden)\n",
    "```"
   ]
  },
  {
   "cell_type": "code",
   "execution_count": 1,
   "id": "503c08da",
   "metadata": {
    "execution": {
     "iopub.execute_input": "2021-07-06T07:13:04.483598Z",
     "iopub.status.busy": "2021-07-06T07:13:04.482385Z",
     "iopub.status.idle": "2021-07-06T07:13:05.992341Z",
     "shell.execute_reply": "2021-07-06T07:13:05.992806Z"
    },
    "tags": [
     "hide-input",
     "hide-output"
    ]
   },
   "outputs": [],
   "source": [
    "from IPython.display import Image\n",
    "from datetime import datetime, timedelta\n",
    "import numpy as np\n",
    "from aiida import load_profile\n",
    "from matplotlib import gridspec, pyplot as plt\n",
    "load_profile()\n",
    "from aiida.orm import load_node, Node, Group, Computer, User, CalcJobNode, Code\n",
    "from aiida.plugins import CalculationFactory, DataFactory\n",
    "\n",
    "PwCalculation = CalculationFactory('quantumespresso.pw')\n",
    "StructureData = DataFactory('structure')\n",
    "KpointsData = DataFactory('array.kpoints')\n",
    "Dict = DataFactory('dict')\n",
    "UpfData = DataFactory('upf')\n",
    "\n",
    "def plot_results(query_res):\n",
    "    \"\"\"\n",
    "    :param query_res: The result of an instance of the QueryBuilder\n",
    "    \"\"\"\n",
    "    smearing_unit_set,magnetization_unit_set,pseudo_family_set = set(), set(), set()\n",
    "    # Storing results:\n",
    "    results_dict = {}\n",
    "    for pseudo_family, formula, smearing, smearing_units, mag, mag_units in query_res:\n",
    "        if formula not in results_dict:\n",
    "            results_dict[formula] = {}\n",
    "        # Storing the results:\n",
    "        results_dict[formula][pseudo_family] = (smearing, mag)\n",
    "        # Adding to the unit set:\n",
    "        smearing_unit_set.add(smearing_units)\n",
    "        magnetization_unit_set.add(mag_units)\n",
    "        pseudo_family_set.add(pseudo_family)\n",
    "\n",
    "    # Sorting by formula:\n",
    "    sorted_results = sorted(results_dict.items())\n",
    "    formula_list = next(zip(*sorted_results))\n",
    "    nr_of_results = len(formula_list)\n",
    "\n",
    "    # Checks that I have not more than 3 pseudo families.\n",
    "    # If more are needed, define more colors\n",
    "    #pseudo_list = list(pseudo_family_set)\n",
    "    if len(pseudo_family_set) > 3:\n",
    "        raise Exception('I was expecting 3 or less pseudo families')\n",
    "\n",
    "    colors = ['b', 'r', 'g']\n",
    "\n",
    "    # Plotting:\n",
    "    plt.clf()\n",
    "    fig=plt.figure(figsize=(16, 9), facecolor='w', edgecolor=None)\n",
    "    gs  = gridspec.GridSpec(2,1, hspace=0.01, left=0.1, right=0.94)\n",
    "\n",
    "    # Defining barwidth\n",
    "    barwidth = 1. / (len(pseudo_family_set)+1)\n",
    "    offset = [-0.5+(0.5+n)*barwidth for n in range(len(pseudo_family_set))]\n",
    "    # Axing labels with units:\n",
    "    yaxis = (\"Smearing energy [{}]\".format(smearing_unit_set.pop()),\n",
    "        \"Total magnetization [{}]\".format(magnetization_unit_set.pop()))\n",
    "    # If more than one unit was specified, I will exit:\n",
    "    if smearing_unit_set:\n",
    "        raise ValueError('Found different units for smearing')\n",
    "    if magnetization_unit_set:\n",
    "        raise ValueError('Found different units for magnetization')\n",
    "\n",
    "    # Making two plots, the top one for the smearing, the bottom one for the magnetization\n",
    "    for index in range(2):\n",
    "        ax=fig.add_subplot(gs[index])\n",
    "        for i,pseudo_family in enumerate(pseudo_family_set):\n",
    "            X = np.arange(nr_of_results)+offset[i]\n",
    "            Y = np.array([thisres[1][pseudo_family][index] for thisres in sorted_results])\n",
    "            ax.bar(X, Y,  width=0.2, facecolor=colors[i], edgecolor=colors[i], label=pseudo_family)\n",
    "        ax.set_ylabel(yaxis[index], fontsize=14, labelpad=15*index+5)\n",
    "        ax.set_xlim(-0.5, nr_of_results-0.5)\n",
    "        ax.set_xticks(np.arange(nr_of_results))\n",
    "        if index == 0:\n",
    "            plt.setp(ax.get_yticklabels()[0], visible=False)\n",
    "            ax.xaxis.tick_top()\n",
    "            ax.legend(loc=3, prop={'size': 18})\n",
    "        else:\n",
    "            plt.setp(ax.get_yticklabels()[-1], visible=False)\n",
    "        for i in range(0, nr_of_results, 2):\n",
    "            ax.axvspan(i-0.5, i+0.5, facecolor='y', alpha=0.2)\n",
    "        ax.set_xticklabels(list(formula_list),rotation=90, size=14, ha='center')\n",
    "    plt.show()\n",
    "\n",
    "def generate_query_graph(qh, out_file_name):\n",
    "\n",
    "    def draw_vertice_settings(idx, vertice, **kwargs):\n",
    "        \"\"\"\n",
    "        Returns a string with all infos needed in a .dot file  to define a node of a graph.\n",
    "        :param node:\n",
    "        :param kwargs: Additional key-value pairs to be added to the returned string\n",
    "        :return: a string\n",
    "        \"\"\"\n",
    "        if vertice['entity_type'].startswith('process'):\n",
    "            shape = \"shape=polygon,sides=4\"\n",
    "        elif vertice['entity_type'].startswith('data.code'):\n",
    "            shape = \"shape=diamond\"\n",
    "        else:\n",
    "            shape = \"shape=ellipse\"\n",
    "        filters = kwargs.pop('filters', None)\n",
    "        additional_string = \"\"\n",
    "        if filters:\n",
    "            additional_string += '\\nFilters:'\n",
    "            for k,v in filters.items():\n",
    "                additional_string += \"\\n   {} : {}\".format(k,v)\n",
    "\n",
    "\n",
    "        label_string = \" ('{}')\".format(vertice['tag'])\n",
    "\n",
    "        labelstring = 'label=\"{} {}{}\"'.format(\n",
    "            vertice['entity_type'], #.split('.')[-2] or 'Node',\n",
    "            label_string,\n",
    "            additional_string)\n",
    "        #~ return \"N{} [{},{}{}];\".format(idx, shape, labelstring,\n",
    "        return \"{} [{},{}];\".format(vertice['tag'], shape, labelstring)\n",
    "    nodes = {v['tag']:draw_vertice_settings(idx, v, filters=qh['filters'][v['tag']]) for idx, v in enumerate(qh['path'])}\n",
    "    links = [(v['tag'], v['joining_value'], v['joining_keyword']) for v in qh['path'][1:]]\n",
    "\n",
    "    with open('temp.dot','w') as fout:\n",
    "        fout.write(\"digraph G {\\n\")\n",
    "        for l in links:\n",
    "            fout.write('    {} -> {} [label=\" {}\"];\\n'.format(*l))\n",
    "        for _, n_values in nodes.items():\n",
    "            fout.write(\"    {}\\n\".format(n_values))\n",
    "\n",
    "        fout.write(\"}\\n\")\n",
    "    import os\n",
    "    os.system('dot temp.dot -Tpng -o {}'.format(out_file_name))\n",
    "\n",
    "def store_formula_in_extra():\n",
    "    from aiida.orm import QueryBuilder\n",
    "    query = QueryBuilder()\n",
    "    query.append(StructureData, filters={'extras':{'!has_key':'formula'}})\n",
    "    for structure, in query.iterall():\n",
    "        structure.set_extra('formula', structure.get_formula(mode='count'))\n",
    "\n",
    "store_formula_in_extra()"
   ]
  },
  {
   "cell_type": "markdown",
   "id": "b3f8910f",
   "metadata": {},
   "source": [
    "## Introduction to the QueryBuilder\n",
    "\n",
    "As you will use AiiDA to submit and manage your calculations, the database that stores all the data and the provenance will quickly grow to be very large.\n",
    "To help you find the needle you might be looking for in this big haystack, you need an efficient search tool.\n",
    "AiiDA provides a tool to do exactly this: the {class}`~aiida.orm.querybuilder.QueryBuilder`.\n",
    "The `QueryBuilder` acts as the gatekeeper to your database, to whom you can ask questions about the contents of your database (also referred to as queries), by specifying what you are looking for.\n",
    "In this part of the tutorial, we will focus on how to use the `QueryBuilder` to make these queries and understand and use the results.\n",
    "\n",
    "In order to use the `QueryBuilder`, you first need to import it.\n",
    "This can accomplished by executing the `import` statement in the following cell.\n",
    "Go ahead and select the next cell, and press `Shift+Enter`."
   ]
  },
  {
   "cell_type": "code",
   "execution_count": 2,
   "id": "3560e819",
   "metadata": {
    "execution": {
     "iopub.execute_input": "2021-07-06T07:13:05.997053Z",
     "iopub.status.busy": "2021-07-06T07:13:05.996485Z",
     "iopub.status.idle": "2021-07-06T07:13:05.998443Z",
     "shell.execute_reply": "2021-07-06T07:13:05.998965Z"
    }
   },
   "outputs": [],
   "source": [
    "from aiida.orm import QueryBuilder"
   ]
  },
  {
   "cell_type": "markdown",
   "id": "664ce26e",
   "metadata": {},
   "source": [
    "Before you can use the `QueryBuilder` to query the database, you first need to create an instance of it:"
   ]
  },
  {
   "cell_type": "code",
   "execution_count": 3,
   "id": "3c2f2f46",
   "metadata": {
    "execution": {
     "iopub.execute_input": "2021-07-06T07:13:06.003047Z",
     "iopub.status.busy": "2021-07-06T07:13:06.002400Z",
     "iopub.status.idle": "2021-07-06T07:13:06.004249Z",
     "shell.execute_reply": "2021-07-06T07:13:06.004606Z"
    }
   },
   "outputs": [],
   "source": [
    "query = QueryBuilder()"
   ]
  },
  {
   "cell_type": "markdown",
   "id": "6427725c",
   "metadata": {},
   "source": [
    "Now that you have an instance of the `QueryBuilder` named `query`, you are ready to start asking about the content of your database.\n",
    "For example, we may want to know exactly how many nodes there are in the database.\n",
    "To let the AiiDA database know that we are interested in all the occurrences of the `Node` class, you can `append` it to the list of objects it should find through `query`.\n",
    "\n",
    "```{note}\n",
    "The method is called `append` because, as we will see later, you can append multiple nodes to a `QueryBuilder` instance consecutively to search in the graph, as if you had a list.\n",
    "What we are doing is querying a graph, and for every vertex of the graph in our sub-query, we will use one `append` call.\n",
    "But this use will be demonstrated more fully in a few steps.\n",
    "```"
   ]
  },
  {
   "cell_type": "code",
   "execution_count": 4,
   "id": "e458f4ad",
   "metadata": {
    "execution": {
     "iopub.execute_input": "2021-07-06T07:13:06.010283Z",
     "iopub.status.busy": "2021-07-06T07:13:06.009570Z",
     "iopub.status.idle": "2021-07-06T07:13:06.012648Z",
     "shell.execute_reply": "2021-07-06T07:13:06.013018Z"
    },
    "tags": [
     "hide-output"
    ]
   },
   "outputs": [
    {
     "data": {
      "text/plain": [
       "<aiida.orm.querybuilder.QueryBuilder at 0x10aa23f70>"
      ]
     },
     "execution_count": 4,
     "metadata": {},
     "output_type": "execute_result"
    }
   ],
   "source": [
    "query.append(Node)"
   ]
  },
  {
   "cell_type": "markdown",
   "id": "67e3c544",
   "metadata": {},
   "source": [
    "We have now narrowed down the scope of `query` to just the nodes that are present in the database (i.e., we are ignoring computers, users, etc.).\n",
    "To learn how many nodes there are exactly, you can use the `count()` method:"
   ]
  },
  {
   "cell_type": "code",
   "execution_count": 5,
   "id": "cb13ce8b",
   "metadata": {
    "execution": {
     "iopub.execute_input": "2021-07-06T07:13:06.020354Z",
     "iopub.status.busy": "2021-07-06T07:13:06.019692Z",
     "iopub.status.idle": "2021-07-06T07:13:06.023095Z",
     "shell.execute_reply": "2021-07-06T07:13:06.023463Z"
    },
    "tags": [
     "hide-output"
    ]
   },
   "outputs": [
    {
     "data": {
      "text/plain": [
       "1981"
      ]
     },
     "execution_count": 5,
     "metadata": {},
     "output_type": "execute_result"
    }
   ],
   "source": [
    "query.count()"
   ]
  },
  {
   "cell_type": "markdown",
   "id": "f7445cd9",
   "metadata": {},
   "source": [
    "Now as you may have learned in previous sections of the tutorial, nodes come in different kinds and flavors.\n",
    "For example, all the crystal structures stored in the database are saved in nodes that are of the type `StructureData`.\n",
    "If instead of all the nodes, we would rather like to count only the crystal structure nodes, we simply tell a `QueryBuilder` instance to narrow its scope only to objects of type `StructureData`.\n",
    "Since we want to create a new independent query, you must create a new instance of the `QueryBuilder`.\n",
    "\n",
    "### Exercise\n",
    "\n",
    "In the next cell, we have typed part of the code to count all the structure nodes.\n",
    "See if you can finish the line with the comment, to tell the `QueryBuilder` that you are only interested in `StructureData` nodes."
   ]
  },
  {
   "cell_type": "code",
   "execution_count": 6,
   "id": "9712e449",
   "metadata": {
    "execution": {
     "iopub.execute_input": "2021-07-06T07:13:06.027510Z",
     "iopub.status.busy": "2021-07-06T07:13:06.026869Z",
     "iopub.status.idle": "2021-07-06T07:13:06.304125Z",
     "shell.execute_reply": "2021-07-06T07:13:06.304565Z"
    },
    "tags": [
     "raises-exception",
     "remove-output"
    ]
   },
   "outputs": [
    {
     "ename": "InputValidationError",
     "evalue": "You need to specify at least a class or a entity_type",
     "output_type": "error",
     "traceback": [
      "\u001b[0;31m---------------------------------------------------------------------------\u001b[0m",
      "\u001b[0;31mInputValidationError\u001b[0m                      Traceback (most recent call last)",
      "\u001b[0;32m/var/folders/t2/xbl15_3n4tsb1vr_ccmmtmbr0000gn/T/ipykernel_78489/163535632.py\u001b[0m in \u001b[0;36m<module>\u001b[0;34m\u001b[0m\n\u001b[1;32m      1\u001b[0m \u001b[0mquery\u001b[0m \u001b[0;34m=\u001b[0m \u001b[0mQueryBuilder\u001b[0m\u001b[0;34m(\u001b[0m\u001b[0;34m)\u001b[0m\u001b[0;34m\u001b[0m\u001b[0;34m\u001b[0m\u001b[0m\n\u001b[0;32m----> 2\u001b[0;31m \u001b[0mquery\u001b[0m\u001b[0;34m.\u001b[0m\u001b[0mappend\u001b[0m\u001b[0;34m(\u001b[0m\u001b[0;34m)\u001b[0m \u001b[0;31m# How do we finish this line to tell the query builder to count only the structure nodes?\u001b[0m\u001b[0;34m\u001b[0m\u001b[0;34m\u001b[0m\u001b[0m\n\u001b[0m\u001b[1;32m      3\u001b[0m \u001b[0mquery\u001b[0m\u001b[0;34m.\u001b[0m\u001b[0mcount\u001b[0m\u001b[0;34m(\u001b[0m\u001b[0;34m)\u001b[0m\u001b[0;34m\u001b[0m\u001b[0;34m\u001b[0m\u001b[0m\n",
      "\u001b[0;32m~/Documents/GitHub/aiida-tutorials/.tox/notebooks/lib/python3.9/site-packages/aiida/orm/querybuilder.py\u001b[0m in \u001b[0;36mappend\u001b[0;34m(self, cls, entity_type, tag, filters, project, subclassing, edge_tag, edge_filters, edge_project, outerjoin, **kwargs)\u001b[0m\n\u001b[1;32m    664\u001b[0m \u001b[0;34m\u001b[0m\u001b[0m\n\u001b[1;32m    665\u001b[0m         \u001b[0;32mif\u001b[0m \u001b[0mcls\u001b[0m \u001b[0;32mis\u001b[0m \u001b[0;32mNone\u001b[0m \u001b[0;32mand\u001b[0m \u001b[0mentity_type\u001b[0m \u001b[0;32mis\u001b[0m \u001b[0;32mNone\u001b[0m\u001b[0;34m:\u001b[0m\u001b[0;34m\u001b[0m\u001b[0;34m\u001b[0m\u001b[0m\n\u001b[0;32m--> 666\u001b[0;31m             \u001b[0;32mraise\u001b[0m \u001b[0mInputValidationError\u001b[0m\u001b[0;34m(\u001b[0m\u001b[0;34m'You need to specify at least a class or a entity_type'\u001b[0m\u001b[0;34m)\u001b[0m\u001b[0;34m\u001b[0m\u001b[0;34m\u001b[0m\u001b[0m\n\u001b[0m\u001b[1;32m    667\u001b[0m \u001b[0;34m\u001b[0m\u001b[0m\n\u001b[1;32m    668\u001b[0m         \u001b[0;31m# Let's check if it is a valid class or type\u001b[0m\u001b[0;34m\u001b[0m\u001b[0;34m\u001b[0m\u001b[0;34m\u001b[0m\u001b[0m\n",
      "\u001b[0;31mInputValidationError\u001b[0m: You need to specify at least a class or a entity_type"
     ]
    }
   ],
   "source": [
    "query = QueryBuilder()\n",
    "query.append() # How do we finish this line to tell the query builder to count only the structure nodes?\n",
    "query.count()"
   ]
  },
  {
   "cell_type": "markdown",
   "id": "1bb317dc",
   "metadata": {},
   "source": [
    "Instead of just counting how many crystal structure nodes exist, we may also actually want to see some of them.\n",
    "This is as easy as telling the `QueryBuilder` that we are not interested in the `count` but rather that we want to retrieve `all` the nodes."
   ]
  },
  {
   "cell_type": "code",
   "execution_count": 7,
   "id": "a8dcb806",
   "metadata": {
    "execution": {
     "iopub.execute_input": "2021-07-06T07:13:06.310808Z",
     "iopub.status.busy": "2021-07-06T07:13:06.310172Z",
     "iopub.status.idle": "2021-07-06T07:13:06.382150Z",
     "shell.execute_reply": "2021-07-06T07:13:06.382623Z"
    },
    "tags": [
     "hide-output"
    ]
   },
   "outputs": [
    {
     "data": {
      "text/plain": [
       "[[<StructureData: uuid: 5307c08a-90c2-445b-8cdc-d3fdcb2eb47c (pk: 14)>],\n",
       " [<StructureData: uuid: c44af50c-90e8-47e0-984c-7edb7eda5205 (pk: 15)>],\n",
       " [<StructureData: uuid: 68d5b4c2-f43a-48ac-9cd3-e9f405f89765 (pk: 20)>],\n",
       " [<StructureData: uuid: 6d0a3c87-3dac-4c1d-a09d-e19b2f908ca9 (pk: 28)>],\n",
       " [<StructureData: uuid: 528d37da-e757-4ed1-b291-6c84103fa55b (pk: 50)>],\n",
       " [<StructureData: uuid: 0d0f620d-f0a1-4ed5-adc6-67f9e14818d2 (pk: 59)>],\n",
       " [<StructureData: uuid: c91903cf-74cd-4bce-9c63-fce6516f7bdf (pk: 73)>],\n",
       " [<StructureData: uuid: fa28119f-b883-4a98-85e9-5b725760d969 (pk: 104)>],\n",
       " [<StructureData: uuid: 2251fced-64d1-46bd-b0ee-0967dd0bff27 (pk: 130)>],\n",
       " [<StructureData: uuid: de48e70c-776b-4295-a0aa-35bf057c35d1 (pk: 142)>],\n",
       " [<StructureData: uuid: 1f917d76-c429-44f4-b391-7c8268238a89 (pk: 146)>],\n",
       " [<StructureData: uuid: b30cabd3-6d73-4b18-b7fd-b9e9e73679d2 (pk: 153)>],\n",
       " [<StructureData: uuid: 9a6fec90-1927-4ddb-8f1f-eb0820072b5f (pk: 168)>],\n",
       " [<StructureData: uuid: 20d69fb5-ed0a-48c5-ab28-97dac620bf09 (pk: 169)>],\n",
       " [<StructureData: uuid: 2b548a2c-c474-46c0-b19c-376cfeef6d7b (pk: 194)>],\n",
       " [<StructureData: uuid: 0a58813e-87cf-4361-8cfa-df1d6d863389 (pk: 227)>],\n",
       " [<StructureData: uuid: 4fbe7a29-c2fd-4afe-a573-d9641bd6ee01 (pk: 229)>],\n",
       " [<StructureData: uuid: 42361400-bdce-4b29-9045-e33b8a7c18b1 (pk: 240)>],\n",
       " [<StructureData: uuid: 4be4c540-5705-4d7a-b83a-021bd77348d9 (pk: 243)>],\n",
       " [<StructureData: uuid: 44da8eb1-5fcb-497b-bc6f-65bb22cda0eb (pk: 249)>],\n",
       " [<StructureData: uuid: d55e3685-072d-4b92-8d91-76f5776e692d (pk: 261)>],\n",
       " [<StructureData: uuid: f31dc747-6a49-4e11-8ee8-13c576eef539 (pk: 307)>],\n",
       " [<StructureData: uuid: 608fe362-435f-4836-8960-f6c69b32ce58 (pk: 308)>],\n",
       " [<StructureData: uuid: c6d02247-5d2d-44cf-bf9a-04ca680df864 (pk: 313)>],\n",
       " [<StructureData: uuid: 47a409db-ed75-4265-a7eb-49c04e476772 (pk: 321)>],\n",
       " [<StructureData: uuid: bc682d9b-eac5-499a-91b7-fdd24090faf2 (pk: 324)>],\n",
       " [<StructureData: uuid: f3ef00dd-9131-47ee-b5b9-0c4da21cfd61 (pk: 327)>],\n",
       " [<StructureData: uuid: ee939714-eca5-49c6-8c9c-e263af322511 (pk: 366)>],\n",
       " [<StructureData: uuid: e981fbe7-2e0e-4b2a-af4f-64cbfb63552f (pk: 387)>],\n",
       " [<StructureData: uuid: 987d30aa-97fd-4bf9-a225-e6a42daa321f (pk: 401)>],\n",
       " [<StructureData: uuid: d3ddc751-6b6b-4893-bed2-cc45e5e6a096 (pk: 423)>],\n",
       " [<StructureData: uuid: 6a08d389-5627-41b7-9218-328e5edfb914 (pk: 452)>],\n",
       " [<StructureData: uuid: a3668f1c-1444-4939-8972-93d0e218bb82 (pk: 453)>],\n",
       " [<StructureData: uuid: ed5f2de7-ac62-4837-a7d6-406dd3c52790 (pk: 454)>],\n",
       " [<StructureData: uuid: fafbd310-8cd0-485e-8151-28eacfbb89f7 (pk: 482)>],\n",
       " [<StructureData: uuid: 41c98b52-1193-4bce-9fb5-e88d1cbeaefd (pk: 499)>],\n",
       " [<StructureData: uuid: 057fc325-0e7d-4a58-bd97-91756735fdb7 (pk: 504)>],\n",
       " [<StructureData: uuid: 85db9dad-a6f3-4daf-a981-43ee48219996 (pk: 505)>],\n",
       " [<StructureData: uuid: 24367c67-dfa8-43f1-8790-0b10191842c8 (pk: 508)>],\n",
       " [<StructureData: uuid: ed2f1f28-5df7-4ea0-9a4e-17927d7a8a17 (pk: 510)>],\n",
       " [<StructureData: uuid: 9bba277a-58c6-4a9c-b0f6-5b1f2e9b94fe (pk: 514)>],\n",
       " [<StructureData: uuid: 87d07811-264d-44c3-bdcf-f645fdd4539b (pk: 517)>],\n",
       " [<StructureData: uuid: d5638996-0543-47bd-bc7f-7907b6fd64ca (pk: 547)>],\n",
       " [<StructureData: uuid: d59bb12e-8802-4ce2-899b-6469a791afe1 (pk: 583)>],\n",
       " [<StructureData: uuid: 91ea9908-9411-4580-925d-5d1c40f2ea3f (pk: 588)>],\n",
       " [<StructureData: uuid: 4ad494a2-68c6-4923-9410-9be1e61a64ce (pk: 598)>],\n",
       " [<StructureData: uuid: afd4fcc4-2531-4f8c-8100-91d9ce43b6b2 (pk: 603)>],\n",
       " [<StructureData: uuid: 01033dd2-81a9-4e77-861f-dbf5bea9c410 (pk: 614)>],\n",
       " [<StructureData: uuid: 8973e74f-6463-4207-8c33-21bc3ec2611d (pk: 615)>],\n",
       " [<StructureData: uuid: efe1b5c8-4aec-4738-ba86-707096a576af (pk: 622)>],\n",
       " [<StructureData: uuid: a72d0525-6971-4d29-9c6e-4d82a93e93eb (pk: 636)>],\n",
       " [<StructureData: uuid: 8d64d732-4ab4-475b-91ca-e2848157cdf5 (pk: 637)>],\n",
       " [<StructureData: uuid: 8b093318-d945-467c-b983-a88007e5bd6f (pk: 671)>],\n",
       " [<StructureData: uuid: 50a3f2e7-3e6f-43bf-8a60-3586ddd811a3 (pk: 672)>],\n",
       " [<StructureData: uuid: 312c8afb-d459-4f3c-919a-9ed7dc1535af (pk: 680)>],\n",
       " [<StructureData: uuid: 3e39897b-124f-4f3f-9e0d-7bac9f2d687c (pk: 687)>],\n",
       " [<StructureData: uuid: 643097f0-7ea9-44b0-896d-4abd1576ba12 (pk: 696)>],\n",
       " [<StructureData: uuid: bb1f74b7-8dd5-444f-a198-828f59390c6f (pk: 706)>],\n",
       " [<StructureData: uuid: a3542ed1-e04c-4094-8db5-4940ac8c2dac (pk: 721)>],\n",
       " [<StructureData: uuid: 0b41f7ca-3ac7-4275-bf34-5495f4e9b464 (pk: 728)>],\n",
       " [<StructureData: uuid: ef417b01-b912-4a6c-9999-7ac68c870ab6 (pk: 729)>],\n",
       " [<StructureData: uuid: 6c3f4e3d-770f-48b6-bc0e-1c7676fd6ef4 (pk: 740)>],\n",
       " [<StructureData: uuid: b2152976-4f84-4822-a7ae-877d3752b2f0 (pk: 743)>],\n",
       " [<StructureData: uuid: 8183a91b-4c03-4770-8d96-1249b7d7576c (pk: 763)>],\n",
       " [<StructureData: uuid: a1618368-3fc5-44a8-b3cb-b2ea1be02cc6 (pk: 781)>],\n",
       " [<StructureData: uuid: f9055068-9494-4c01-a568-af3d2b487b6e (pk: 782)>],\n",
       " [<StructureData: uuid: f20ff114-58b4-42ef-8339-0428b613c4e2 (pk: 810)>],\n",
       " [<StructureData: uuid: 58e3e9eb-9c4e-4787-a259-a42cc2ea036a (pk: 791)>],\n",
       " [<StructureData: uuid: f2c257f9-66f4-4545-8609-3864c2087289 (pk: 822)>],\n",
       " [<StructureData: uuid: b69afaa9-761e-4377-ae77-f952a60a8887 (pk: 840)>],\n",
       " [<StructureData: uuid: 28e81f2a-ee95-4bf8-a004-6acd1f521264 (pk: 857)>],\n",
       " [<StructureData: uuid: 32f9906d-b296-4df3-a428-3abae27acc4d (pk: 862)>],\n",
       " [<StructureData: uuid: a0d6ae3d-0bd2-42b8-8f07-3945cce48d77 (pk: 885)>],\n",
       " [<StructureData: uuid: 1603138b-f4d9-41bb-8bc0-c3cfd2af8498 (pk: 926)>],\n",
       " [<StructureData: uuid: e57c4cea-a263-4f1a-8f1d-28d33c90c7c5 (pk: 935)>],\n",
       " [<StructureData: uuid: 9c6807c1-5f1c-49fd-a52e-ccd3e53d3d86 (pk: 958)>],\n",
       " [<StructureData: uuid: f73a2209-69d4-4648-b5a2-d3b83bdfee48 (pk: 972)>],\n",
       " [<StructureData: uuid: 934fdc92-36da-413d-8b48-85042e7f68e5 (pk: 973)>],\n",
       " [<StructureData: uuid: 599ef74b-ee60-40f4-816c-e58310d819a7 (pk: 981)>],\n",
       " [<StructureData: uuid: d2a0bfc7-7506-493c-9393-fa69a91daae7 (pk: 982)>],\n",
       " [<StructureData: uuid: a4a17738-c87a-4086-a948-f56b39df2e57 (pk: 986)>],\n",
       " [<StructureData: uuid: ffae249a-4561-4978-9346-368b661d52ed (pk: 991)>],\n",
       " [<StructureData: uuid: b31d9bf8-a224-4385-a135-af5872dde0f3 (pk: 1009)>],\n",
       " [<StructureData: uuid: 4909f51c-e037-4ba1-9b8f-0e8f7477b5ef (pk: 1012)>],\n",
       " [<StructureData: uuid: 57b92419-f024-4f93-880b-3c89cc5e1c5d (pk: 1013)>],\n",
       " [<StructureData: uuid: 1077e7b0-7ef9-47d2-bc02-f5f7cfda6f96 (pk: 1025)>],\n",
       " [<StructureData: uuid: 3e27691d-94b4-42f8-b2e3-4794f8fc5447 (pk: 1026)>],\n",
       " [<StructureData: uuid: e718ad3f-b3ed-4eb3-9733-26839300e27f (pk: 1039)>],\n",
       " [<StructureData: uuid: 1eefd0f6-d7d9-4681-bae8-d882cb3e4340 (pk: 1044)>],\n",
       " [<StructureData: uuid: e1fc2c63-ba39-4c79-99c5-d36637f1c3f1 (pk: 1046)>],\n",
       " [<StructureData: uuid: eba2658e-2b4d-422e-8678-4ddc7f13c589 (pk: 1052)>],\n",
       " [<StructureData: uuid: a662059c-2817-4f65-a0ab-3ab11199e437 (pk: 1060)>],\n",
       " [<StructureData: uuid: 89dacd1c-59db-4748-9662-04281bfb42e3 (pk: 1061)>],\n",
       " [<StructureData: uuid: 06f6e872-33a2-40b1-af78-77cbfebd3c11 (pk: 1083)>],\n",
       " [<StructureData: uuid: b278a1b5-53c5-4c6c-917c-a228c2e63e13 (pk: 1127)>],\n",
       " [<StructureData: uuid: 3a4b1270-82bf-4d66-a51f-982294f6e1b3 (pk: 1133)>],\n",
       " [<StructureData: uuid: 91fc0ea2-138c-4555-81a0-bfc1d13c788c (pk: 1143)>],\n",
       " [<StructureData: uuid: 280d41a8-c8de-4e16-a8f3-59492234c819 (pk: 1151)>],\n",
       " [<StructureData: uuid: 2ad119ee-abd8-47eb-9522-1be0eaea499a (pk: 1155)>],\n",
       " [<StructureData: uuid: 216fd0a5-cecc-442c-a248-a302a0f42b56 (pk: 1159)>],\n",
       " [<StructureData: uuid: a9b6b043-4570-46f6-afdd-e74b4d5fe0c1 (pk: 1163)>],\n",
       " [<StructureData: uuid: 783c5ae4-462c-44dc-a72c-15e3eef134ff (pk: 1167)>],\n",
       " [<StructureData: uuid: 69312d64-7f22-49eb-beb6-5fbf21f93e06 (pk: 1177)>],\n",
       " [<StructureData: uuid: df873b09-312f-45e7-88aa-0d3f3a4e7d01 (pk: 1187)>],\n",
       " [<StructureData: uuid: 0aa59f4e-d029-4d55-8768-994217a17d7b (pk: 1201)>],\n",
       " [<StructureData: uuid: 29093b6c-8496-467a-a480-f41dee8f642c (pk: 1202)>],\n",
       " [<StructureData: uuid: 31de0572-9280-489a-bbd4-832c6d256e7e (pk: 1203)>],\n",
       " [<StructureData: uuid: 933b0eb9-1068-4ee8-a600-fdc134b35438 (pk: 1224)>],\n",
       " [<StructureData: uuid: 3142345a-dc05-424f-9e9a-302e71f734f1 (pk: 1225)>],\n",
       " [<StructureData: uuid: 2cbc4725-ea74-457d-9e2c-2133e12a7397 (pk: 1247)>],\n",
       " [<StructureData: uuid: e7cc3418-28a9-41f2-856b-e144b41778f7 (pk: 1248)>],\n",
       " [<StructureData: uuid: c5ee6abf-fe28-4682-b1e5-2ca7d6c8b922 (pk: 1253)>],\n",
       " [<StructureData: uuid: 12dfca56-1f2d-4ea5-bae0-0c3e712f60b1 (pk: 1305)>],\n",
       " [<StructureData: uuid: 2d05deb3-3e4e-4e15-8091-58869add3d53 (pk: 1256)>],\n",
       " [<StructureData: uuid: 7ec43ef8-c1da-4d93-b7f1-b0faf4316a31 (pk: 1262)>],\n",
       " [<StructureData: uuid: 1ea3a33e-c009-4a87-82a5-9f723031a7ca (pk: 1264)>],\n",
       " [<StructureData: uuid: b49c0b5c-76e7-4d0e-bbd1-d6971a67fcc9 (pk: 1288)>],\n",
       " [<StructureData: uuid: 33684f60-7891-463a-b999-bacc6efc7a80 (pk: 1282)>],\n",
       " [<StructureData: uuid: 5e107ccb-f42f-4550-8968-bd49c97c04dc (pk: 1303)>],\n",
       " [<StructureData: uuid: 805d7940-2ac2-423d-91b0-2c0ece31ae43 (pk: 1327)>],\n",
       " [<StructureData: uuid: 54134d5c-b9b4-4f92-9cc2-fda0a9716db9 (pk: 1334)>],\n",
       " [<StructureData: uuid: b9567e12-6e7a-4a14-9a95-dad01f625b0c (pk: 1356)>],\n",
       " [<StructureData: uuid: 5f873c48-2756-407e-942b-87ac693f0d06 (pk: 1360)>],\n",
       " [<StructureData: uuid: c11b2492-2711-46c7-a939-f37acd7bac77 (pk: 1379)>],\n",
       " [<StructureData: uuid: 292091b7-a364-41bb-b838-4505a80a9a48 (pk: 1405)>],\n",
       " [<StructureData: uuid: 815ab53e-52da-4247-84d4-1e31133a9dc5 (pk: 1408)>],\n",
       " [<StructureData: uuid: 29ae3911-a1db-44f2-b88b-68fbd365fb1d (pk: 1409)>],\n",
       " [<StructureData: uuid: 8f715aee-7a9d-4151-8cce-69af82edc563 (pk: 1414)>],\n",
       " [<StructureData: uuid: 951e0281-d6b8-46fd-8ce6-b99a0e8fdcef (pk: 1415)>],\n",
       " [<StructureData: uuid: c8d20334-dd35-412a-9e27-b145b2f931ad (pk: 1418)>],\n",
       " [<StructureData: uuid: 282cea76-85ea-4d4c-a222-0f546e05335f (pk: 1442)>],\n",
       " [<StructureData: uuid: fe85b080-02c1-440b-bf09-0730bb089d5f (pk: 1446)>],\n",
       " [<StructureData: uuid: 6b1e9f7f-8655-49fd-b7b7-f2356dfa822f (pk: 1454)>],\n",
       " [<StructureData: uuid: e64e5a98-1ab7-4de0-b21b-b048bf86341e (pk: 1456)>],\n",
       " [<StructureData: uuid: a3bd984a-60b9-4768-a53c-d5de9e0279ec (pk: 1461)>],\n",
       " [<StructureData: uuid: 34a39848-476b-402e-a502-f9759ed4d7d6 (pk: 1468)>],\n",
       " [<StructureData: uuid: c786e78a-4117-469e-a421-0096b3474ddf (pk: 1502)>],\n",
       " [<StructureData: uuid: 0a513ab6-435d-416b-85b4-f973df2646b0 (pk: 1512)>],\n",
       " [<StructureData: uuid: 9f7003cd-d87b-43c1-be4a-ee146c29bf2e (pk: 1517)>],\n",
       " [<StructureData: uuid: bd621c08-b63a-4bed-8f51-0a8b3021d0a6 (pk: 1531)>],\n",
       " [<StructureData: uuid: 0c35425e-5ea6-4add-a4b8-fc3911e87912 (pk: 1542)>],\n",
       " [<StructureData: uuid: 38ff91e9-afc5-485c-b002-e20d627c3b2d (pk: 1557)>],\n",
       " [<StructureData: uuid: 88682e49-ba33-4ab3-a3d6-1d075501ab5e (pk: 1562)>],\n",
       " [<StructureData: uuid: 5f5a2f62-15b9-4ef1-9cb0-8334c5a092fa (pk: 1587)>],\n",
       " [<StructureData: uuid: 00afea82-862b-4dcc-a88b-a378d1bc316f (pk: 1588)>],\n",
       " [<StructureData: uuid: 536bde59-2151-4d9e-a73a-5ae3b5a5195c (pk: 1606)>],\n",
       " [<StructureData: uuid: dc6a3a46-600a-4dac-9109-f64746bb3dc1 (pk: 1607)>],\n",
       " [<StructureData: uuid: 0984bf55-2b57-4590-bce8-ea10fbe75763 (pk: 1646)>],\n",
       " [<StructureData: uuid: 095dd254-fc2a-499a-9291-7ce8b4b91dff (pk: 1657)>],\n",
       " [<StructureData: uuid: 66f50237-aee5-4a13-8966-fef2c9d6fe6c (pk: 1667)>],\n",
       " [<StructureData: uuid: c04f9178-4f63-4d4c-9555-99f2f5a4cc5e (pk: 1674)>],\n",
       " [<StructureData: uuid: 0cd545fc-e105-47c9-af9e-12a5d364c121 (pk: 1700)>],\n",
       " [<StructureData: uuid: f47ef250-0cca-4b6c-8931-f545562556fe (pk: 1717)>],\n",
       " [<StructureData: uuid: 29bf77e6-1c91-4806-a662-ee74f73d1ec8 (pk: 1747)>],\n",
       " [<StructureData: uuid: 2d2bddde-80e3-424d-88ef-baec49f8fa8b (pk: 1823)>],\n",
       " [<StructureData: uuid: a7c956f7-e60f-4def-8846-d58e8f2e4c64 (pk: 1827)>],\n",
       " [<StructureData: uuid: bc5d54cc-1759-4cb8-807b-e4de4dbcfbeb (pk: 1845)>],\n",
       " [<StructureData: uuid: 07ef19d3-4077-4406-8d89-6d128d11ce2f (pk: 1856)>],\n",
       " [<StructureData: uuid: 0cbdcd25-afb4-4462-83d1-e2d175edee17 (pk: 1859)>],\n",
       " [<StructureData: uuid: 56407dbd-179e-4adb-b4a6-1f364f46eea6 (pk: 1865)>],\n",
       " [<StructureData: uuid: 2386661e-f6ce-4c02-b1e7-d0db75d76469 (pk: 1870)>],\n",
       " [<StructureData: uuid: c32268d0-4988-4f56-a071-057473a14aa5 (pk: 1875)>],\n",
       " [<StructureData: uuid: 3ce89daa-bfe4-483f-8496-03a4e255ed32 (pk: 1889)>],\n",
       " [<StructureData: uuid: cd21db6e-a429-4bbb-bd78-0605a4363729 (pk: 1913)>],\n",
       " [<StructureData: uuid: b5f2d1e8-36cd-4e46-b233-97ccd0560083 (pk: 1914)>],\n",
       " [<StructureData: uuid: 30bc32fa-782b-4a7d-93b8-f257830e2b66 (pk: 1917)>],\n",
       " [<StructureData: uuid: cf62ccad-237d-4274-8f47-eb2492360a3e (pk: 1786)>],\n",
       " [<StructureData: uuid: b05f7c51-691a-455b-9da1-1b9fe1f47014 (pk: 1948)>],\n",
       " [<StructureData: uuid: 5c7291dc-597c-4fe9-a55e-a3bd510c3ce6 (pk: 1949)>],\n",
       " [<StructureData: uuid: c3285a08-f04b-48a1-8ab5-931d5eda4baf (pk: 1956)>],\n",
       " [<StructureData: uuid: 08c34099-bfd7-4c7f-89ea-54c55cbe01bb (pk: 1958)>],\n",
       " [<StructureData: uuid: 954bd42d-5111-4605-88a0-64ee6838e8a9 (pk: 1976)>],\n",
       " [<StructureData: uuid: b96f67cb-1483-4162-99e2-268b09c1f228 (pk: 27)>],\n",
       " [<StructureData: uuid: 57a14dc8-900b-48ab-910e-a2b42e269a78 (pk: 34)>],\n",
       " [<StructureData: uuid: ecb560fd-93ac-43b2-9533-6f3a5fda408e (pk: 40)>],\n",
       " [<StructureData: uuid: 949b4082-69c9-4c56-8e08-a9c80f5a8b08 (pk: 42)>],\n",
       " [<StructureData: uuid: 76a44fc8-4c26-4de9-af4d-e8aa21eab576 (pk: 51)>],\n",
       " [<StructureData: uuid: b923e51d-bfa4-4e30-a318-b72c72c3bc3e (pk: 65)>],\n",
       " [<StructureData: uuid: 978950c8-39aa-4646-ad51-7035e3691d2d (pk: 78)>],\n",
       " [<StructureData: uuid: 260fc4a4-0ea8-4136-893e-fd968c1beb88 (pk: 89)>],\n",
       " [<StructureData: uuid: 3fef81b7-8330-4030-a113-cb03167026f4 (pk: 90)>],\n",
       " [<StructureData: uuid: 7c47e1d5-36cb-4c4e-a44a-0a9163b2ffa1 (pk: 107)>],\n",
       " [<StructureData: uuid: 46f6b355-1162-4739-9f84-7b2968409b85 (pk: 113)>],\n",
       " [<StructureData: uuid: e4cdeca6-cc4e-4bf6-b005-1b050f80e0af (pk: 159)>],\n",
       " [<StructureData: uuid: d88c9f70-65f4-494b-9de4-e8ad78a1ab75 (pk: 178)>],\n",
       " [<StructureData: uuid: 65bae9e2-ed73-406b-8cbd-095b7b62634a (pk: 183)>],\n",
       " [<StructureData: uuid: 9b57b385-b26b-4a97-b704-feac60605597 (pk: 205)>],\n",
       " [<StructureData: uuid: cca5af82-9ae2-404f-9399-73528236ef94 (pk: 216)>],\n",
       " [<StructureData: uuid: ab37cb1e-4bc2-4859-a085-ffa6ff982338 (pk: 219)>],\n",
       " [<StructureData: uuid: 74a6dcb8-f22b-46db-b766-f4e1620b0e13 (pk: 244)>],\n",
       " [<StructureData: uuid: 7fb1e483-78f5-4911-a7d7-f6f38c1e0a73 (pk: 246)>],\n",
       " [<StructureData: uuid: 164cc810-9c0d-49de-ba9d-be075dcd972a (pk: 279)>],\n",
       " [<StructureData: uuid: 2f4034d0-ad3a-451c-b744-d85ac83e7a2a (pk: 258)>],\n",
       " [<StructureData: uuid: 7c1818be-8b41-411a-8e9f-8fa5848bbff1 (pk: 284)>],\n",
       " [<StructureData: uuid: d4a99146-57eb-4f4c-8423-e650862bdd60 (pk: 287)>],\n",
       " [<StructureData: uuid: d3d51b16-de68-4693-80f0-1aa5b235ade4 (pk: 290)>],\n",
       " [<StructureData: uuid: 7dabdc64-4945-457a-8f3c-d34a844c9256 (pk: 295)>],\n",
       " [<StructureData: uuid: b9af4d93-f56b-4d39-8528-2e4d8f5c1f09 (pk: 299)>],\n",
       " [<StructureData: uuid: 4b7d32c1-9f1a-4384-bc9e-da20b8591fa4 (pk: 302)>],\n",
       " [<StructureData: uuid: 14c17b15-9ffd-4c35-b000-c70007588a69 (pk: 305)>],\n",
       " [<StructureData: uuid: 88bddb92-c6b5-4c24-b24e-1b927ea2cbab (pk: 310)>],\n",
       " [<StructureData: uuid: c95924c3-8783-46b9-9056-8f94794e977a (pk: 316)>],\n",
       " [<StructureData: uuid: a58ad5f6-7e01-47dd-b71f-ca5e2f6b0c22 (pk: 336)>],\n",
       " [<StructureData: uuid: 39a3fd74-8129-4000-9d79-6d36dfa75ef8 (pk: 388)>],\n",
       " [<StructureData: uuid: da1aa62c-b8c3-43f7-a675-7e6af87b7674 (pk: 390)>],\n",
       " [<StructureData: uuid: 251e391b-9df7-4486-b4f5-8d7ca11aa01a (pk: 405)>],\n",
       " [<StructureData: uuid: 5fd428bb-1e4b-4f22-80a3-bad8a7c46ead (pk: 406)>],\n",
       " [<StructureData: uuid: ab74b645-0004-4caa-bcb7-6937ad1e57f6 (pk: 407)>],\n",
       " [<StructureData: uuid: ceffd783-6de3-4271-b1d1-c57cd0cf1986 (pk: 435)>],\n",
       " [<StructureData: uuid: ae9b5026-22b6-4820-91c3-61230582063e (pk: 409)>],\n",
       " [<StructureData: uuid: a1d621ff-9daa-4d53-af76-93163817bae7 (pk: 418)>],\n",
       " [<StructureData: uuid: caf2b2b8-e355-4d4c-a648-a0bd38fd5e46 (pk: 422)>],\n",
       " [<StructureData: uuid: 0d046375-8fa4-476a-9f0e-07d5db1f659e (pk: 433)>],\n",
       " [<StructureData: uuid: b8186d88-5d55-4a92-bd8a-8396e72158a8 (pk: 434)>],\n",
       " [<StructureData: uuid: 305b2184-3023-4c9d-8d46-83da177a53d1 (pk: 443)>],\n",
       " [<StructureData: uuid: 5d98dc0c-0a25-46c9-ab1c-0e88f9983c0b (pk: 464)>],\n",
       " [<StructureData: uuid: 03e5231c-a1b3-4c1e-9657-c63c6821eb3b (pk: 468)>],\n",
       " [<StructureData: uuid: cecd2ca6-04e5-4a25-8a52-6da364a4c0ee (pk: 494)>],\n",
       " [<StructureData: uuid: 3ab3f2ef-b4a5-4c43-87d5-a955599fced1 (pk: 511)>],\n",
       " [<StructureData: uuid: 31401bbe-e5ee-43aa-bfa1-2464526e0471 (pk: 558)>],\n",
       " [<StructureData: uuid: ae19590b-564e-413e-b894-49c574b76f98 (pk: 556)>],\n",
       " [<StructureData: uuid: 684474eb-14d2-42a2-93a0-ce2332503eb1 (pk: 569)>],\n",
       " [<StructureData: uuid: 2ab22931-c69e-4653-b422-95c2204f4e95 (pk: 572)>],\n",
       " [<StructureData: uuid: f5a4596c-bbaa-40e4-bc8c-55473a8bcbf4 (pk: 584)>],\n",
       " [<StructureData: uuid: 03b3ae04-5cfd-49dc-a2e7-0e7f0e5c0e94 (pk: 589)>],\n",
       " [<StructureData: uuid: da914d4c-5f7f-4fa6-bac4-7016e3c6f986 (pk: 592)>],\n",
       " [<StructureData: uuid: a16d800c-6482-4a73-b74e-ea9fffee489e (pk: 611)>],\n",
       " [<StructureData: uuid: 15b1d607-c753-4790-ba9c-10923c845464 (pk: 621)>],\n",
       " [<StructureData: uuid: e2043ee2-e483-4691-a2e3-8c97a5b14448 (pk: 633)>],\n",
       " [<StructureData: uuid: 24be3c01-ee6a-4167-803e-7e3f904fc106 (pk: 643)>],\n",
       " [<StructureData: uuid: 06c6596d-94ae-4f0b-a558-701cdd530fb8 (pk: 654)>],\n",
       " [<StructureData: uuid: 997be6f7-fc20-4749-ba78-eff6062b2b05 (pk: 657)>],\n",
       " [<StructureData: uuid: 40d670c8-cb43-4269-825b-6ccf4afba90a (pk: 686)>],\n",
       " [<StructureData: uuid: db8ee37e-89e8-4e37-a5c9-92a921f2b534 (pk: 710)>],\n",
       " [<StructureData: uuid: b4e020d5-d737-455c-8d30-1e2e07d20268 (pk: 714)>],\n",
       " [<StructureData: uuid: d20f8cc9-cd10-4b00-b399-574268bb976c (pk: 726)>],\n",
       " [<StructureData: uuid: f1a433ba-f0d1-44af-8f2c-d747618cb69e (pk: 735)>],\n",
       " [<StructureData: uuid: 3f4961a2-27ba-4b4c-b049-f9610c4129c5 (pk: 736)>],\n",
       " [<StructureData: uuid: 1e26f227-161c-4e0d-8a52-f134ae56c02a (pk: 742)>],\n",
       " [<StructureData: uuid: 5778efc1-4457-4a07-8174-bfb515d84d00 (pk: 748)>],\n",
       " [<StructureData: uuid: 737039d0-0217-4b63-975c-b4622211bcac (pk: 764)>],\n",
       " [<StructureData: uuid: 8fb0b01b-f089-469c-9a39-093af3b67a1b (pk: 771)>],\n",
       " [<StructureData: uuid: ed56077d-6d3c-4164-b3c3-bfdb8c2ef4e6 (pk: 784)>],\n",
       " [<StructureData: uuid: 254e5a86-7478-4b91-ab2d-7e980eced9be (pk: 788)>],\n",
       " [<StructureData: uuid: 109d9424-27c5-4f0c-871a-01c7678c3078 (pk: 793)>],\n",
       " [<StructureData: uuid: 79a400aa-6f13-4aa2-b5ca-2e5f3a5d2fc4 (pk: 818)>],\n",
       " [<StructureData: uuid: 3def34ed-b152-4062-8e95-ba52ac233bd2 (pk: 821)>],\n",
       " [<StructureData: uuid: 3b6f3daa-fd8e-4961-8d85-7fda8b9123de (pk: 832)>],\n",
       " [<StructureData: uuid: d6bcb57f-a14b-4fbf-bafc-a75cafef8ff1 (pk: 861)>],\n",
       " [<StructureData: uuid: 60abe5ce-d5b0-49c4-9104-df47c190ce4c (pk: 869)>],\n",
       " [<StructureData: uuid: ffd4611d-cb1e-41f4-9282-ab61caa2e701 (pk: 887)>],\n",
       " [<StructureData: uuid: 16c5f607-0be1-4f1a-99af-35f4d93c5b01 (pk: 915)>],\n",
       " [<StructureData: uuid: e732e724-a3d6-47be-af7a-8c0e615e01d5 (pk: 927)>],\n",
       " [<StructureData: uuid: 6275dd5b-c7c8-4ff3-84dc-bfa226e959f8 (pk: 928)>],\n",
       " [<StructureData: uuid: 2d2943c5-140a-4faf-bf9c-40bb4a90245d (pk: 940)>],\n",
       " [<StructureData: uuid: 75303f8a-02e7-483c-ab3b-63e9e0fc3e4f (pk: 947)>],\n",
       " [<StructureData: uuid: e87462a9-4426-427b-b013-f1b7bbc1bc7b (pk: 948)>],\n",
       " [<StructureData: uuid: f1c573c8-e8c7-40fb-aa8b-7ccefa8d7269 (pk: 955)>],\n",
       " [<StructureData: uuid: 5488757e-b5e1-4b62-acf9-9a08de8f684a (pk: 980)>],\n",
       " [<StructureData: uuid: a9d5454f-772f-45c6-af82-b85dd4f83278 (pk: 968)>],\n",
       " [<StructureData: uuid: 436ef08d-acf8-4d19-8fab-e2b7a01ac0da (pk: 1001)>],\n",
       " [<StructureData: uuid: 8c8aeaef-7d19-4e62-9c6d-b5bee45bf8d1 (pk: 1005)>],\n",
       " [<StructureData: uuid: 5d5addd1-85a1-47c2-8cd6-bf37657cc1df (pk: 1008)>],\n",
       " [<StructureData: uuid: aed3e548-ec4d-4320-9662-7c4643b04d64 (pk: 1053)>],\n",
       " [<StructureData: uuid: 4c36e70c-fbd8-48d0-8dbc-04b2e4fce8be (pk: 1064)>],\n",
       " [<StructureData: uuid: cc079fe1-37b2-491a-9f1e-9dcb75cf3630 (pk: 1076)>],\n",
       " [<StructureData: uuid: 359bc31f-f9e7-48f4-87ce-347bac5d5431 (pk: 1080)>],\n",
       " [<StructureData: uuid: 31308ada-d662-4a5c-9904-6a0c146aa961 (pk: 1082)>],\n",
       " [<StructureData: uuid: 829d89ba-57eb-4dac-b0bf-145de3c6d5a5 (pk: 1084)>],\n",
       " [<StructureData: uuid: d34523c8-0eb7-41c7-91fe-bb38f6dd150c (pk: 1140)>],\n",
       " [<StructureData: uuid: c4e6a2aa-004e-4373-9f13-398ba579deea (pk: 1168)>],\n",
       " [<StructureData: uuid: fe715a79-1945-45c2-86ca-c9e4438ca00f (pk: 1169)>],\n",
       " [<StructureData: uuid: 6ec69457-0ae2-4d15-865f-0e62184ef8f0 (pk: 1172)>],\n",
       " [<StructureData: uuid: fcfd5d23-5639-4245-8be1-35096c2d2e9a (pk: 1207)>],\n",
       " [<StructureData: uuid: 78abbcb4-7bba-4805-a008-deaa6da59c6c (pk: 1211)>],\n",
       " [<StructureData: uuid: b7854dd7-9fa7-4b80-8ed1-17186e0771d4 (pk: 1229)>],\n",
       " [<StructureData: uuid: 96a5613d-dc4b-40a9-bb55-69842c34a830 (pk: 1233)>],\n",
       " [<StructureData: uuid: 1c5e22a5-c466-4e8d-b3ba-101b4e8f407a (pk: 1238)>],\n",
       " [<StructureData: uuid: 608e2e50-fa4a-4863-bbdd-d9117de58b0f (pk: 1254)>],\n",
       " [<StructureData: uuid: 9a7d449f-467f-4eae-a2ae-a89545dd9803 (pk: 1259)>],\n",
       " [<StructureData: uuid: 6e6f8381-4dca-40cc-ac74-08e198ded7a4 (pk: 1260)>],\n",
       " [<StructureData: uuid: 8a288b5b-3060-4cbf-83f5-a1272960f55e (pk: 1266)>],\n",
       " [<StructureData: uuid: ff45e62b-8b04-4ace-942e-25d8eef1f8d4 (pk: 1267)>],\n",
       " [<StructureData: uuid: f606153f-8ca0-42a2-9eec-7e5f23f784d6 (pk: 1279)>],\n",
       " [<StructureData: uuid: 593bacdc-8e9c-4f4c-ac4d-6adc844d9e9d (pk: 1319)>],\n",
       " [<StructureData: uuid: ce9b946e-d76e-41b9-8305-79e63e191348 (pk: 1323)>],\n",
       " [<StructureData: uuid: b66825c7-e06d-4165-a3e4-e79e77cb2063 (pk: 1352)>],\n",
       " [<StructureData: uuid: 4eaca5af-daae-4dbd-8a0c-137a18028982 (pk: 1353)>],\n",
       " [<StructureData: uuid: 62b32fd2-0140-4483-9bb7-bb766a23e613 (pk: 1362)>],\n",
       " [<StructureData: uuid: 0226a217-10e0-41b6-a6d4-02aa4999f71f (pk: 1363)>],\n",
       " [<StructureData: uuid: 1e9a7095-47c4-4ea8-b660-f1b06be75da9 (pk: 1377)>],\n",
       " [<StructureData: uuid: 42ebbb4f-ff3d-4901-b297-c7c626707b23 (pk: 1380)>],\n",
       " [<StructureData: uuid: af32f309-5528-434a-bb20-3873af4ad988 (pk: 1385)>],\n",
       " [<StructureData: uuid: 565172e0-57fa-48e7-85bc-e7b4d4c7c5d9 (pk: 1394)>],\n",
       " [<StructureData: uuid: 27b62e92-ca7a-40be-8b22-f0460fcde0b7 (pk: 1424)>],\n",
       " [<StructureData: uuid: c47bfedf-2cab-4ecf-842f-3a5662f53770 (pk: 1429)>],\n",
       " [<StructureData: uuid: bec83f75-f08c-4765-83cc-3cc752e47c33 (pk: 1443)>],\n",
       " [<StructureData: uuid: 907199c1-13b2-4ad9-ba3f-ffeb7b95e5e5 (pk: 1473)>],\n",
       " [<StructureData: uuid: c9af3a3e-3422-418c-b6e4-e7f835febe46 (pk: 1482)>],\n",
       " [<StructureData: uuid: 8aa71cc2-9b8a-4b21-bfc1-bdae460193b8 (pk: 1499)>],\n",
       " [<StructureData: uuid: feaadcaa-184b-4911-a21f-7e36a1a24df7 (pk: 1513)>],\n",
       " [<StructureData: uuid: 88d7d308-9e97-403a-8fa0-d43c69ed5878 (pk: 1533)>],\n",
       " [<StructureData: uuid: 29d02818-0f3b-42b2-b7d7-579ae0e1ba98 (pk: 1535)>],\n",
       " [<StructureData: uuid: 1461de80-fda5-4a0b-b9ce-50103ae4b452 (pk: 1548)>],\n",
       " [<StructureData: uuid: a187da6b-c065-4bba-9f34-812ce2cc5e2b (pk: 1567)>],\n",
       " [<StructureData: uuid: cf22ccfb-6ea5-44b4-934e-4f0d3dfa0175 (pk: 1569)>],\n",
       " [<StructureData: uuid: b1d67f0a-3cf0-436f-998b-c684fcd4503f (pk: 1576)>],\n",
       " [<StructureData: uuid: a61d60fd-787b-4fe2-b377-906e18d933b5 (pk: 1589)>],\n",
       " [<StructureData: uuid: d5d02962-9610-42c8-8e6a-a9b7bdba6ed3 (pk: 1601)>],\n",
       " [<StructureData: uuid: 106c0085-b0fd-4067-a138-2eadc73d56c1 (pk: 1613)>],\n",
       " [<StructureData: uuid: 6fef1191-23cf-4796-97fc-f3bb58c0cddd (pk: 1615)>],\n",
       " [<StructureData: uuid: 24b7aef2-11e0-4144-b217-c69947e950e5 (pk: 1624)>],\n",
       " [<StructureData: uuid: 446dffcd-10e5-407c-8d51-0f28dc70563e (pk: 1647)>],\n",
       " [<StructureData: uuid: 8c39cff8-d996-4087-bcb2-61fcd206328b (pk: 1650)>],\n",
       " [<StructureData: uuid: 55dd5e10-c714-41d6-80e8-2ec5150ba521 (pk: 1666)>],\n",
       " [<StructureData: uuid: b98809f4-7b9b-4d5f-8304-4a88c23401d6 (pk: 1690)>],\n",
       " [<StructureData: uuid: 89158754-46e0-4cca-8551-bc890c703061 (pk: 1704)>],\n",
       " [<StructureData: uuid: 4aa12967-46c5-4495-89c7-38072c13feac (pk: 1706)>],\n",
       " [<StructureData: uuid: 47daae4c-79cf-4612-89b2-5b9a52df573d (pk: 1711)>],\n",
       " [<StructureData: uuid: 6337c5ca-a25e-4bdc-af0a-da4f492d930b (pk: 1714)>],\n",
       " [<StructureData: uuid: 3fe64ac4-b082-4ce3-8f17-c5500d9d44c8 (pk: 1736)>],\n",
       " [<StructureData: uuid: 8e77b5ef-658e-46e2-b803-5893d0b27590 (pk: 1739)>],\n",
       " [<StructureData: uuid: 493203ea-9466-4d70-a876-bd0ac699f986 (pk: 1753)>],\n",
       " [<StructureData: uuid: 330bfcb0-5ac7-4a7d-a3c8-1c7fba3d314e (pk: 1757)>],\n",
       " [<StructureData: uuid: a9ebb371-8aec-4bb0-92a4-83e003794d6c (pk: 1774)>],\n",
       " [<StructureData: uuid: 9ef06025-32ea-46b1-ac80-efa9a7790aa3 (pk: 1775)>],\n",
       " [<StructureData: uuid: 92749b00-7eb3-456e-b0a9-571dfcf56a2d (pk: 1777)>],\n",
       " [<StructureData: uuid: 264dd871-f5f0-446b-b007-d209b98b94ea (pk: 1779)>],\n",
       " [<StructureData: uuid: b9b07519-4c9d-44cc-b55f-881099be2480 (pk: 1797)>],\n",
       " [<StructureData: uuid: 13f11496-b1dd-4fed-8cca-8116459e4219 (pk: 1802)>],\n",
       " [<StructureData: uuid: d9f53138-6c01-4ee5-a19f-1770f7b4c8c1 (pk: 1809)>],\n",
       " [<StructureData: uuid: 84d91c87-ca25-4616-890d-74220e8e19e7 (pk: 1813)>],\n",
       " [<StructureData: uuid: a2ae295e-c7c6-43f3-8b2c-597104a8b440 (pk: 1835)>],\n",
       " [<StructureData: uuid: 429941ab-104a-4f45-a2b7-b2d681faab77 (pk: 1850)>],\n",
       " [<StructureData: uuid: 64b20793-85dc-4aac-a47f-a8b498202141 (pk: 1858)>],\n",
       " [<StructureData: uuid: 4d39753f-e8aa-4594-872e-c8f3fbe57547 (pk: 1876)>],\n",
       " [<StructureData: uuid: 2e3a11d6-a975-44e8-b121-b592fa8dd497 (pk: 1894)>],\n",
       " [<StructureData: uuid: ec5b274e-ad55-4307-a9f4-871c0f8f5757 (pk: 1895)>],\n",
       " [<StructureData: uuid: 6dadfd46-6c63-45b6-a344-fc48b851fb0c (pk: 1905)>],\n",
       " [<StructureData: uuid: d363b50d-c5ec-4bbf-9293-bd59456e133e (pk: 1916)>],\n",
       " [<StructureData: uuid: ec745a43-95a6-4c8b-b7a2-58969b2cdce5 (pk: 1925)>],\n",
       " [<StructureData: uuid: f3ea12d6-7c1d-41a2-a900-63f63434ef27 (pk: 1965)>]]"
      ]
     },
     "execution_count": 7,
     "metadata": {},
     "output_type": "execute_result"
    }
   ],
   "source": [
    "query = QueryBuilder()\n",
    "query.append(StructureData)\n",
    "query.all()"
   ]
  },
  {
   "cell_type": "markdown",
   "id": "3b441622",
   "metadata": {},
   "source": [
    "Note that this command is very literal and does in fact retrieve **all** the crystal structure nodes that are stored in the database, which may be very slow if your database becomes very large.\n",
    "One solution is to tell the `QueryBuilder` that we are, for example, only interested in 5 crystal structure nodes.\n",
    "This can be done with the `limit()` method as follows:"
   ]
  },
  {
   "cell_type": "code",
   "execution_count": 8,
   "id": "3150a400",
   "metadata": {
    "execution": {
     "iopub.execute_input": "2021-07-06T07:13:06.389125Z",
     "iopub.status.busy": "2021-07-06T07:13:06.388470Z",
     "iopub.status.idle": "2021-07-06T07:13:06.393402Z",
     "shell.execute_reply": "2021-07-06T07:13:06.393807Z"
    },
    "tags": [
     "hide-output"
    ]
   },
   "outputs": [
    {
     "data": {
      "text/plain": [
       "[[<StructureData: uuid: 5307c08a-90c2-445b-8cdc-d3fdcb2eb47c (pk: 14)>],\n",
       " [<StructureData: uuid: c44af50c-90e8-47e0-984c-7edb7eda5205 (pk: 15)>],\n",
       " [<StructureData: uuid: 68d5b4c2-f43a-48ac-9cd3-e9f405f89765 (pk: 20)>],\n",
       " [<StructureData: uuid: 6d0a3c87-3dac-4c1d-a09d-e19b2f908ca9 (pk: 28)>],\n",
       " [<StructureData: uuid: 528d37da-e757-4ed1-b291-6c84103fa55b (pk: 50)>]]"
      ]
     },
     "execution_count": 8,
     "metadata": {},
     "output_type": "execute_result"
    }
   ],
   "source": [
    "query = QueryBuilder()\n",
    "query.append(StructureData)\n",
    "query.limit(5)\n",
    "query.all()"
   ]
  },
  {
   "cell_type": "markdown",
   "id": "6c5597ae",
   "metadata": {},
   "source": [
    "Another option is to use the concept of *array slicing*, native to Python, to specify only to return a subset of the total return set.\n",
    "Notice that this example can be very slow in big databases.\n",
    "When you want performance, use the functionality native to the `QueryBuilder`, like `limit`, which limits the number of results directly at the database level!\n",
    "\n",
    "The following will return the first 7 results."
   ]
  },
  {
   "cell_type": "code",
   "execution_count": 9,
   "id": "f7239620",
   "metadata": {
    "execution": {
     "iopub.execute_input": "2021-07-06T07:13:06.399060Z",
     "iopub.status.busy": "2021-07-06T07:13:06.398409Z",
     "iopub.status.idle": "2021-07-06T07:13:06.506669Z",
     "shell.execute_reply": "2021-07-06T07:13:06.507043Z"
    },
    "tags": [
     "hide-output"
    ]
   },
   "outputs": [
    {
     "data": {
      "text/plain": [
       "[[<StructureData: uuid: 5307c08a-90c2-445b-8cdc-d3fdcb2eb47c (pk: 14)>],\n",
       " [<StructureData: uuid: c44af50c-90e8-47e0-984c-7edb7eda5205 (pk: 15)>],\n",
       " [<StructureData: uuid: 68d5b4c2-f43a-48ac-9cd3-e9f405f89765 (pk: 20)>],\n",
       " [<StructureData: uuid: 6d0a3c87-3dac-4c1d-a09d-e19b2f908ca9 (pk: 28)>],\n",
       " [<StructureData: uuid: 528d37da-e757-4ed1-b291-6c84103fa55b (pk: 50)>],\n",
       " [<StructureData: uuid: 0d0f620d-f0a1-4ed5-adc6-67f9e14818d2 (pk: 59)>],\n",
       " [<StructureData: uuid: c91903cf-74cd-4bce-9c63-fce6516f7bdf (pk: 73)>]]"
      ]
     },
     "execution_count": 9,
     "metadata": {},
     "output_type": "execute_result"
    }
   ],
   "source": [
    "query.limit(None)\n",
    "query.all()[:7]"
   ]
  },
  {
   "cell_type": "markdown",
   "id": "591d0585",
   "metadata": {},
   "source": [
    "If you want to know a little bit more about the retrieved crystal structure nodes, you can loop through the returned results by using the `iterall()` method, short for \"iterate over all\".\n",
    "This allows you, for instance, to print the formula of the structures:"
   ]
  },
  {
   "cell_type": "code",
   "execution_count": 10,
   "id": "a55d53cc",
   "metadata": {
    "execution": {
     "iopub.execute_input": "2021-07-06T07:13:06.513476Z",
     "iopub.status.busy": "2021-07-06T07:13:06.512910Z",
     "iopub.status.idle": "2021-07-06T07:13:06.529400Z",
     "shell.execute_reply": "2021-07-06T07:13:06.529793Z"
    },
    "tags": [
     "hide-output"
    ]
   },
   "outputs": [
    {
     "name": "stdout",
     "output_type": "stream",
     "text": [
      "O3TaTl\n",
      "O3Sn2\n",
      "NiO3Sr\n",
      "O3PbZr\n",
      "AlO3Y\n"
     ]
    }
   ],
   "source": [
    "query = QueryBuilder()\n",
    "query.append(StructureData)\n",
    "query.limit(5)\n",
    "for structure, in query.iterall():\n",
    "    print(structure.get_formula())"
   ]
  },
  {
   "cell_type": "markdown",
   "id": "17ffb29c",
   "metadata": {},
   "source": [
    "This is just a simple example how we can employ the `QueryBuilder` to get details about the contents of our database.\n",
    "We have now seen simple queries for the `Node` and `StructureData` classes, but the same rules apply to all the AiiDA `Node` sub-classes.\n",
    "For example, you may want to count the number of entries for each of the `Node` sub-classes in the following list, as well as the `Node` class itself:"
   ]
  },
  {
   "cell_type": "code",
   "execution_count": 11,
   "id": "53f67ea4",
   "metadata": {
    "execution": {
     "iopub.execute_input": "2021-07-06T07:13:06.533830Z",
     "iopub.status.busy": "2021-07-06T07:13:06.533146Z",
     "iopub.status.idle": "2021-07-06T07:13:06.535185Z",
     "shell.execute_reply": "2021-07-06T07:13:06.535582Z"
    }
   },
   "outputs": [],
   "source": [
    "class_list = [Node, StructureData, KpointsData, Dict, UpfData, Code]"
   ]
  },
  {
   "cell_type": "markdown",
   "id": "f8b40f90",
   "metadata": {},
   "source": [
    "### Exercise\n",
    "\n",
    "Using the tools you have learned so far, it is possible to build a table of the number of occurrences of each of these `Node` classes that are stored in the database.\n",
    "You can loop over the `class_list` list and create a `QueryBuilder` instance for each `Node` (sub-)class.\n",
    "See if you can finish the following loop by completing the line with the comment, printing the count of each `Node` (sub-)class."
   ]
  },
  {
   "cell_type": "code",
   "execution_count": 12,
   "id": "345b4d90",
   "metadata": {
    "execution": {
     "iopub.execute_input": "2021-07-06T07:13:06.540190Z",
     "iopub.status.busy": "2021-07-06T07:13:06.539563Z",
     "iopub.status.idle": "2021-07-06T07:13:06.541790Z",
     "shell.execute_reply": "2021-07-06T07:13:06.542223Z"
    },
    "tags": [
     "remove-output"
    ]
   },
   "outputs": [
    {
     "name": "stdout",
     "output_type": "stream",
     "text": [
      "\n",
      "\n",
      "\n",
      "\n",
      "\n",
      "\n"
     ]
    }
   ],
   "source": [
    "for class_name in class_list:\n",
    "    query = QueryBuilder()\n",
    "    query.append(class_name)\n",
    "    print() # Finish this line to print the results!"
   ]
  },
  {
   "cell_type": "markdown",
   "id": "4b7f8e69",
   "metadata": {},
   "source": [
    "If all went well, you should see something like the following, where of course the numbers may differ for your database:\n",
    "\n",
    "Class name     | Entries\n",
    "---------------|--------\n",
    " Node          | 10273\n",
    " StructureData | 271\n",
    " KpointsData   | 953\n",
    " Dict          | 2922\n",
    " UpfData       | 85\n",
    " Code          | 10"
   ]
  },
  {
   "cell_type": "markdown",
   "id": "b9e89a5a",
   "metadata": {},
   "source": [
    "(query/project)=\n",
    "\n",
    "## Projection and filters\n",
    "\n",
    "Up until now we have always asked the `QueryBuilder` instances to return complete nodes.\n",
    "However, we might not necessarily be interested in all the node's properties, but rather just a selected set or even just a single property.\n",
    "We can tell the `QueryBuilder` which properties we would like to be returned, by asking it to **project** those properties in the result.\n",
    "For example, you may only want to get the universally unique identifiers (UUIDs) of a set of nodes, which is stored in the `uuid` attribute."
   ]
  },
  {
   "cell_type": "code",
   "execution_count": 13,
   "id": "3b5feece",
   "metadata": {
    "execution": {
     "iopub.execute_input": "2021-07-06T07:13:06.548154Z",
     "iopub.status.busy": "2021-07-06T07:13:06.547574Z",
     "iopub.status.idle": "2021-07-06T07:13:06.551549Z",
     "shell.execute_reply": "2021-07-06T07:13:06.551928Z"
    },
    "tags": [
     "hide-output"
    ]
   },
   "outputs": [
    {
     "data": {
      "text/plain": [
       "[['7f079d70-e361-426a-af77-4fd86de8be88'],\n",
       " ['fc9a76c1-f07d-41ac-98c8-d81c5118e351'],\n",
       " ['b66bf73b-8b26-498b-815d-28bcd5fd52df'],\n",
       " ['7c5371ee-632d-4f08-be55-ee30587b9561'],\n",
       " ['b9bf60b7-3c56-4ccc-9b24-03ddedd77f68']]"
      ]
     },
     "execution_count": 13,
     "metadata": {},
     "output_type": "execute_result"
    }
   ],
   "source": [
    "query = QueryBuilder()\n",
    "query.append(Node, project=['uuid'])\n",
    "query.limit(5)\n",
    "query.all()"
   ]
  },
  {
   "cell_type": "markdown",
   "id": "ce5df705",
   "metadata": {},
   "source": [
    "By using the `project` keyword in the `append` call, you are specifying `query` to inform AiiDA that you are only interested in the `uuid` property of the `Node` class.\n",
    "Note that the value assigned to `project` is a list, since we may want to specify more than one property.\n",
    "\n",
    "### Exercise\n",
    "\n",
    "See if you can get the `QueryBuilder` to return *both* the PK and the UUID of the first 5 nodes in the following cell.\n",
    "\n",
    "```{important}\n",
    "In the context of the `QueryBuilder`, the PK of a node is called `id` and the UUID is called `uuid` (as seen above).\n",
    "```"
   ]
  },
  {
   "cell_type": "code",
   "execution_count": 14,
   "id": "766ea9c7",
   "metadata": {
    "execution": {
     "iopub.execute_input": "2021-07-06T07:13:06.555831Z",
     "iopub.status.busy": "2021-07-06T07:13:06.555178Z",
     "iopub.status.idle": "2021-07-06T07:13:06.557947Z",
     "shell.execute_reply": "2021-07-06T07:13:06.558371Z"
    },
    "tags": [
     "raises-exception",
     "remove-output"
    ]
   },
   "outputs": [
    {
     "ename": "SyntaxError",
     "evalue": "expression cannot contain assignment, perhaps you meant \"==\"? (901758042.py, line 2)",
     "output_type": "error",
     "traceback": [
      "\u001b[0;36m  File \u001b[0;32m\"/var/folders/t2/xbl15_3n4tsb1vr_ccmmtmbr0000gn/T/ipykernel_78489/901758042.py\"\u001b[0;36m, line \u001b[0;32m2\u001b[0m\n\u001b[0;31m    query.append(Node, project=)#? What should the value be for the project key\u001b[0m\n\u001b[0m                       ^\u001b[0m\n\u001b[0;31mSyntaxError\u001b[0m\u001b[0;31m:\u001b[0m expression cannot contain assignment, perhaps you meant \"==\"?\n"
     ]
    }
   ],
   "source": [
    "query = QueryBuilder()\n",
    "query.append(Node, project=)#? What should the value be for the project key\n",
    "query.limit(5)\n",
    "query.all()"
   ]
  },
  {
   "cell_type": "markdown",
   "id": "5c4a80bd",
   "metadata": {},
   "source": [
    "To give you an idea of the various properties you can project for some of the base AiiDA classes you can consult the following table.\n",
    "Note that this is by no means an exhaustive list:\n",
    "\n",
    "Class    | Properties\n",
    "---------|-----------\n",
    "Node     | `id`, `uuid`, `node_type`, `label`, `description`, `ctime`, `mtime`\n",
    "Computer | `id`, `uuid`, `name`, `hostname`, `description`, `transport_type`, `scheduler_type`\n",
    "User     | `id`, `email`, `first_name`, `last_name`, `institution`\n",
    "Group    | `id`, `uuid`, `label`, `type_string`, `time`, `description`"
   ]
  },
  {
   "cell_type": "markdown",
   "id": "31e70c17",
   "metadata": {},
   "source": [
    "The same properties can also be used to *filter* for specific nodes in your database.\n",
    "Indeed, up until now, you have only asked the `QueryBuilder` to return *all* the instances of a certain type of node, or at best a limited number of those (without specifying which ones).\n",
    "But in general we might be interested in a very specific node.\n",
    "For example, we may have the PK of a certain node and we would like to know when it was created and last modified.\n",
    "You can tell the `QueryBuilder` instance to select nodes that only match that criterion, by telling it to **filter** based on that property."
   ]
  },
  {
   "cell_type": "code",
   "execution_count": 15,
   "id": "fb71719e",
   "metadata": {
    "execution": {
     "iopub.execute_input": "2021-07-06T07:13:06.565048Z",
     "iopub.status.busy": "2021-07-06T07:13:06.564465Z",
     "iopub.status.idle": "2021-07-06T07:13:06.568355Z",
     "shell.execute_reply": "2021-07-06T07:13:06.568747Z"
    },
    "tags": [
     "hide-output"
    ]
   },
   "outputs": [
    {
     "data": {
      "text/plain": [
       "[[datetime.datetime(2014, 10, 28, 20, 18, 53, 927563, tzinfo=psycopg2.tz.FixedOffsetTimezone(offset=60, name=None)),\n",
       "  datetime.datetime(2014, 10, 28, 20, 18, 54, 388764, tzinfo=psycopg2.tz.FixedOffsetTimezone(offset=60, name=None))]]"
      ]
     },
     "execution_count": 15,
     "metadata": {},
     "output_type": "execute_result"
    }
   ],
   "source": [
    "query = QueryBuilder()\n",
    "query.append(Node, project=['ctime', 'mtime'], filters={'id': {'==': 1}})\n",
    "query.all()"
   ]
  },
  {
   "cell_type": "markdown",
   "id": "18dda905",
   "metadata": {},
   "source": [
    "Note the syntax of the `filters` keyword.\n",
    "The value is a dictionary, where the keys indicate the node property it operates on, in this case the `id` property, represeting the node's PK.\n",
    "The value of that key is again itself a dictionary, where the key indicates the logical operator *EQUAL TO* via two equality signs (`==`), and the value corresponds to the desired value of the property.\n",
    "\n",
    "You may have multiple criteria that you want to filter for, in which case you can use the logical `or` and `and` operators.\n",
    "Let's say, for example, you want the `QueryBuilder` to retrieve all the crystal structure nodes (`StructureData`) that were created no longer than 12 days ago **and** have an `a` in their UUID.\n",
    "You can express this criterion by making use of the `and` operator, which allows you to specify multiple filters that all have to be satisfied."
   ]
  },
  {
   "cell_type": "code",
   "execution_count": 16,
   "id": "8e27ec2c",
   "metadata": {
    "execution": {
     "iopub.execute_input": "2021-07-06T07:13:06.575952Z",
     "iopub.status.busy": "2021-07-06T07:13:06.575376Z",
     "iopub.status.idle": "2021-07-06T07:13:06.579314Z",
     "shell.execute_reply": "2021-07-06T07:13:06.579693Z"
    },
    "tags": [
     "hide-output"
    ]
   },
   "outputs": [
    {
     "data": {
      "text/plain": [
       "[]"
      ]
     },
     "execution_count": 16,
     "metadata": {},
     "output_type": "execute_result"
    }
   ],
   "source": [
    "from datetime import datetime, timedelta\n",
    "\n",
    "query = QueryBuilder()\n",
    "query.append(\n",
    "    StructureData,\n",
    "    filters={\n",
    "        'and': [\n",
    "            {'ctime': {'>': datetime.now() - timedelta(days=12)}},\n",
    "            {'uuid': {'like': '%a%'}}\n",
    "        ]\n",
    "    }\n",
    ")\n",
    "query.all()"
   ]
  },
  {
   "cell_type": "markdown",
   "id": "d46362e9",
   "metadata": {},
   "source": [
    "You may have noticed that the _greater than_ (`>`) operator, and its related operators, can work with Python `datetime` objects.\n",
    "These are just a few of the operators that `QueryBuilder` understands.\n",
    "Below you find a table with some of the logical operators that you can use:\n",
    "\n",
    "Operator             | Data type             | Example                            | Description\n",
    "---------------------|-----------------------|------------------------------------|------------------\n",
    "`==`                 | All                   | `{'==': '12'}`                     | Equality operator\n",
    "`in`                 | All                   | `{'in':['FINISHED', 'PARSING']}`   | Member of a set\n",
    "`<`, `>`, `<=`, `>=` | float, int, datetime  | `{'>': 5.2}`                       | Size comparison operator\n",
    "`like`               | char, str             | `{'like': 'calculation%'}`         | String comparison, `%` is a wildcard\n",
    "`ilike`              | char, str             | `{'ilike': 'caLCulAtion%'}`        | String comparison, capitalization insensitive\n",
    "`or`                 |                       | `{'or': [{'<': 5.3}, {'>': 6.3}]}` | Logical *OR* operator\n",
    "`and`                |                       | `{'and': [{'>=': 2}, {'<=': 6}]}`  | Logical *AND* operator"
   ]
  },
  {
   "cell_type": "markdown",
   "id": "63eb08a8",
   "metadata": {},
   "source": [
    "### Exercise\n",
    "\n",
    "Try to write a query below that will retrieve all `Group` nodes whose `label` property starts with the string `tutorial`."
   ]
  },
  {
   "cell_type": "code",
   "execution_count": 17,
   "id": "013cc925",
   "metadata": {
    "execution": {
     "iopub.execute_input": "2021-07-06T07:13:06.583303Z",
     "iopub.status.busy": "2021-07-06T07:13:06.582726Z",
     "iopub.status.idle": "2021-07-06T07:13:06.584764Z",
     "shell.execute_reply": "2021-07-06T07:13:06.585152Z"
    }
   },
   "outputs": [],
   "source": [
    "# Write your query here"
   ]
  },
  {
   "cell_type": "markdown",
   "id": "98fc9c90",
   "metadata": {},
   "source": [
    "## Defining relationships between query clauses\n",
    "\n",
    "So far we have seen how the `QueryBuilder` can be used to search the database for entries of a specific node type, potentially projecting only specific properties and filtering for certain property values.\n",
    "However, our nodes do not live in a vacuum.\n",
    "They are part of a directed acyclic graph and are thus linked to one another.\n",
    "Therefore, we typically want to be able to search for nodes based on a certain relationship that they might have with other nodes.\n",
    "Consider for example that you have a `StructureData` node that was produced by some calculation.\n",
    "How would you retrieve the calculation, while only having knowledge of the `StructureData` node?\n",
    "\n",
    "To accomplish this, you need to be able to tell the `QueryBuilder` what the relationship is between the nodes you are interested in.\n",
    "With the `QueryBuilder`, the following can be done to find all the crystal structure nodes that have been created as an output by a `PwCalculation` process.\n",
    "\n",
    "```{important}\n",
    "In the graph, we are not looking for a `PwCalculation` process (since processes do not live in the graph, as you have learned previously).\n",
    "We are actually looking for a `CalcJobNode` whose `process_type` property indicates it was run by a `PwCalculation` process.\n",
    "Since this is a very common pattern, the `QueryBuilder` allows to directly append the `PwCalculation` process class as a short-cut, but it internally unwraps this into a query for a `CalcJobNode` with the appropriate filter on the `process_type` property.\n",
    "```"
   ]
  },
  {
   "cell_type": "code",
   "execution_count": 18,
   "id": "86d705b2",
   "metadata": {
    "execution": {
     "iopub.execute_input": "2021-07-06T07:13:06.590551Z",
     "iopub.status.busy": "2021-07-06T07:13:06.589996Z",
     "iopub.status.idle": "2021-07-06T07:13:06.592728Z",
     "shell.execute_reply": "2021-07-06T07:13:06.592253Z"
    },
    "tags": [
     "hide-output"
    ]
   },
   "outputs": [
    {
     "data": {
      "text/plain": [
       "<aiida.orm.querybuilder.QueryBuilder at 0x126b2b6d0>"
      ]
     },
     "execution_count": 18,
     "metadata": {},
     "output_type": "execute_result"
    }
   ],
   "source": [
    "query = QueryBuilder()\n",
    "query.append(PwCalculation, tag='calculation')"
   ]
  },
  {
   "cell_type": "markdown",
   "id": "bca23e10",
   "metadata": {},
   "source": [
    "Since we are looking for pairs of nodes, you need to `append` the second node as well to the `QueryBuilder` instance, `query`.\n",
    "In the second line above, to specify the relationship between the nodes, we need to be able to reference back to the `CalcJobNode` that is matched.\n",
    "Therefore, you gave it a tag with the `tag` keyword.\n",
    "This can now be used in the following line:"
   ]
  },
  {
   "cell_type": "code",
   "execution_count": 19,
   "id": "b9e72c24",
   "metadata": {
    "execution": {
     "iopub.execute_input": "2021-07-06T07:13:06.597094Z",
     "iopub.status.busy": "2021-07-06T07:13:06.596459Z",
     "iopub.status.idle": "2021-07-06T07:13:06.598943Z",
     "shell.execute_reply": "2021-07-06T07:13:06.599430Z"
    },
    "tags": [
     "hide-output"
    ]
   },
   "outputs": [
    {
     "data": {
      "text/plain": [
       "<aiida.orm.querybuilder.QueryBuilder at 0x126b2b6d0>"
      ]
     },
     "execution_count": 19,
     "metadata": {},
     "output_type": "execute_result"
    }
   ],
   "source": [
    "query.append(StructureData, with_incoming='calculation')"
   ]
  },
  {
   "cell_type": "markdown",
   "id": "e9ce4d88",
   "metadata": {},
   "source": [
    "The goal was to find `StructureData` nodes, so we `append` that to the `query`.\n",
    "However, we didn't want to find just any `StructureData` nodes; they had to be an output of `PwCalculation`.\n",
    "\n",
    "Note how you expressed this relation by the `with_incoming` keyword, because we want a `StructureData` node having an *incoming* link from the `CalcJobNode` referenced by the `'calculation'` tag (i.e., the `StructureData` must be an *output* of the calculation).\n",
    "\n",
    "What remains to do is execute the query:"
   ]
  },
  {
   "cell_type": "code",
   "execution_count": 20,
   "id": "8ba2978d",
   "metadata": {
    "execution": {
     "iopub.execute_input": "2021-07-06T07:13:06.607221Z",
     "iopub.status.busy": "2021-07-06T07:13:06.606648Z",
     "iopub.status.idle": "2021-07-06T07:13:06.613023Z",
     "shell.execute_reply": "2021-07-06T07:13:06.613417Z"
    },
    "tags": [
     "hide-output"
    ]
   },
   "outputs": [
    {
     "data": {
      "text/plain": [
       "[[<StructureData: uuid: 949b4082-69c9-4c56-8e08-a9c80f5a8b08 (pk: 42)>],\n",
       " [<StructureData: uuid: 6e6f8381-4dca-40cc-ac74-08e198ded7a4 (pk: 1260)>],\n",
       " [<StructureData: uuid: a58ad5f6-7e01-47dd-b71f-ca5e2f6b0c22 (pk: 336)>],\n",
       " [<StructureData: uuid: 79a400aa-6f13-4aa2-b5ca-2e5f3a5d2fc4 (pk: 818)>],\n",
       " [<StructureData: uuid: 15b1d607-c753-4790-ba9c-10923c845464 (pk: 621)>]]"
      ]
     },
     "execution_count": 20,
     "metadata": {},
     "output_type": "execute_result"
    }
   ],
   "source": [
    "query.limit(5)\n",
    "query.all()"
   ]
  },
  {
   "cell_type": "markdown",
   "id": "6a886659",
   "metadata": {},
   "source": [
    "What you have done can be visualized schematically, thanks to a little tool included in the very first notebook cell (i.e., if the following doesn't work, you should re-run the very first cell and try again)."
   ]
  },
  {
   "cell_type": "code",
   "execution_count": 21,
   "id": "b6fe0ffa",
   "metadata": {
    "execution": {
     "iopub.execute_input": "2021-07-06T07:13:06.617839Z",
     "iopub.status.busy": "2021-07-06T07:13:06.617134Z",
     "iopub.status.idle": "2021-07-06T07:13:06.669906Z",
     "shell.execute_reply": "2021-07-06T07:13:06.670458Z"
    },
    "tags": [
     "hide-output"
    ]
   },
   "outputs": [
    {
     "name": "stderr",
     "output_type": "stream",
     "text": [
      "/Users/chrisjsewell/Documents/GitHub/aiida-tutorials/.tox/notebooks/lib/python3.9/site-packages/aiida/orm/querybuilder.py:1839: AiidaDeprecationWarning: method is deprecated, use the `queryhelp` property instead\n",
      "  warnings.warn('method is deprecated, use the `queryhelp` property instead', AiidaDeprecationWarning)\n"
     ]
    },
    {
     "data": {
      "image/png": "[encoded data removed]",
      "text/plain": [
       "<IPython.core.display.Image object>"
      ]
     },
     "execution_count": 21,
     "metadata": {},
     "output_type": "execute_result"
    }
   ],
   "source": [
    "generate_query_graph(query.get_json_compatible_queryhelp(), 'query1.png')\n",
    "Image(filename='query1.png')"
   ]
  },
  {
   "cell_type": "markdown",
   "id": "f2bb3562",
   "metadata": {},
   "source": [
    "The `with_incoming` keyword is only one of many potential relationships that exist between the various AiiDA nodes and that are implemented in the `QueryBuilder`.\n",
    "The table below gives an overview of the implemented relationships, which nodes they are defined for and what relation it implicates.\n",
    "The full list of relations can be found {ref}`on this page of the AiiDA documentation<aiida:topics:database:advancedquery:tables:relationships>`."
   ]
  },
  {
   "cell_type": "markdown",
   "id": "ff11490f",
   "metadata": {},
   "source": [
    "Entity from | Entity to | Relationship     | Explanation\n",
    "------------|-----------|------------------|------------\n",
    "Node        | Node      | with_outgoing    | One node as input of another node\n",
    "Node        | Node      | with_incoming    | One node as output of another node\n",
    "Node        | Node      | with_descendants | One node as the ancestor of another node\n",
    "Node        | Node      | with_ancestors   | One node as descendant of another node\n",
    "Group       | Node      | with_node        | The group of a node\n",
    "Node        | Group     | with_group       | The node is a member of a group\n",
    "Computer    | Node      | with_node        | The computer of a node\n",
    "Node        | Computer  | with_computer    | The node of a computer\n",
    "User        | Node      | with_node        | The creator of a node is a user\n",
    "Node        | User      | with_user        | The node was created by a user"
   ]
  },
  {
   "cell_type": "markdown",
   "id": "0671e4d8",
   "metadata": {},
   "source": [
    "### Exercise\n",
    "\n",
    "See if you can write a query that will return all the `UpfData` nodes that are a member of a `Group` whose name starts with the string `SSSP`."
   ]
  },
  {
   "cell_type": "code",
   "execution_count": 22,
   "id": "48dcbd62",
   "metadata": {
    "execution": {
     "iopub.execute_input": "2021-07-06T07:13:06.675166Z",
     "iopub.status.busy": "2021-07-06T07:13:06.674520Z",
     "iopub.status.idle": "2021-07-06T07:13:06.704251Z",
     "shell.execute_reply": "2021-07-06T07:13:06.704673Z"
    },
    "tags": [
     "hide-output"
    ]
   },
   "outputs": [
    {
     "data": {
      "image/png": "[encoded data removed]",
      "text/plain": [
       "<IPython.core.display.Image object>"
      ]
     },
     "execution_count": 22,
     "metadata": {},
     "output_type": "execute_result"
    }
   ],
   "source": [
    "query = QueryBuilder()\n",
    "# Visualize what is going on:\n",
    "generate_query_graph(query.get_json_compatible_queryhelp(), 'query2.png')\n",
    "Image(filename='query2.png')"
   ]
  },
  {
   "cell_type": "markdown",
   "id": "97dffad4",
   "metadata": {},
   "source": [
    "## Attributes and extras\n",
    "\n",
    "In [the section above](query/project), you learned how you to `project` specific properties of a node and gave a list of properties that a node instance possesses.\n",
    "Since then, we have come across different AiiDA data nodes, such as `StructureData` and `UpfData`.\n",
    "As AiiDA employs the object-oriented programming paradigm, both `StructureData` and `UpfData` are examples of sub-classes of the `Node` class and therefore inherit its properties.\n",
    "That means that whatever property a `Node` has, both `StructureData` and `UpfData` will have too.\n",
    "However, there is a semantic difference between what `StructureData` and `UpfData` represent, and as such they have been explicitly defined as sub-classes to be able to add properties to one that would not make sense for the other.\n",
    "This would normally create issues for the type of database AiiDA uses, but this is solved through the concept of `attributes`.\n",
    "These are similar to properties, except that they are specific to the `Node` type that they are attached to.\n",
    "This allows you to add an `attribute` to a certain node, without having to change the implementation of all the others.\n",
    "\n",
    "For example, the `Dict` nodes that are generated as output of `PwCalculation`s may have an attribute named `wfc_cutoff`.\n",
    "To project for this particular `attribute`, one can use exactly the same syntax as shown in [the section above](query/project) for the regular `Node` properties, and one has to only prepend `attributes.` to the attribute name.\n",
    "\n",
    "Demonstration:"
   ]
  },
  {
   "cell_type": "code",
   "execution_count": 23,
   "id": "76320b4f",
   "metadata": {
    "execution": {
     "iopub.execute_input": "2021-07-06T07:13:06.713523Z",
     "iopub.status.busy": "2021-07-06T07:13:06.712921Z",
     "iopub.status.idle": "2021-07-06T07:13:06.717623Z",
     "shell.execute_reply": "2021-07-06T07:13:06.718031Z"
    },
    "tags": [
     "hide-output"
    ]
   },
   "outputs": [
    {
     "data": {
      "text/plain": [
       "[[816.341503518],\n",
       " [816.341503518],\n",
       " [816.341503518],\n",
       " [816.341503518],\n",
       " [816.341503518]]"
      ]
     },
     "execution_count": 23,
     "metadata": {},
     "output_type": "execute_result"
    }
   ],
   "source": [
    "query = QueryBuilder()\n",
    "query.append(PwCalculation, tag='pw')\n",
    "query.append(Dict, with_incoming='pw', project=[\"attributes.wfc_cutoff\"])\n",
    "query.limit(5)\n",
    "query.all()"
   ]
  },
  {
   "cell_type": "markdown",
   "id": "7032098c",
   "metadata": {},
   "source": [
    "Note that if any `Dict` node does not have this attribute, the `QueryBuilder` will return the Python keyword `None`.\n",
    "Similar to the `attributes`, nodes can also have `extras`, which work in the same way as for `attributes`, except that `extras` are mutable, which means that their value can be changed even after a node instance has been stored.\n",
    "\n",
    "If you are not sure which attributes a given node has, you can use the `attributes` `Node` class attribute to simply retrieve them all.\n",
    "It will return a dictionary with all the attributes the node has.\n",
    "\n",
    "Note that a node also has a number of additional methods and attributes.\n",
    "For instance, you can do `node.attributes_keys()` to get only the attribute keys or `node.get_attribute('wfc_cutoff')` to get the value of a single attribute (these two variants are more efficient if the node has a lot of attributes and you don't need all data).\n",
    "Similarly, for `extras`, you have `node.extras`, `node.extras_keys()`, and `node.get_attribute('SOME_EXTRA_KEY')`."
   ]
  },
  {
   "cell_type": "code",
   "execution_count": 24,
   "id": "b9d71224",
   "metadata": {
    "execution": {
     "iopub.execute_input": "2021-07-06T07:13:06.725479Z",
     "iopub.status.busy": "2021-07-06T07:13:06.724895Z",
     "iopub.status.idle": "2021-07-06T07:13:06.730454Z",
     "shell.execute_reply": "2021-07-06T07:13:06.731002Z"
    },
    "tags": [
     "hide-output"
    ]
   },
   "outputs": [
    {
     "name": "stdout",
     "output_type": "stream",
     "text": [
      "Attributes dictionary: {'job_id': '462206', 'sealed': True, 'resources': {'num_machines': 1, 'num_mpiprocs_per_machine': 8, 'default_mpiprocs_per_machine': 8}, 'exit_status': 0, 'parser_name': 'quantumespresso.basicpw', 'last_jobinfo': '{\"job_id\": \"462206\", \"wallclock_time_seconds\": 374, \"title\": \"aiida-41078\", \"num_machines\": 1, \"job_state\": \"RUNNING\", \"queue_name\": \"normal\", \"num_mpiprocs\": 8, \"allocated_machines_raw\": \"nid00373\", \"submission_time\": {\"date\": \"2014-10-28T20:07:12.000000\", \"timezone\": null}, \"job_owner\": \"mounet\", \"detailedJobinfo\": \"Detailed jobinfo obtained with command \\'sacct --format=AllocCPUS,Account,AssocID,AveCPU,AvePages,AveRSS,AveVMSize,Cluster,Comment,CPUTime,CPUTimeRAW,DerivedExitCode,Elapsed,Eligible,End,ExitCode,GID,Group,JobID,JobName,MaxRSS,MaxRSSNode,MaxRSSTask,MaxVMSize,MaxVMSizeNode,MaxVMSizeTask,MinCPU,MinCPUNode,MinCPUTask,NCPUS,NNodes,NodeList,NTasks,Priority,Partition,QOSRAW,ReqCPUS,Reserved,ResvCPU,ResvCPURAW,Start,State,Submit,Suspended,SystemCPU,Timelimit,TotalCPU,UID,User,UserCPU --parsable --jobs=462206\\'\\\\nReturn Code: 0\\\\n-------------------------------------------------------------\\\\nstdout:\\\\nAllocCPUS|Account|AssocID|AveCPU|AvePages|AveRSS|AveVMSize|Cluster|Comment|CPUTime|CPUTimeRAW|DerivedExitCode|Elapsed|Eligible|End|ExitCode|GID|Group|JobID|JobName|MaxRSS|MaxRSSNode|MaxRSSTask|MaxVMSize|MaxVMSizeNode|MaxVMSizeTask|MinCPU|MinCPUNode|MinCPUTask|NCPUS|NNodes|NodeList|NTasks|Priority|Partition|QOSRAW|ReqCPUS|Reserved|ResvCPU|ResvCPURAW|Start|State|Submit|Suspended|SystemCPU|Timelimit|TotalCPU|UID|User|UserCPU|\\\\n8|ch3|1134|||||daint||00:50:00|3000|0:0|00:06:15|20:06:59|20:13:27|0:0|31143|ch3|462206|aiida-41078||||||||||8|1|nid00373||36531|normal|1|8|00:00:13|00:01:44|104|20:07:12|COMPLETED|20:06:59|00:00:00|00:00.184|02:00:00|00:01.640|22892|mounet|00:01.456|\\\\n1|ch3|1134|00:00:00|0|8528K|77072K|daint||00:06:15|375||00:06:15|20:07:12|20:13:27|0:0|||462206.batch|batch|8528K|nid00373|0|77072K|nid00373|0|00:00:00|nid00373|0|1|1|nid00373|1||||1|INVALID|INVALID||20:07:12|COMPLETED|20:07:12|00:00:00|00:00.184||00:01.640|||00:01.456|\\\\n\\\\nstderr:\\\\n\\\\n\", \"raw_data\": [\"462206\", \"R\", \"None\", \"daint01\", \"mounet\", \"1\", \"8\", \"nid00373\", \"normal\", \"2:00:00\", \"6:14\", \"2014-10-28T20:07:12\", \"aiida-41078\"], \"annotation\": \"None\", \"requested_wallclock_time_seconds\": 7200}', 'process_label': 'PwCalculation', 'process_state': 'finished', 'retrieve_list': ['aiida.out', './out/aiida.save/data-file.xml', '_scheduler-stdout.txt', '_scheduler-stderr.txt'], 'remote_workdir': '/scratch/daint/mounet/aiida_run/8b/cb/b19a-4cd0-44d2-8eba-f86901618b2e', 'scheduler_state': 'DONE', 'linkname_retrieved': 'retrieved', 'max_wallclock_seconds': 7200, 'scheduler_lastchecktime': '2014-10-28T19:14:21.439271+00:00', 'retrieve_singlefile_list': [], 'custom_scheduler_commands': '#SBATCH --account=ch3'}\n",
      "Extras dictionary: {'A': 'Pb', 'B': 'Hf'}\n"
     ]
    }
   ],
   "source": [
    "query = QueryBuilder()\n",
    "query.append(PwCalculation)\n",
    "node, = query.first()\n",
    "print('Attributes dictionary:', node.attributes)\n",
    "print('Extras dictionary:', node.extras)"
   ]
  },
  {
   "cell_type": "markdown",
   "id": "5fab125b",
   "metadata": {},
   "source": [
    "The chemical element symbol of a pseudopotential represented by a `UpfData` node is stored in the `element` attribute.\n",
    "\n",
    "### Exercise\n",
    "\n",
    "Using the knowledge on how filtering on `attributes` works, see if you can write a query that will search your database for pseudopotentials for silicon."
   ]
  },
  {
   "cell_type": "code",
   "execution_count": 25,
   "id": "2d0f09d6",
   "metadata": {
    "execution": {
     "iopub.execute_input": "2021-07-06T07:13:06.735052Z",
     "iopub.status.busy": "2021-07-06T07:13:06.734502Z",
     "iopub.status.idle": "2021-07-06T07:13:06.736340Z",
     "shell.execute_reply": "2021-07-06T07:13:06.736777Z"
    }
   },
   "outputs": [],
   "source": [
    "query = QueryBuilder()"
   ]
  },
  {
   "cell_type": "markdown",
   "id": "2b6bf2e5",
   "metadata": {},
   "source": [
    "## Generating a provenance graph"
   ]
  },
  {
   "cell_type": "markdown",
   "id": "c9038d02",
   "metadata": {},
   "source": [
    "Previously we have used `verdi graph generate` on the command-line, to generate a graph of the data provenance.\n",
    "To do this, AiiDA uses some of the queries you have learned about above.\n",
    "We can also visualise sections of the provenance in a more customisable way, using the `Graph` class.\n",
    "\n",
    "For example, lets query for a calculation, then use methods of the `Graph` class to visualise the inputs and outputs of this calculation:"
   ]
  },
  {
   "cell_type": "code",
   "execution_count": 26,
   "id": "2b82a1a7",
   "metadata": {
    "execution": {
     "iopub.execute_input": "2021-07-06T07:13:06.744833Z",
     "iopub.status.busy": "2021-07-06T07:13:06.744248Z",
     "iopub.status.idle": "2021-07-06T07:13:06.858945Z",
     "shell.execute_reply": "2021-07-06T07:13:06.859360Z"
    },
    "tags": [
     "hide-output"
    ]
   },
   "outputs": [
    {
     "data": {
      "image/svg+xml": [
       "<?xml version=\"1.0\" encoding=\"UTF-8\" standalone=\"no\"?>\n",
       "<!DOCTYPE svg PUBLIC \"-//W3C//DTD SVG 1.1//EN\"\n",
       " \"http://www.w3.org/Graphics/SVG/1.1/DTD/svg11.dtd\">\n",
       "<!-- Generated by graphviz version 2.42.3 (20191010.1750)\n",
       " -->\n",
       "<!-- Title: %3 Pages: 1 -->\n",
       "<svg width=\"900pt\" height=\"510pt\"\n",
       " viewBox=\"0.00 0.00 900.04 509.91\" xmlns=\"http://www.w3.org/2000/svg\" xmlns:xlink=\"http://www.w3.org/1999/xlink\">\n",
       "<g id=\"graph0\" class=\"graph\" transform=\"scale(1 1) rotate(0) translate(4 505.91)\">\n",
       "<title>%3</title>\n",
       "<polygon fill=\"white\" stroke=\"transparent\" points=\"-4,4 -4,-505.91 896.04,-505.91 896.04,4 -4,4\"/>\n",
       "<!-- N7 -->\n",
       "<g id=\"node1\" class=\"node\">\n",
       "<title>N7</title>\n",
       "<polygon fill=\"#de707f\" stroke=\"black\" stroke-width=\"0\" points=\"545.42,-275.46 426.9,-275.46 426.9,-225.46 545.42,-225.46 545.42,-275.46\"/>\n",
       "<text text-anchor=\"middle\" x=\"486.16\" y=\"-260.26\" font-family=\"Times,serif\" font-size=\"14.00\">PwCalculation (7)</text>\n",
       "<text text-anchor=\"middle\" x=\"486.16\" y=\"-246.26\" font-family=\"Times,serif\" font-size=\"14.00\">State: finished</text>\n",
       "<text text-anchor=\"middle\" x=\"486.16\" y=\"-232.26\" font-family=\"Times,serif\" font-size=\"14.00\">Exit Code: 0</text>\n",
       "</g>\n",
       "<!-- N39 -->\n",
       "<g id=\"node10\" class=\"node\">\n",
       "<title>N39</title>\n",
       "<ellipse fill=\"#8cd499\" stroke=\"black\" stroke-width=\"0\" cx=\"802.75\" cy=\"-403.46\" rx=\"64.24\" ry=\"18\"/>\n",
       "<text text-anchor=\"middle\" x=\"802.75\" y=\"-399.26\" font-family=\"Times,serif\" font-size=\"14.00\">ArrayData (39)</text>\n",
       "</g>\n",
       "<!-- N7&#45;&gt;N39 -->\n",
       "<g id=\"edge14\" class=\"edge\">\n",
       "<title>N7&#45;&gt;N39</title>\n",
       "<path fill=\"none\" stroke=\"#000000\" d=\"M496.51,-275.85C507.9,-302.97 529.87,-344.94 563.29,-366.46 612.56,-398.17 679.17,-406.28 729.47,-407.1\"/>\n",
       "<polygon fill=\"#000000\" stroke=\"#000000\" points=\"729.59,-410.6 739.62,-407.18 729.64,-403.6 729.59,-410.6\"/>\n",
       "<text text-anchor=\"middle\" x=\"629.37\" y=\"-421.26\" font-family=\"Times,serif\" font-size=\"14.00\">CREATE</text>\n",
       "<text text-anchor=\"middle\" x=\"629.37\" y=\"-407.26\" font-family=\"Times,serif\" font-size=\"14.00\">output_trajectory_array</text>\n",
       "</g>\n",
       "<!-- N42 -->\n",
       "<g id=\"node11\" class=\"node\">\n",
       "<title>N42</title>\n",
       "<ellipse fill=\"#8cd499\" stroke=\"black\" stroke-width=\"0\" cx=\"802.75\" cy=\"-342.46\" rx=\"85.01\" ry=\"25.41\"/>\n",
       "<text text-anchor=\"middle\" x=\"802.75\" y=\"-345.26\" font-family=\"Times,serif\" font-size=\"14.00\">StructureData (42)</text>\n",
       "<text text-anchor=\"middle\" x=\"802.75\" y=\"-331.26\" font-family=\"Times,serif\" font-size=\"14.00\">HfO3Pb</text>\n",
       "</g>\n",
       "<!-- N7&#45;&gt;N42 -->\n",
       "<g id=\"edge12\" class=\"edge\">\n",
       "<title>N7&#45;&gt;N42</title>\n",
       "<path fill=\"none\" stroke=\"#000000\" d=\"M516.45,-275.47C529.91,-285.69 546.57,-296.68 563.29,-303.46 609.19,-322.06 663.47,-331.8 708.65,-336.9\"/>\n",
       "<polygon fill=\"#000000\" stroke=\"#000000\" points=\"708.42,-340.39 718.73,-337.97 709.16,-333.43 708.42,-340.39\"/>\n",
       "<text text-anchor=\"middle\" x=\"629.37\" y=\"-351.26\" font-family=\"Times,serif\" font-size=\"14.00\">CREATE</text>\n",
       "<text text-anchor=\"middle\" x=\"629.37\" y=\"-337.26\" font-family=\"Times,serif\" font-size=\"14.00\">output_structure</text>\n",
       "</g>\n",
       "<!-- N44 -->\n",
       "<g id=\"node12\" class=\"node\">\n",
       "<title>N44</title>\n",
       "<ellipse fill=\"#8cd499\" stroke=\"black\" stroke-width=\"0\" cx=\"802.75\" cy=\"-281.46\" rx=\"42.05\" ry=\"18\"/>\n",
       "<text text-anchor=\"middle\" x=\"802.75\" y=\"-277.26\" font-family=\"Times,serif\" font-size=\"14.00\">Dict (44)</text>\n",
       "</g>\n",
       "<!-- N7&#45;&gt;N44 -->\n",
       "<g id=\"edge11\" class=\"edge\">\n",
       "<title>N7&#45;&gt;N44</title>\n",
       "<path fill=\"none\" stroke=\"#000000\" d=\"M545.33,-257.49C551.39,-258.18 557.46,-258.84 563.29,-259.46 628,-266.27 702.72,-272.97 751.02,-277.16\"/>\n",
       "<polygon fill=\"#000000\" stroke=\"#000000\" points=\"750.95,-280.66 761.21,-278.04 751.55,-273.69 750.95,-280.66\"/>\n",
       "<text text-anchor=\"middle\" x=\"629.37\" y=\"-288.26\" font-family=\"Times,serif\" font-size=\"14.00\">CREATE</text>\n",
       "<text text-anchor=\"middle\" x=\"629.37\" y=\"-274.26\" font-family=\"Times,serif\" font-size=\"14.00\">output_parameters</text>\n",
       "</g>\n",
       "<!-- N45 -->\n",
       "<g id=\"node13\" class=\"node\">\n",
       "<title>N45</title>\n",
       "<ellipse fill=\"#8cd499\" stroke=\"black\" stroke-width=\"0\" cx=\"802.75\" cy=\"-220.46\" rx=\"80.14\" ry=\"25.41\"/>\n",
       "<text text-anchor=\"middle\" x=\"802.75\" y=\"-223.26\" font-family=\"Times,serif\" font-size=\"14.00\">KpointsData (45)</text>\n",
       "<text text-anchor=\"middle\" x=\"802.75\" y=\"-209.26\" font-family=\"Times,serif\" font-size=\"14.00\">(Path of 20 kpts)</text>\n",
       "</g>\n",
       "<!-- N7&#45;&gt;N45 -->\n",
       "<g id=\"edge9\" class=\"edge\">\n",
       "<title>N7&#45;&gt;N45</title>\n",
       "<path fill=\"none\" stroke=\"#000000\" d=\"M545.53,-234.65C551.49,-233.4 557.49,-232.3 563.29,-231.46 612.27,-224.29 667.47,-221.41 712.41,-220.39\"/>\n",
       "<polygon fill=\"#000000\" stroke=\"#000000\" points=\"712.5,-223.89 722.43,-220.18 712.36,-216.89 712.5,-223.89\"/>\n",
       "<text text-anchor=\"middle\" x=\"629.37\" y=\"-248.26\" font-family=\"Times,serif\" font-size=\"14.00\">CREATE</text>\n",
       "<text text-anchor=\"middle\" x=\"629.37\" y=\"-234.26\" font-family=\"Times,serif\" font-size=\"14.00\">output_kpoints</text>\n",
       "</g>\n",
       "<!-- N659 -->\n",
       "<g id=\"node14\" class=\"node\">\n",
       "<title>N659</title>\n",
       "<ellipse fill=\"#8cd499\" stroke=\"black\" stroke-width=\"0\" cx=\"802.75\" cy=\"-159.46\" rx=\"71.01\" ry=\"18\"/>\n",
       "<text text-anchor=\"middle\" x=\"802.75\" y=\"-155.26\" font-family=\"Times,serif\" font-size=\"14.00\">FolderData (659)</text>\n",
       "</g>\n",
       "<!-- N7&#45;&gt;N659 -->\n",
       "<g id=\"edge13\" class=\"edge\">\n",
       "<title>N7&#45;&gt;N659</title>\n",
       "<path fill=\"none\" stroke=\"#000000\" d=\"M510.82,-225.23C524.77,-212.01 543.52,-196.86 563.29,-188.46 613.07,-167.28 673.64,-160.11 721.27,-158.2\"/>\n",
       "<polygon fill=\"#000000\" stroke=\"#000000\" points=\"721.66,-161.69 731.54,-157.86 721.43,-154.7 721.66,-161.69\"/>\n",
       "<text text-anchor=\"middle\" x=\"629.37\" y=\"-205.26\" font-family=\"Times,serif\" font-size=\"14.00\">CREATE</text>\n",
       "<text text-anchor=\"middle\" x=\"629.37\" y=\"-191.26\" font-family=\"Times,serif\" font-size=\"14.00\">retrieved</text>\n",
       "</g>\n",
       "<!-- N1511 -->\n",
       "<g id=\"node15\" class=\"node\">\n",
       "<title>N1511</title>\n",
       "<ellipse fill=\"#8cd499\" stroke=\"black\" stroke-width=\"0\" cx=\"802.75\" cy=\"-98.46\" rx=\"89.09\" ry=\"25.41\"/>\n",
       "<text text-anchor=\"middle\" x=\"802.75\" y=\"-101.26\" font-family=\"Times,serif\" font-size=\"14.00\">RemoteData (1511)</text>\n",
       "<text text-anchor=\"middle\" x=\"802.75\" y=\"-87.26\" font-family=\"Times,serif\" font-size=\"14.00\">@daint</text>\n",
       "</g>\n",
       "<!-- N7&#45;&gt;N1511 -->\n",
       "<g id=\"edge10\" class=\"edge\">\n",
       "<title>N7&#45;&gt;N1511</title>\n",
       "<path fill=\"none\" stroke=\"#000000\" d=\"M495.17,-225.41C505.8,-196.6 527.53,-150.32 563.29,-127.46 605.35,-100.56 660.22,-92.48 706.72,-91.5\"/>\n",
       "<polygon fill=\"#000000\" stroke=\"#000000\" points=\"706.85,-95 716.82,-91.39 706.78,-88 706.85,-95\"/>\n",
       "<text text-anchor=\"middle\" x=\"629.37\" y=\"-144.26\" font-family=\"Times,serif\" font-size=\"14.00\">CREATE</text>\n",
       "<text text-anchor=\"middle\" x=\"629.37\" y=\"-130.26\" font-family=\"Times,serif\" font-size=\"14.00\">remote_folder</text>\n",
       "</g>\n",
       "<!-- N332 -->\n",
       "<g id=\"node2\" class=\"node\">\n",
       "<title>N332</title>\n",
       "<ellipse fill=\"#8cd499\" stroke=\"black\" stroke-width=\"0\" cx=\"152.73\" cy=\"-476.46\" rx=\"152.97\" ry=\"25.41\"/>\n",
       "<text text-anchor=\"middle\" x=\"152.73\" y=\"-479.26\" font-family=\"Times,serif\" font-size=\"14.00\">KpointsData (332)</text>\n",
       "<text text-anchor=\"middle\" x=\"152.73\" y=\"-465.26\" font-family=\"Times,serif\" font-size=\"14.00\">Kpoints mesh: 6x6x6 (+0.0,0.0,0.0)</text>\n",
       "</g>\n",
       "<!-- N332&#45;&gt;N7 -->\n",
       "<g id=\"edge4\" class=\"edge\">\n",
       "<title>N332&#45;&gt;N7</title>\n",
       "<path fill=\"none\" stroke=\"#000000\" d=\"M305.26,-474.62C342.28,-467.83 379.66,-454.9 409.03,-431.46 454.35,-395.29 473.05,-327.28 480.5,-285.71\"/>\n",
       "<polygon fill=\"#000000\" stroke=\"#000000\" points=\"483.97,-286.18 482.16,-275.75 477.07,-285.03 483.97,-286.18\"/>\n",
       "<text text-anchor=\"middle\" x=\"366.25\" y=\"-486.26\" font-family=\"Times,serif\" font-size=\"14.00\">INPUT_CALC</text>\n",
       "<text text-anchor=\"middle\" x=\"366.25\" y=\"-472.26\" font-family=\"Times,serif\" font-size=\"14.00\">kpoints</text>\n",
       "</g>\n",
       "<!-- N335 -->\n",
       "<g id=\"node3\" class=\"node\">\n",
       "<title>N335</title>\n",
       "<ellipse fill=\"#8cd499\" stroke=\"black\" stroke-width=\"0\" cx=\"152.73\" cy=\"-415.46\" rx=\"46.9\" ry=\"18\"/>\n",
       "<text text-anchor=\"middle\" x=\"152.73\" y=\"-411.26\" font-family=\"Times,serif\" font-size=\"14.00\">Dict (335)</text>\n",
       "</g>\n",
       "<!-- N335&#45;&gt;N7 -->\n",
       "<g id=\"edge6\" class=\"edge\">\n",
       "<title>N335&#45;&gt;N7</title>\n",
       "<path fill=\"none\" stroke=\"#000000\" d=\"M199.45,-416.45C254.07,-415.44 345.95,-406.53 409.03,-362.46 436.71,-343.11 457.3,-310.21 470.03,-285.06\"/>\n",
       "<polygon fill=\"#000000\" stroke=\"#000000\" points=\"473.29,-286.37 474.53,-275.84 467,-283.3 473.29,-286.37\"/>\n",
       "<text text-anchor=\"middle\" x=\"366.25\" y=\"-416.26\" font-family=\"Times,serif\" font-size=\"14.00\">INPUT_CALC</text>\n",
       "<text text-anchor=\"middle\" x=\"366.25\" y=\"-402.26\" font-family=\"Times,serif\" font-size=\"14.00\">settings</text>\n",
       "</g>\n",
       "<!-- N631 -->\n",
       "<g id=\"node4\" class=\"node\">\n",
       "<title>N631</title>\n",
       "<ellipse fill=\"#4ca4b9\" fill-opacity=\"0.666667\" stroke=\"black\" stroke-width=\"0\" cx=\"152.73\" cy=\"-354.46\" rx=\"59.21\" ry=\"25.41\"/>\n",
       "<text text-anchor=\"middle\" x=\"152.73\" y=\"-357.26\" font-family=\"Times,serif\" font-size=\"14.00\">Code (631)</text>\n",
       "<text text-anchor=\"middle\" x=\"152.73\" y=\"-343.26\" font-family=\"Times,serif\" font-size=\"14.00\">pw.x@daint</text>\n",
       "</g>\n",
       "<!-- N631&#45;&gt;N7 -->\n",
       "<g id=\"edge2\" class=\"edge\">\n",
       "<title>N631&#45;&gt;N7</title>\n",
       "<path fill=\"none\" stroke=\"#000000\" d=\"M211.04,-350.19C264.16,-344.64 344.48,-332.14 409.03,-304.46 422.45,-298.7 435.86,-290.3 447.59,-281.84\"/>\n",
       "<polygon fill=\"#000000\" stroke=\"#000000\" points=\"449.9,-284.49 455.82,-275.7 445.72,-278.87 449.9,-284.49\"/>\n",
       "<text text-anchor=\"middle\" x=\"366.25\" y=\"-347.26\" font-family=\"Times,serif\" font-size=\"14.00\">INPUT_CALC</text>\n",
       "<text text-anchor=\"middle\" x=\"366.25\" y=\"-333.26\" font-family=\"Times,serif\" font-size=\"14.00\">code</text>\n",
       "</g>\n",
       "<!-- N687 -->\n",
       "<g id=\"node5\" class=\"node\">\n",
       "<title>N687</title>\n",
       "<ellipse fill=\"#8cd499\" stroke=\"black\" stroke-width=\"0\" cx=\"152.73\" cy=\"-285.46\" rx=\"90.41\" ry=\"25.41\"/>\n",
       "<text text-anchor=\"middle\" x=\"152.73\" y=\"-288.26\" font-family=\"Times,serif\" font-size=\"14.00\">StructureData (687)</text>\n",
       "<text text-anchor=\"middle\" x=\"152.73\" y=\"-274.26\" font-family=\"Times,serif\" font-size=\"14.00\">HfO3Pb</text>\n",
       "</g>\n",
       "<!-- N687&#45;&gt;N7 -->\n",
       "<g id=\"edge5\" class=\"edge\">\n",
       "<title>N687&#45;&gt;N7</title>\n",
       "<path fill=\"none\" stroke=\"#000000\" d=\"M240.77,-279.76C290.22,-276.07 353.21,-270.61 409.03,-263.46 411.53,-263.13 414.07,-262.79 416.64,-262.43\"/>\n",
       "<polygon fill=\"#000000\" stroke=\"#000000\" points=\"417.24,-265.88 426.63,-260.96 416.22,-258.95 417.24,-265.88\"/>\n",
       "<text text-anchor=\"middle\" x=\"366.25\" y=\"-289.26\" font-family=\"Times,serif\" font-size=\"14.00\">INPUT_CALC</text>\n",
       "<text text-anchor=\"middle\" x=\"366.25\" y=\"-275.26\" font-family=\"Times,serif\" font-size=\"14.00\">structure</text>\n",
       "</g>\n",
       "<!-- N1179 -->\n",
       "<g id=\"node6\" class=\"node\">\n",
       "<title>N1179</title>\n",
       "<ellipse fill=\"#8cd499\" stroke=\"black\" stroke-width=\"0\" cx=\"152.73\" cy=\"-216.46\" rx=\"73.8\" ry=\"25.41\"/>\n",
       "<text text-anchor=\"middle\" x=\"152.73\" y=\"-219.26\" font-family=\"Times,serif\" font-size=\"14.00\">UpfData (1179)</text>\n",
       "<text text-anchor=\"middle\" x=\"152.73\" y=\"-205.26\" font-family=\"Times,serif\" font-size=\"14.00\">Pb</text>\n",
       "</g>\n",
       "<!-- N1179&#45;&gt;N7 -->\n",
       "<g id=\"edge1\" class=\"edge\">\n",
       "<title>N1179&#45;&gt;N7</title>\n",
       "<path fill=\"none\" stroke=\"#000000\" d=\"M226.33,-219.53C277.55,-222.27 347.7,-227.16 409.03,-235.46 411.54,-235.8 414.09,-236.17 416.67,-236.56\"/>\n",
       "<polygon fill=\"#000000\" stroke=\"#000000\" points=\"416.24,-240.04 426.67,-238.2 417.37,-233.13 416.24,-240.04\"/>\n",
       "<text text-anchor=\"middle\" x=\"366.25\" y=\"-252.26\" font-family=\"Times,serif\" font-size=\"14.00\">INPUT_CALC</text>\n",
       "<text text-anchor=\"middle\" x=\"366.25\" y=\"-238.26\" font-family=\"Times,serif\" font-size=\"14.00\">pseudos__Pb</text>\n",
       "</g>\n",
       "<!-- N1492 -->\n",
       "<g id=\"node7\" class=\"node\">\n",
       "<title>N1492</title>\n",
       "<ellipse fill=\"#8cd499\" stroke=\"black\" stroke-width=\"0\" cx=\"152.73\" cy=\"-147.46\" rx=\"74.03\" ry=\"25.41\"/>\n",
       "<text text-anchor=\"middle\" x=\"152.73\" y=\"-150.26\" font-family=\"Times,serif\" font-size=\"14.00\">UpfData (1492)</text>\n",
       "<text text-anchor=\"middle\" x=\"152.73\" y=\"-136.26\" font-family=\"Times,serif\" font-size=\"14.00\">O</text>\n",
       "</g>\n",
       "<!-- N1492&#45;&gt;N7 -->\n",
       "<g id=\"edge7\" class=\"edge\">\n",
       "<title>N1492&#45;&gt;N7</title>\n",
       "<path fill=\"none\" stroke=\"#000000\" d=\"M226.19,-151.57C278.76,-156.65 350.6,-168.03 409.03,-193.46 423.54,-199.77 437.86,-209.35 450.1,-218.87\"/>\n",
       "<polygon fill=\"#000000\" stroke=\"#000000\" points=\"448.23,-221.85 458.21,-225.4 452.62,-216.4 448.23,-221.85\"/>\n",
       "<text text-anchor=\"middle\" x=\"366.25\" y=\"-210.26\" font-family=\"Times,serif\" font-size=\"14.00\">INPUT_CALC</text>\n",
       "<text text-anchor=\"middle\" x=\"366.25\" y=\"-196.26\" font-family=\"Times,serif\" font-size=\"14.00\">pseudos__O</text>\n",
       "</g>\n",
       "<!-- N1574 -->\n",
       "<g id=\"node8\" class=\"node\">\n",
       "<title>N1574</title>\n",
       "<ellipse fill=\"#8cd499\" stroke=\"black\" stroke-width=\"0\" cx=\"152.73\" cy=\"-86.46\" rx=\"51.24\" ry=\"18\"/>\n",
       "<text text-anchor=\"middle\" x=\"152.73\" y=\"-82.26\" font-family=\"Times,serif\" font-size=\"14.00\">Dict (1574)</text>\n",
       "</g>\n",
       "<!-- N1574&#45;&gt;N7 -->\n",
       "<g id=\"edge8\" class=\"edge\">\n",
       "<title>N1574&#45;&gt;N7</title>\n",
       "<path fill=\"none\" stroke=\"#000000\" d=\"M203.74,-84.74C258.68,-85.26 347.28,-93.42 409.03,-135.46 437.94,-155.14 458.64,-189.8 471.09,-215.93\"/>\n",
       "<polygon fill=\"#000000\" stroke=\"#000000\" points=\"467.96,-217.5 475.3,-225.14 474.32,-214.59 467.96,-217.5\"/>\n",
       "<text text-anchor=\"middle\" x=\"366.25\" y=\"-152.26\" font-family=\"Times,serif\" font-size=\"14.00\">INPUT_CALC</text>\n",
       "<text text-anchor=\"middle\" x=\"366.25\" y=\"-138.26\" font-family=\"Times,serif\" font-size=\"14.00\">parameters</text>\n",
       "</g>\n",
       "<!-- N1698 -->\n",
       "<g id=\"node9\" class=\"node\">\n",
       "<title>N1698</title>\n",
       "<ellipse fill=\"#8cd499\" stroke=\"black\" stroke-width=\"0\" cx=\"152.73\" cy=\"-25.46\" rx=\"74.03\" ry=\"25.41\"/>\n",
       "<text text-anchor=\"middle\" x=\"152.73\" y=\"-28.26\" font-family=\"Times,serif\" font-size=\"14.00\">UpfData (1698)</text>\n",
       "<text text-anchor=\"middle\" x=\"152.73\" y=\"-14.26\" font-family=\"Times,serif\" font-size=\"14.00\">Hf</text>\n",
       "</g>\n",
       "<!-- N1698&#45;&gt;N7 -->\n",
       "<g id=\"edge3\" class=\"edge\">\n",
       "<title>N1698&#45;&gt;N7</title>\n",
       "<path fill=\"none\" stroke=\"#000000\" d=\"M225.02,-19.52C280.77,-18.7 357.26,-26.46 409.03,-67.46 455.03,-103.89 473.53,-173 480.75,-215.08\"/>\n",
       "<polygon fill=\"#000000\" stroke=\"#000000\" points=\"477.33,-215.83 482.35,-225.15 484.24,-214.73 477.33,-215.83\"/>\n",
       "<text text-anchor=\"middle\" x=\"366.25\" y=\"-84.26\" font-family=\"Times,serif\" font-size=\"14.00\">INPUT_CALC</text>\n",
       "<text text-anchor=\"middle\" x=\"366.25\" y=\"-70.26\" font-family=\"Times,serif\" font-size=\"14.00\">pseudos__Hf</text>\n",
       "</g>\n",
       "</g>\n",
       "</svg>\n"
      ],
      "text/plain": [
       "<graphviz.dot.Digraph at 0x10a958a30>"
      ]
     },
     "execution_count": 26,
     "metadata": {},
     "output_type": "execute_result"
    }
   ],
   "source": [
    "query = QueryBuilder()\n",
    "query.append(PwCalculation)\n",
    "node, = query.first()\n",
    "\n",
    "from aiida.tools.visualization import Graph\n",
    "graph = Graph(graph_attr={\"rankdir\": \"LR\"})\n",
    "\n",
    "graph.add_incoming(node.uuid, annotate_links=\"both\")\n",
    "graph.add_outgoing(node.uuid, annotate_links=\"both\")\n",
    "graph.graphviz"
   ]
  },
  {
   "cell_type": "markdown",
   "id": "e50c5449",
   "metadata": {},
   "source": [
    "The `Graph` class also has methods for recursing up or down the provenance tree.\n",
    "In this example, let's query for a pseudopotential, and visualise which processes it is used in:"
   ]
  },
  {
   "cell_type": "code",
   "execution_count": 27,
   "id": "e5ea0e4a",
   "metadata": {
    "execution": {
     "iopub.execute_input": "2021-07-06T07:13:06.869400Z",
     "iopub.status.busy": "2021-07-06T07:13:06.868809Z",
     "iopub.status.idle": "2021-07-06T07:13:06.967424Z",
     "shell.execute_reply": "2021-07-06T07:13:06.967916Z"
    },
    "tags": [
     "hide-output"
    ]
   },
   "outputs": [
    {
     "data": {
      "image/svg+xml": [
       "<?xml version=\"1.0\" encoding=\"UTF-8\" standalone=\"no\"?>\n",
       "<!DOCTYPE svg PUBLIC \"-//W3C//DTD SVG 1.1//EN\"\n",
       " \"http://www.w3.org/Graphics/SVG/1.1/DTD/svg11.dtd\">\n",
       "<!-- Generated by graphviz version 2.42.3 (20191010.1750)\n",
       " -->\n",
       "<!-- Title: %3 Pages: 1 -->\n",
       "<svg width=\"398pt\" height=\"466pt\"\n",
       " viewBox=\"0.00 0.00 397.55 466.00\" xmlns=\"http://www.w3.org/2000/svg\" xmlns:xlink=\"http://www.w3.org/1999/xlink\">\n",
       "<g id=\"graph0\" class=\"graph\" transform=\"scale(1 1) rotate(0) translate(4 462)\">\n",
       "<title>%3</title>\n",
       "<polygon fill=\"white\" stroke=\"transparent\" points=\"-4,4 -4,-462 393.55,-462 393.55,4 -4,4\"/>\n",
       "<!-- N66 -->\n",
       "<g id=\"node1\" class=\"node\">\n",
       "<title>N66</title>\n",
       "<ellipse fill=\"#8cd499\" stroke=\"red\" stroke-width=\"6\" cx=\"64.36\" cy=\"-229\" rx=\"64.23\" ry=\"25.41\"/>\n",
       "<text text-anchor=\"middle\" x=\"64.36\" y=\"-231.8\" font-family=\"Times,serif\" font-size=\"14.00\">UpfData (66)</text>\n",
       "<text text-anchor=\"middle\" x=\"64.36\" y=\"-217.8\" font-family=\"Times,serif\" font-size=\"14.00\">Si</text>\n",
       "</g>\n",
       "<!-- N211 -->\n",
       "<g id=\"node2\" class=\"node\">\n",
       "<title>N211</title>\n",
       "<polygon fill=\"#de707f\" stroke=\"black\" stroke-width=\"0\" points=\"385.66,-458 254.17,-458 254.17,-408 385.66,-408 385.66,-458\"/>\n",
       "<text text-anchor=\"middle\" x=\"319.92\" y=\"-442.8\" font-family=\"Times,serif\" font-size=\"14.00\">PwCalculation (211)</text>\n",
       "<text text-anchor=\"middle\" x=\"319.92\" y=\"-428.8\" font-family=\"Times,serif\" font-size=\"14.00\">State: finished</text>\n",
       "<text text-anchor=\"middle\" x=\"319.92\" y=\"-414.8\" font-family=\"Times,serif\" font-size=\"14.00\">Exit Code: 0</text>\n",
       "</g>\n",
       "<!-- N66&#45;&gt;N211 -->\n",
       "<g id=\"edge5\" class=\"edge\">\n",
       "<title>N66&#45;&gt;N211</title>\n",
       "<path fill=\"none\" stroke=\"#000000\" d=\"M72.7,-254.45C83.53,-287.59 106.95,-345.17 146.73,-378 174.25,-400.72 211.31,-414.11 243.99,-421.97\"/>\n",
       "<polygon fill=\"#000000\" stroke=\"#000000\" points=\"243.45,-425.44 253.98,-424.24 245,-418.61 243.45,-425.44\"/>\n",
       "<text text-anchor=\"middle\" x=\"189.51\" y=\"-434.8\" font-family=\"Times,serif\" font-size=\"14.00\">INPUT_CALC</text>\n",
       "<text text-anchor=\"middle\" x=\"189.51\" y=\"-420.8\" font-family=\"Times,serif\" font-size=\"14.00\">pseudos__Si</text>\n",
       "</g>\n",
       "<!-- N892 -->\n",
       "<g id=\"node3\" class=\"node\">\n",
       "<title>N892</title>\n",
       "<polygon fill=\"#de707f\" stroke=\"black\" stroke-width=\"0\" points=\"386.17,-390 253.66,-390 253.66,-340 386.17,-340 386.17,-390\"/>\n",
       "<text text-anchor=\"middle\" x=\"319.92\" y=\"-374.8\" font-family=\"Times,serif\" font-size=\"14.00\">PwCalculation (892)</text>\n",
       "<text text-anchor=\"middle\" x=\"319.92\" y=\"-360.8\" font-family=\"Times,serif\" font-size=\"14.00\">State: finished</text>\n",
       "<text text-anchor=\"middle\" x=\"319.92\" y=\"-346.8\" font-family=\"Times,serif\" font-size=\"14.00\">Exit Code: 0</text>\n",
       "</g>\n",
       "<!-- N66&#45;&gt;N892 -->\n",
       "<g id=\"edge1\" class=\"edge\">\n",
       "<title>N66&#45;&gt;N892</title>\n",
       "<path fill=\"none\" stroke=\"#000000\" d=\"M83.5,-253.65C98.51,-272.42 121.42,-297.57 146.73,-313 176.08,-330.89 212.03,-343.01 243.48,-351.01\"/>\n",
       "<polygon fill=\"#000000\" stroke=\"#000000\" points=\"242.97,-354.49 253.51,-353.47 244.63,-347.69 242.97,-354.49\"/>\n",
       "<text text-anchor=\"middle\" x=\"189.51\" y=\"-362.8\" font-family=\"Times,serif\" font-size=\"14.00\">INPUT_CALC</text>\n",
       "<text text-anchor=\"middle\" x=\"189.51\" y=\"-348.8\" font-family=\"Times,serif\" font-size=\"14.00\">pseudos__Si</text>\n",
       "</g>\n",
       "<!-- N964 -->\n",
       "<g id=\"node4\" class=\"node\">\n",
       "<title>N964</title>\n",
       "<polygon fill=\"#de707f\" stroke=\"black\" stroke-width=\"0\" points=\"386.17,-322 253.66,-322 253.66,-272 386.17,-272 386.17,-322\"/>\n",
       "<text text-anchor=\"middle\" x=\"319.92\" y=\"-306.8\" font-family=\"Times,serif\" font-size=\"14.00\">PwCalculation (964)</text>\n",
       "<text text-anchor=\"middle\" x=\"319.92\" y=\"-292.8\" font-family=\"Times,serif\" font-size=\"14.00\">State: finished</text>\n",
       "<text text-anchor=\"middle\" x=\"319.92\" y=\"-278.8\" font-family=\"Times,serif\" font-size=\"14.00\">Exit Code: 0</text>\n",
       "</g>\n",
       "<!-- N66&#45;&gt;N964 -->\n",
       "<g id=\"edge6\" class=\"edge\">\n",
       "<title>N66&#45;&gt;N964</title>\n",
       "<path fill=\"none\" stroke=\"#000000\" d=\"M108.8,-247.65C120.93,-252.42 134.22,-257.26 146.73,-261 178.01,-270.35 213.2,-278.17 243.57,-284.11\"/>\n",
       "<polygon fill=\"#000000\" stroke=\"#000000\" points=\"243.19,-287.6 253.67,-286.05 244.51,-280.72 243.19,-287.6\"/>\n",
       "<text text-anchor=\"middle\" x=\"189.51\" y=\"-297.8\" font-family=\"Times,serif\" font-size=\"14.00\">INPUT_CALC</text>\n",
       "<text text-anchor=\"middle\" x=\"189.51\" y=\"-283.8\" font-family=\"Times,serif\" font-size=\"14.00\">pseudos__Si</text>\n",
       "</g>\n",
       "<!-- N1322 -->\n",
       "<g id=\"node5\" class=\"node\">\n",
       "<title>N1322</title>\n",
       "<polygon fill=\"#de707f\" stroke=\"black\" stroke-width=\"0\" points=\"389.67,-254 250.16,-254 250.16,-204 389.67,-204 389.67,-254\"/>\n",
       "<text text-anchor=\"middle\" x=\"319.92\" y=\"-238.8\" font-family=\"Times,serif\" font-size=\"14.00\">PwCalculation (1322)</text>\n",
       "<text text-anchor=\"middle\" x=\"319.92\" y=\"-224.8\" font-family=\"Times,serif\" font-size=\"14.00\">State: finished</text>\n",
       "<text text-anchor=\"middle\" x=\"319.92\" y=\"-210.8\" font-family=\"Times,serif\" font-size=\"14.00\">Exit Code: 0</text>\n",
       "</g>\n",
       "<!-- N66&#45;&gt;N1322 -->\n",
       "<g id=\"edge2\" class=\"edge\">\n",
       "<title>N66&#45;&gt;N1322</title>\n",
       "<path fill=\"none\" stroke=\"#000000\" d=\"M129.02,-229C162.53,-229 203.94,-229 239.53,-229\"/>\n",
       "<polygon fill=\"#000000\" stroke=\"#000000\" points=\"239.89,-232.5 249.89,-229 239.89,-225.5 239.89,-232.5\"/>\n",
       "<text text-anchor=\"middle\" x=\"189.51\" y=\"-245.8\" font-family=\"Times,serif\" font-size=\"14.00\">INPUT_CALC</text>\n",
       "<text text-anchor=\"middle\" x=\"189.51\" y=\"-231.8\" font-family=\"Times,serif\" font-size=\"14.00\">pseudos__Si</text>\n",
       "</g>\n",
       "<!-- N1359 -->\n",
       "<g id=\"node6\" class=\"node\">\n",
       "<title>N1359</title>\n",
       "<polygon fill=\"#de707f\" stroke=\"black\" stroke-width=\"0\" points=\"389.67,-186 250.16,-186 250.16,-136 389.67,-136 389.67,-186\"/>\n",
       "<text text-anchor=\"middle\" x=\"319.92\" y=\"-170.8\" font-family=\"Times,serif\" font-size=\"14.00\">PwCalculation (1359)</text>\n",
       "<text text-anchor=\"middle\" x=\"319.92\" y=\"-156.8\" font-family=\"Times,serif\" font-size=\"14.00\">State: finished</text>\n",
       "<text text-anchor=\"middle\" x=\"319.92\" y=\"-142.8\" font-family=\"Times,serif\" font-size=\"14.00\">Exit Code: 0</text>\n",
       "</g>\n",
       "<!-- N66&#45;&gt;N1359 -->\n",
       "<g id=\"edge4\" class=\"edge\">\n",
       "<title>N66&#45;&gt;N1359</title>\n",
       "<path fill=\"none\" stroke=\"#000000\" d=\"M108.8,-210.35C120.93,-205.58 134.22,-200.74 146.73,-197 176.83,-188 210.54,-180.42 240.11,-174.58\"/>\n",
       "<polygon fill=\"#000000\" stroke=\"#000000\" points=\"240.81,-178 249.96,-172.66 239.48,-171.13 240.81,-178\"/>\n",
       "<text text-anchor=\"middle\" x=\"189.51\" y=\"-213.8\" font-family=\"Times,serif\" font-size=\"14.00\">INPUT_CALC</text>\n",
       "<text text-anchor=\"middle\" x=\"189.51\" y=\"-199.8\" font-family=\"Times,serif\" font-size=\"14.00\">pseudos__Si</text>\n",
       "</g>\n",
       "<!-- N1669 -->\n",
       "<g id=\"node7\" class=\"node\">\n",
       "<title>N1669</title>\n",
       "<polygon fill=\"#de707f\" stroke=\"black\" stroke-width=\"0\" points=\"389.67,-118 250.16,-118 250.16,-68 389.67,-68 389.67,-118\"/>\n",
       "<text text-anchor=\"middle\" x=\"319.92\" y=\"-102.8\" font-family=\"Times,serif\" font-size=\"14.00\">PwCalculation (1669)</text>\n",
       "<text text-anchor=\"middle\" x=\"319.92\" y=\"-88.8\" font-family=\"Times,serif\" font-size=\"14.00\">State: finished</text>\n",
       "<text text-anchor=\"middle\" x=\"319.92\" y=\"-74.8\" font-family=\"Times,serif\" font-size=\"14.00\">Exit Code: 0</text>\n",
       "</g>\n",
       "<!-- N66&#45;&gt;N1669 -->\n",
       "<g id=\"edge3\" class=\"edge\">\n",
       "<title>N66&#45;&gt;N1669</title>\n",
       "<path fill=\"none\" stroke=\"#000000\" d=\"M83.11,-204.4C98.07,-185.34 121.09,-159.63 146.73,-144 175.07,-126.72 209.62,-114.99 240.32,-107.18\"/>\n",
       "<polygon fill=\"#000000\" stroke=\"#000000\" points=\"241.25,-110.56 250.14,-104.78 239.59,-103.76 241.25,-110.56\"/>\n",
       "<text text-anchor=\"middle\" x=\"189.51\" y=\"-160.8\" font-family=\"Times,serif\" font-size=\"14.00\">INPUT_CALC</text>\n",
       "<text text-anchor=\"middle\" x=\"189.51\" y=\"-146.8\" font-family=\"Times,serif\" font-size=\"14.00\">pseudos__Si</text>\n",
       "</g>\n",
       "<!-- N1765 -->\n",
       "<g id=\"node8\" class=\"node\">\n",
       "<title>N1765</title>\n",
       "<polygon fill=\"#de707f\" stroke=\"black\" stroke-width=\"0\" points=\"389.67,-50 250.16,-50 250.16,0 389.67,0 389.67,-50\"/>\n",
       "<text text-anchor=\"middle\" x=\"319.92\" y=\"-34.8\" font-family=\"Times,serif\" font-size=\"14.00\">PwCalculation (1765)</text>\n",
       "<text text-anchor=\"middle\" x=\"319.92\" y=\"-20.8\" font-family=\"Times,serif\" font-size=\"14.00\">State: finished</text>\n",
       "<text text-anchor=\"middle\" x=\"319.92\" y=\"-6.8\" font-family=\"Times,serif\" font-size=\"14.00\">Exit Code: 0</text>\n",
       "</g>\n",
       "<!-- N66&#45;&gt;N1765 -->\n",
       "<g id=\"edge7\" class=\"edge\">\n",
       "<title>N66&#45;&gt;N1765</title>\n",
       "<path fill=\"none\" stroke=\"#000000\" d=\"M72.3,-203.53C82.8,-169.71 105.98,-110.38 146.73,-77 173.1,-55.39 208.3,-42.76 240,-35.37\"/>\n",
       "<polygon fill=\"#000000\" stroke=\"#000000\" points=\"241.13,-38.71 250.15,-33.16 239.64,-31.87 241.13,-38.71\"/>\n",
       "<text text-anchor=\"middle\" x=\"189.51\" y=\"-93.8\" font-family=\"Times,serif\" font-size=\"14.00\">INPUT_CALC</text>\n",
       "<text text-anchor=\"middle\" x=\"189.51\" y=\"-79.8\" font-family=\"Times,serif\" font-size=\"14.00\">pseudos__Si</text>\n",
       "</g>\n",
       "</g>\n",
       "</svg>\n"
      ],
      "text/plain": [
       "<graphviz.dot.Digraph at 0x126ae8fd0>"
      ]
     },
     "execution_count": 27,
     "metadata": {},
     "output_type": "execute_result"
    }
   ],
   "source": [
    "query = QueryBuilder()\n",
    "query.append(UpfData, filters={'attributes.element': {'==': 'Si'}})\n",
    "node, = query.first()\n",
    "\n",
    "graph = Graph(graph_attr={\"rankdir\": \"LR\"})\n",
    "\n",
    "graph.recurse_descendants(\n",
    "    node.uuid,\n",
    "    annotate_links=\"both\",\n",
    "    depth=1\n",
    ")\n",
    "graph.graphviz"
   ]
  },
  {
   "cell_type": "markdown",
   "id": "58e30838",
   "metadata": {},
   "source": [
    "For further information on using `Graph` to generate provenance graphs, please see [this section](https://aiida.readthedocs.io/projects/aiida-core/en/latest/howto/visualising_graphs/visualising_graphs.html) in the documentation."
   ]
  },
  {
   "cell_type": "markdown",
   "id": "5e1a173e",
   "metadata": {},
   "source": [
    "## A small high-throughput study\n",
    "\n",
    "The following section assumes that a specific dataset is present in your AiiDA database.\n",
    "If you are not running this script on the virtual machine of the AiiDA tutorial, this script will not produce the desired output.\n",
    "You can download the virtual machine image from [aiida-tutorials.readthedocs.io](https://aiida-tutorials.readthedocs.io) along with the tutorial text (choose the correct version of the tutorial, depending on which version of AiiDA you want to try).\n",
    "\n",
    "````{important}\n",
    "This section relies on a specific dataset of previously run calculations.\n",
    "If you have already imported the data set from the \"Organising your data\" module, you should be good to go!\n",
    "If not, you can use the following command to import the required calculations:\n",
    "\n",
    "```{code-block} console\n",
    "verdi archive import https://object.cscs.ch/v1/AUTH_b1d80408b3d340db9f03d373bbde5c1e/marvel-vms/tutorials/aiida_tutorial_2020_07_perovskites_v0.9.aiida\n",
    "```\n",
    "\n",
    "````"
   ]
  },
  {
   "cell_type": "markdown",
   "id": "c41e7bc5",
   "metadata": {},
   "source": [
    "In this part of the tutorial, we will focus on how to systematically retrieve, parse and analyze the results of multiple calculations using AiiDA.\n",
    "While you may be able to do this on your own, to save time a set of calculations have already been done with AiiDA for you on 57 perovskites, using three different pseudopotential families (LDA, PBE and PBESOL, all from GBRV 1.2).\n",
    "\n",
    "These calculations are spin-polarized (without spin-orbit coupling), use a Gaussian smearing and perform a variable-cell relaxation of the full unit cell.\n",
    "The goal of this part of the tutorial is to have you utilize what you have learnt in the previous sections and “screen” for magnetic and metallic perovskites in a “high-throughput” way.\n",
    "As you learned previously in the tutorial, AiiDA allows to organize calculations into groups.\n",
    "Once more check the list of groups in your database by typing:"
   ]
  },
  {
   "cell_type": "code",
   "execution_count": 28,
   "id": "e9956ab5",
   "metadata": {
    "execution": {
     "iopub.execute_input": "2021-07-06T07:13:06.973027Z",
     "iopub.status.busy": "2021-07-06T07:13:06.972388Z",
     "iopub.status.idle": "2021-07-06T07:13:08.397435Z",
     "shell.execute_reply": "2021-07-06T07:13:08.397865Z"
    },
    "tags": [
     "hide-output"
    ]
   },
   "outputs": [
    {
     "name": "stdout",
     "output_type": "stream",
     "text": [
      "-"
     ]
    },
    {
     "name": "stdout",
     "output_type": "stream",
     "text": [
      "\b/"
     ]
    },
    {
     "name": "stdout",
     "output_type": "stream",
     "text": [
      "\b"
     ]
    },
    {
     "name": "stdout",
     "output_type": "stream",
     "text": [
      "|"
     ]
    },
    {
     "name": "stdout",
     "output_type": "stream",
     "text": [
      "\b"
     ]
    },
    {
     "name": "stdout",
     "output_type": "stream",
     "text": [
      "\u001b[22m  PK  Label            Type string    User\r\n",
      "----  ---------------  -------------  -----------------\r\n",
      "   1  tutorial_pbesol  core           aiida@localhost\r\n",
      "   2  tutorial_lda     core           aiida@localhost\r\n",
      "   3  tutorial_pbe     core           aiida@localhost\r\n",
      "   4  GBRV_lda         core.upf       aiida@localhost\r\n",
      "   5  GBRV_pbe         core.upf       aiida@localhost\r\n",
      "   6  GBRV_pbesol      core.upf       aiida@localhost\r\n",
      "   7  20210706-063845  core.import    aiidateam@epfl.ch\u001b[0m\r\n"
     ]
    }
   ],
   "source": [
    "!verdi group list -a -A"
   ]
  },
  {
   "cell_type": "markdown",
   "id": "441159ff",
   "metadata": {},
   "source": [
    "The calculations needed for this task were put into three different groups whose labels start with `'tutorial'` (one for each pseudopotential family).\n",
    "The main task is to make a plot showing, for all perovskites and for each pseudopotential family, the total magnetization and the $-TS$ contribution from the smearing to the total energy."
   ]
  },
  {
   "cell_type": "markdown",
   "id": "2bbc9077",
   "metadata": {},
   "source": [
    "### Start building the query\n",
    "\n",
    "First you should instantiate a `QueryBuilder` instance.\n",
    "To this, you can `append` the groups of interest, which means that you should select only groups that start with the string `tutorial_`.\n",
    "The query can be executed after this `append` (this will not affect the final results) to check whether 3 groups are retrieved."
   ]
  },
  {
   "cell_type": "code",
   "execution_count": 29,
   "id": "f21a7183",
   "metadata": {
    "execution": {
     "iopub.execute_input": "2021-07-06T07:13:08.407200Z",
     "iopub.status.busy": "2021-07-06T07:13:08.406598Z",
     "iopub.status.idle": "2021-07-06T07:13:08.452863Z",
     "shell.execute_reply": "2021-07-06T07:13:08.453258Z"
    },
    "tags": [
     "hide-output"
    ]
   },
   "outputs": [
    {
     "name": "stdout",
     "output_type": "stream",
     "text": [
      "Groups: tutorial_lda, tutorial_pbe, tutorial_pbesol\n"
     ]
    },
    {
     "name": "stderr",
     "output_type": "stream",
     "text": [
      "/Users/chrisjsewell/Documents/GitHub/aiida-tutorials/.tox/notebooks/lib/python3.9/site-packages/aiida/orm/querybuilder.py:1839: AiidaDeprecationWarning: method is deprecated, use the `queryhelp` property instead\n",
      "  warnings.warn('method is deprecated, use the `queryhelp` property instead', AiidaDeprecationWarning)\n"
     ]
    },
    {
     "data": {
      "image/png": "[encoded data removed]",
      "text/plain": [
       "<IPython.core.display.Image object>"
      ]
     },
     "execution_count": 29,
     "metadata": {},
     "output_type": "execute_result"
    }
   ],
   "source": [
    "query = QueryBuilder()\n",
    "query.append(\n",
    "    Group,\n",
    "    filters={\n",
    "        'label': {'like': 'tutorial_%'}\n",
    "    },\n",
    "    project='label',\n",
    "    tag='group'\n",
    ")\n",
    "# Visualize:\n",
    "print(\"Groups:\", ', '.join([g for g, in query.all()]))\n",
    "generate_query_graph(query.get_json_compatible_queryhelp(), 'query3.png')\n",
    "Image(filename='query3.png')"
   ]
  },
  {
   "cell_type": "markdown",
   "id": "daff0fa3",
   "metadata": {},
   "source": [
    ":::{important}\n",
    "\n",
    "Most of the code cells below are incomplete, and need to be completed as an exercise.\n",
    "Look for the comments for more instructions.\n",
    "\n",
    ":::\n",
    "\n",
    "### Append the calculations that are members of each group\n",
    "\n",
    "Try to complete the incomplete lines below:"
   ]
  },
  {
   "cell_type": "code",
   "execution_count": 30,
   "id": "b64e5dd0",
   "metadata": {
    "execution": {
     "iopub.execute_input": "2021-07-06T07:13:08.457827Z",
     "iopub.status.busy": "2021-07-06T07:13:08.457216Z",
     "iopub.status.idle": "2021-07-06T07:13:08.459742Z",
     "shell.execute_reply": "2021-07-06T07:13:08.460133Z"
    },
    "tags": [
     "raises-exception",
     "remove-output"
    ]
   },
   "outputs": [
    {
     "ename": "SyntaxError",
     "evalue": "expression cannot contain assignment, perhaps you meant \"==\"? (3468577197.py, line 2)",
     "output_type": "error",
     "traceback": [
      "\u001b[0;36m  File \u001b[0;32m\"/var/folders/t2/xbl15_3n4tsb1vr_ccmmtmbr0000gn/T/ipykernel_78489/3468577197.py\"\u001b[0;36m, line \u001b[0;32m2\u001b[0m\n\u001b[0;31m    query.append(PwCalculation, tag='calculation', with_group=) # Complete the function call with the correct relationship-tag!\u001b[0m\n\u001b[0m                                                   ^\u001b[0m\n\u001b[0;31mSyntaxError\u001b[0m\u001b[0;31m:\u001b[0m expression cannot contain assignment, perhaps you meant \"==\"?\n"
     ]
    }
   ],
   "source": [
    "# Retrieve every PwCalculation that is a member of the specified groups:\n",
    "query.append(PwCalculation, tag='calculation', with_group=) # Complete the function call with the correct relationship-tag!\n",
    "# Visualize:\n",
    "generate_query_graph(query.get_json_compatible_queryhelp(), 'query4.png')\n",
    "Image(filename='query4.png')"
   ]
  },
  {
   "cell_type": "markdown",
   "id": "80aeaffa",
   "metadata": {},
   "source": [
    "### Append the structures that are inputs to the calculation\n",
    "\n",
    "We want to furthermore retrieve the crystal structures used as inputs for the calculations.\n",
    "This can be done by an `append` `StructureData`, and defining the relationship with the calculations with an appropriate relationship keyword, in this case `with_outgoing`.\n",
    "\n",
    "For simplicity the formulas have been added in the `extras` of each crystal structure node under the key `formula`.\n",
    "(The function that does this is called `store_formula_in_extra` and can be found in the first cell of this notebook.)\n",
    "\n",
    "Try to finish the code block below to project the formula, stored in the `extras` under the key `formula`."
   ]
  },
  {
   "cell_type": "code",
   "execution_count": 31,
   "id": "44822669",
   "metadata": {
    "execution": {
     "iopub.execute_input": "2021-07-06T07:13:08.464982Z",
     "iopub.status.busy": "2021-07-06T07:13:08.464146Z",
     "iopub.status.idle": "2021-07-06T07:13:08.467626Z",
     "shell.execute_reply": "2021-07-06T07:13:08.468008Z"
    },
    "tags": [
     "raises-exception",
     "remove-output"
    ]
   },
   "outputs": [
    {
     "ename": "SyntaxError",
     "evalue": "expression cannot contain assignment, perhaps you meant \"==\"? (602642116.py, line 1)",
     "output_type": "error",
     "traceback": [
      "\u001b[0;36m  File \u001b[0;32m\"/var/folders/t2/xbl15_3n4tsb1vr_ccmmtmbr0000gn/T/ipykernel_78489/602642116.py\"\u001b[0;36m, line \u001b[0;32m1\u001b[0m\n\u001b[0;31m    query.append(StructureData, project=, tag='structure', with_outgoing=) # Complete the function call with the correct relationship-tag!\u001b[0m\n\u001b[0m                                ^\u001b[0m\n\u001b[0;31mSyntaxError\u001b[0m\u001b[0;31m:\u001b[0m expression cannot contain assignment, perhaps you meant \"==\"?\n"
     ]
    }
   ],
   "source": [
    "query.append(StructureData, project=, tag='structure', with_outgoing=) # Complete the function call with the correct relationship-tag!\n",
    "# Visualize:\n",
    "generate_query_graph(query.get_json_compatible_queryhelp(), 'query5.png')\n",
    "Image(filename='query5.png')"
   ]
  },
  {
   "cell_type": "markdown",
   "id": "e856dc14",
   "metadata": {},
   "source": [
    "### Append the output of the calculation\n",
    "\n",
    "Every successful `PwCalculation` outputs a `Dict` node that stores the parsed results as key/value-pairs.\n",
    "You can find these pairs among the attributes of the `Dict` node.\n",
    "To facilitate querying, the parser takes care of always storing the values in the same units.\n",
    "For convenience, the units are also added as key/value-pairs (with the same key name, but with `_units` appended).\n",
    "Extend the query so that also the output `Dict` of each calculation is returned.\n",
    "Project only the attributes relevant to your analysis.\n",
    "\n",
    "In particular, project (in this order):\n",
    "\n",
    "* The smearing contribution;\n",
    "* The units of the smearing contribution;\n",
    "* The magnetization; and\n",
    "* The units of the magnetization.\n",
    "\n",
    "(To know the projection keys, you can try to load one `CalcJobNode` from one of the groups, get its output `Dict` and inspect its `attributes` as discussed before, to see the key/value-pairs that have been parsed.)"
   ]
  },
  {
   "cell_type": "code",
   "execution_count": 32,
   "id": "0b1b3ed7",
   "metadata": {
    "execution": {
     "iopub.execute_input": "2021-07-06T07:13:08.473638Z",
     "iopub.status.busy": "2021-07-06T07:13:08.472982Z",
     "iopub.status.idle": "2021-07-06T07:13:08.475606Z",
     "shell.execute_reply": "2021-07-06T07:13:08.475985Z"
    },
    "tags": [
     "raises-exception",
     "remove-output"
    ]
   },
   "outputs": [
    {
     "ename": "SyntaxError",
     "evalue": "expression cannot contain assignment, perhaps you meant \"==\"? (2178412746.py, line 1)",
     "output_type": "error",
     "traceback": [
      "\u001b[0;36m  File \u001b[0;32m\"/var/folders/t2/xbl15_3n4tsb1vr_ccmmtmbr0000gn/T/ipykernel_78489/2178412746.py\"\u001b[0;36m, line \u001b[0;32m1\u001b[0m\n\u001b[0;31m    query.append(Dict, tag='results', project=['attributes.energy_smearing', ...], with_incoming=) # Complete the function call with the correct relationship-tag!\u001b[0m\n\u001b[0m                                                                                   ^\u001b[0m\n\u001b[0;31mSyntaxError\u001b[0m\u001b[0;31m:\u001b[0m expression cannot contain assignment, perhaps you meant \"==\"?\n"
     ]
    }
   ],
   "source": [
    "query.append(Dict, tag='results', project=['attributes.energy_smearing', ...], with_incoming=) # Complete the function call with the correct relationship-tag!\n",
    "# Visualize:\n",
    "generate_query_graph(query.get_json_compatible_queryhelp(), 'query6.png')\n",
    "Image(filename='query6.png')"
   ]
  },
  {
   "cell_type": "markdown",
   "id": "dd4072fd",
   "metadata": {},
   "source": [
    "### Print the query results\n",
    "\n",
    "You can print the results to see if everything worked as expected."
   ]
  },
  {
   "cell_type": "code",
   "execution_count": 33,
   "id": "dcc34d81",
   "metadata": {
    "execution": {
     "iopub.execute_input": "2021-07-06T07:13:08.480816Z",
     "iopub.status.busy": "2021-07-06T07:13:08.480163Z",
     "iopub.status.idle": "2021-07-06T07:13:08.483058Z",
     "shell.execute_reply": "2021-07-06T07:13:08.483658Z"
    },
    "tags": [
     "hide-output"
    ]
   },
   "outputs": [
    {
     "name": "stdout",
     "output_type": "stream",
     "text": [
      "tutorial_lda\n",
      "tutorial_pbe\n",
      "tutorial_pbesol\n"
     ]
    }
   ],
   "source": [
    "results = query.all()\n",
    "for item in results:\n",
    "    print(', '.join(map(str, item)))"
   ]
  },
  {
   "cell_type": "markdown",
   "id": "b4c0aac2",
   "metadata": {},
   "source": [
    "### Plot the results\n",
    "\n",
    "Getting a long list is not always helpful, and a graph can be much more clear and useful.\n",
    "To help you, we have already prepared a function that visualizes the results of the query.\n",
    "Run the following cell and you should get a graph with the results of your queries."
   ]
  },
  {
   "cell_type": "code",
   "execution_count": 34,
   "id": "218cd669",
   "metadata": {
    "execution": {
     "iopub.execute_input": "2021-07-06T07:13:08.492809Z",
     "iopub.status.busy": "2021-07-06T07:13:08.487730Z",
     "iopub.status.idle": "2021-07-06T07:13:08.505836Z",
     "shell.execute_reply": "2021-07-06T07:13:08.506290Z"
    },
    "tags": [
     "raises-exception",
     "remove-output"
    ]
   },
   "outputs": [
    {
     "ename": "ValueError",
     "evalue": "not enough values to unpack (expected 6, got 1)",
     "output_type": "error",
     "traceback": [
      "\u001b[0;31m---------------------------------------------------------------------------\u001b[0m",
      "\u001b[0;31mValueError\u001b[0m                                Traceback (most recent call last)",
      "\u001b[0;32m/var/folders/t2/xbl15_3n4tsb1vr_ccmmtmbr0000gn/T/ipykernel_78489/1125434548.py\u001b[0m in \u001b[0;36m<module>\u001b[0;34m\u001b[0m\n\u001b[0;32m----> 1\u001b[0;31m \u001b[0mplot_results\u001b[0m\u001b[0;34m(\u001b[0m\u001b[0mresults\u001b[0m\u001b[0;34m)\u001b[0m\u001b[0;34m\u001b[0m\u001b[0;34m\u001b[0m\u001b[0m\n\u001b[0m",
      "\u001b[0;32m/var/folders/t2/xbl15_3n4tsb1vr_ccmmtmbr0000gn/T/ipykernel_78489/3550446730.py\u001b[0m in \u001b[0;36mplot_results\u001b[0;34m(query_res)\u001b[0m\n\u001b[1;32m     21\u001b[0m     \u001b[0;31m# Storing results:\u001b[0m\u001b[0;34m\u001b[0m\u001b[0;34m\u001b[0m\u001b[0;34m\u001b[0m\u001b[0m\n\u001b[1;32m     22\u001b[0m     \u001b[0mresults_dict\u001b[0m \u001b[0;34m=\u001b[0m \u001b[0;34m{\u001b[0m\u001b[0;34m}\u001b[0m\u001b[0;34m\u001b[0m\u001b[0;34m\u001b[0m\u001b[0m\n\u001b[0;32m---> 23\u001b[0;31m     \u001b[0;32mfor\u001b[0m \u001b[0mpseudo_family\u001b[0m\u001b[0;34m,\u001b[0m \u001b[0mformula\u001b[0m\u001b[0;34m,\u001b[0m \u001b[0msmearing\u001b[0m\u001b[0;34m,\u001b[0m \u001b[0msmearing_units\u001b[0m\u001b[0;34m,\u001b[0m \u001b[0mmag\u001b[0m\u001b[0;34m,\u001b[0m \u001b[0mmag_units\u001b[0m \u001b[0;32min\u001b[0m \u001b[0mquery_res\u001b[0m\u001b[0;34m:\u001b[0m\u001b[0;34m\u001b[0m\u001b[0;34m\u001b[0m\u001b[0m\n\u001b[0m\u001b[1;32m     24\u001b[0m         \u001b[0;32mif\u001b[0m \u001b[0mformula\u001b[0m \u001b[0;32mnot\u001b[0m \u001b[0;32min\u001b[0m \u001b[0mresults_dict\u001b[0m\u001b[0;34m:\u001b[0m\u001b[0;34m\u001b[0m\u001b[0;34m\u001b[0m\u001b[0m\n\u001b[1;32m     25\u001b[0m             \u001b[0mresults_dict\u001b[0m\u001b[0;34m[\u001b[0m\u001b[0mformula\u001b[0m\u001b[0;34m]\u001b[0m \u001b[0;34m=\u001b[0m \u001b[0;34m{\u001b[0m\u001b[0;34m}\u001b[0m\u001b[0;34m\u001b[0m\u001b[0;34m\u001b[0m\u001b[0m\n",
      "\u001b[0;31mValueError\u001b[0m: not enough values to unpack (expected 6, got 1)"
     ]
    }
   ],
   "source": [
    "plot_results(results)"
   ]
  }
 ],
 "metadata": {
  "kernelspec": {
   "display_name": "Python 3",
   "language": "python",
   "name": "python3"
  },
  "language_info": {
   "codemirror_mode": {
    "name": "ipython",
    "version": 3
   },
   "file_extension": ".py",
   "mimetype": "text/x-python",
   "name": "python",
   "nbconvert_exporter": "python",
   "pygments_lexer": "ipython3",
   "version": "3.9.5"
  }
 },
 "nbformat": 4,
 "nbformat_minor": 5
}
